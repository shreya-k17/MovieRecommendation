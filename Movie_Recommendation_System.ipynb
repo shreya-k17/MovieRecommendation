{
  "cells": [
    {
      "cell_type": "markdown",
      "metadata": {
        "id": "view-in-github",
        "colab_type": "text"
      },
      "source": [
        "<a href=\"https://colab.research.google.com/github/shreya-k17/MovieRecommendation/blob/main/Movie_Recommendation_System.ipynb\" target=\"_parent\"><img src=\"https://colab.research.google.com/assets/colab-badge.svg\" alt=\"Open In Colab\"/></a>"
      ]
    },
    {
      "cell_type": "code",
      "execution_count": null,
      "metadata": {
        "id": "E12EqP9EFOHT"
      },
      "outputs": [],
      "source": [
        "import numpy as np\n",
        "import pandas as pd\n",
        "import difflib\n",
        "from sklearn.metrics.pairwise import cosine_similarity\n",
        "from sklearn.feature_extraction.text import TfidfVectorizer\n"
      ]
    },
    {
      "cell_type": "code",
      "execution_count": null,
      "metadata": {
        "colab": {
          "base_uri": "https://localhost:8080/"
        },
        "id": "nhYFTF4ZKQvz",
        "outputId": "83992b64-9b1a-4763-ccc9-749fc9a2a94e"
      },
      "outputs": [
        {
          "output_type": "stream",
          "name": "stderr",
          "text": [
            "<ipython-input-9-d8bed07ef8e6>:3: DtypeWarning: Columns (0,1,4,9,13,14,19,20,24,25,26,27,28,29,30,31,32,33,34,35,36,37,38,39,40,41,42,43,44,45,46,47,48,49,50,51,52,53,54,55,56,57,58,59,60,61,62,63,64,65,66,67,68,69,70,71,72,73,74,75,76,77,78,79,80,81,82,83,84,85,86,87,88,89,90,91,92,93,94,95,96,97,98,99,100,101,102,103,104,105,106,107,108,109,110,111,112,113,114,115,116,117,118,119,120,121,122,123,124,125,126,127,128,129,130,131,132,133,134,135,136,137,138,139,140,141,142,143,144,145,146,147,148,149,150,151,152,153,154,155,156,157,158,159,160,161,162,163,164,165,166,167,168,169,170,171,172,173,174,175,176,177,178,179,180,181,182,183,184,185,186,187,188,189,190,191,192,193,194,195,196,197,198,199,200,201,202,203,204,205,206,207,208,209,210,211,212,213,214,215,216,217,218,219,220,221,222,223,224,225,226,227,228,229,230,231,232,233,234,235,236,237,238,239,240,241,242,243,244,245,246,247,248,249,250,251,252,253,254,255,256,257,258,259,260,261,262,263,264,265,266,267,268,269,270,271,272,273,274,275,276,277,278,279,280,281,282,283,284,285,286,287,288,289,290,291,292,293,294,295,296,297,298,299,300,301,302,303,304,305,306,307,308,309,310,311,312,313,314,315,316,317,318,319,320,321,322,323,324,325,326,327,328,329,330,331,332,333,334,335,336,337,338,339,340,341,342,343,344,345,346,347,348,349,350,351,352,353,354,355,356,357,358,359,360,361,362,363,364,365,366,367,368,369,370,371,372,373,374,375,376,377,378,379,380,381,382,383,384,385,386,387,388,389,390,391,392,393,394,395,396,397,398,399,400,401,402,403,404,405,406,407,408,409,410,411,412,413,414,415,416,417,418,419,420,421,422,423,424,425,426,427,428,429,430,431,432,433,434,435,436,437,438,439,440,441,442,443,444,445,446,447,448,449,450,451,452,453,454,455,456,457,458,459,460,461,462,463,464,465,466,467,468,469,470,471,472,473,474,475,476,477,478,479,480,481,482,483,484,485,486,487,488,489,490,491,492,493,494,495,496,497,498,499,500,501,502,503,504,505,506,507,508,509,510,511,512,513,514,515,516,517,518,519,520,521,522,523,524,525,526,527,528,529,530,531,532,533,534,535,536,537,538,539,540,541,542,543,544,545,546,547,548,549,550,551,552,553,554,555,556,557,558,559,560,561,562,563,564,565,566,567,568,569,570,571,572,573,574,575,576,577,578,579,580,581,582,583,584,585,586,587,588,589,590,591,592,593,594,595,596,597,598,599,600,601,602,603,604,605,606,607,608,609,610,611,612,613,614,615,616,617,618,619,620,621,622,623,624,625,626,627,628,629,630,631,632,633,634,635,636,637,638,639,640,641,642,643,644,645,646,647,648,649,650,651,652,653,654,655,656,657,658,659,660,661,662,663,664,665,666,667,668,669,670,671,672,673,674,675,676,677,678,679,680,681,682,683,684,685,686,687,688,689,690,691,692,693,694,695,696,697,698,699,700,701,702,703,704,705,706,707,708,709,710,711,712,713,714,715,716,717,718,719,720,721,722,723,724,725,726,727,728,729,730,731,732,733,734,735,736,737,738,739,740,741,742,743,744,745,746,747,748,749,750,751,752,753,754,755,756,757,758,759,760,761,762,763,764,765,766,767,768,769,770,771,772,773,774,775,776,777,778,779,780,781,782,783,784,785,786,787,788,789,790,791,792,793,794,795,796,797,798,799,800,801,802,803,804,805,806,807,808,809,810,811,812,813,814,815,816,817,818,819,820,821,822,823,824,825,826,827,828,829,830,831,832,833,834,835,836,837,838,839,840,841,842,843,844,845,846,847,848,849,850,851,852,853,854,855,856,857,858,859,860,861,862,863,864,865,866,867,868,869,870,871,872,873,874,875,876,877,878,879,880,881,882,883,884,885,886,887,888,889,890,891,892,893,894,895,896,897,898,899,900,901,902,903,904,905,906,907,908,909,910,911,912,913,914,915,916,917,918,919,920,921,922,923,924,925,926,927,928,929,930,931,932,933,934,935,936,937,938,939,940,941,942,943,944,945,946,947,948,949,950,951,952,953,954,955,956,957,958,959,960,961,962,963,964,965,966,967,968,969,970,971,972,973,974,975,976,977,978,979,980,981,982,983,984,985,986,987,988,989,990,991,992,993,994,995,996,997,998,999,1000,1001,1002,1003,1004,1005,1006,1007,1008,1009,1010,1011,1012,1013,1014,1015,1016,1017,1018,1019,1020,1021,1022,1023,1024,1025,1026,1027,1028,1029,1030,1031,1032,1033,1034,1035,1036,1037,1038,1039,1040,1041,1042,1043,1044,1045,1046,1047,1048,1049,1050,1051,1052,1053,1054,1055,1056,1057,1058,1059,1060,1061,1062,1063,1064,1065,1066,1067,1068,1069,1070,1071,1072,1073,1074,1075,1076,1077,1078,1079,1080,1081,1082,1083,1084,1085,1086,1087,1088,1089,1090,1091,1092,1093,1094,1095,1096,1097,1098,1099,1100,1101,1102,1103,1104,1105,1106,1107,1108,1109,1110,1111,1112,1113,1114,1115,1116,1117,1118,1119,1120,1121,1122,1123,1124,1125,1126,1127,1128,1129,1130,1131,1132,1133,1134,1135,1136,1137,1138,1139,1140,1141,1142,1143,1144,1145,1146,1147,1148,1149,1150,1151,1152,1153,1154,1155,1156,1157,1158,1159,1160,1161,1162,1163,1164,1165,1166,1167,1168,1169,1170,1171,1172,1173,1174,1175,1176,1177,1178,1179,1180,1181,1182,1183,1184,1185,1186,1187,1188,1189,1190,1191,1192,1193,1194,1195,1196,1197,1198,1199,1200,1201,1202,1203,1204,1205,1206,1207,1208,1209,1210,1211,1212,1213,1214,1215,1216,1217,1218,1219,1220,1221,1222,1223,1224,1225,1226,1227,1228,1229,1230,1231,1232,1233,1234,1235,1236,1237,1238,1239,1240,1241,1242,1243,1244,1245,1246,1247,1248,1249,1250,1251,1252,1253,1254,1255,1256,1257,1258,1259,1260,1261,1262,1263,1264) have mixed types. Specify dtype option on import or set low_memory=False.\n",
            "  movies_data= pd.read_csv('/movies.csv')\n"
          ]
        }
      ],
      "source": [
        "#Data Collection and pre-processing\n",
        "#loading the dataframe from csv file to the dataframe\n",
        "movies_data= pd.read_csv('/movies.csv')"
      ]
    },
    {
      "cell_type": "code",
      "source": [
        "#from google.colab import drive\n",
        "#drive.mount('/content/drive')"
      ],
      "metadata": {
        "id": "smqq8cpCkkXT"
      },
      "execution_count": null,
      "outputs": []
    },
    {
      "cell_type": "code",
      "execution_count": null,
      "metadata": {
        "colab": {
          "base_uri": "https://localhost:8080/",
          "height": 810
        },
        "id": "-yTFt8IfLDp6",
        "outputId": "294c053b-4fbd-4b7a-c7cd-4d6ee0a4a417"
      },
      "outputs": [
        {
          "output_type": "execute_result",
          "data": {
            "text/plain": [
              "  index     budget                                    genres  \\\n",
              "0     0  237000000  Action Adventure Fantasy Science Fiction   \n",
              "1     1  300000000                  Adventure Fantasy Action   \n",
              "2     2  245000000                    Action Adventure Crime   \n",
              "3     3  250000000               Action Crime Drama Thriller   \n",
              "4     4  260000000          Action Adventure Science Fiction   \n",
              "\n",
              "                                       homepage      id  \\\n",
              "0                   http://www.avatarmovie.com/   19995   \n",
              "1  http://disney.go.com/disneypictures/pirates/     285   \n",
              "2   http://www.sonypictures.com/movies/spectre/  206647   \n",
              "3            http://www.thedarkknightrises.com/   49026   \n",
              "4          http://movies.disney.com/john-carter   49529   \n",
              "\n",
              "                                            keywords original_language  \\\n",
              "0  culture clash future space war space colony so...                en   \n",
              "1  ocean drug abuse exotic island east india trad...                en   \n",
              "2         spy based on novel secret agent sequel mi6                en   \n",
              "3  dc comics crime fighter terrorist secret ident...                en   \n",
              "4  based on novel mars medallion space travel pri...                en   \n",
              "\n",
              "                             original_title  \\\n",
              "0                                    Avatar   \n",
              "1  Pirates of the Caribbean: At World's End   \n",
              "2                                   Spectre   \n",
              "3                     The Dark Knight Rises   \n",
              "4                               John Carter   \n",
              "\n",
              "                                            overview  popularity  ...  \\\n",
              "0  In the 22nd century, a paraplegic Marine is di...  150.437577  ...   \n",
              "1  Captain Barbossa, long believed to be dead, ha...  139.082615  ...   \n",
              "2  A cryptic message from Bond’s past sends him o...  107.376788  ...   \n",
              "3  Following the death of District Attorney Harve...   112.31295  ...   \n",
              "4  John Carter is a war-weary, former military ca...   43.926995  ...   \n",
              "\n",
              "  Unnamed: 1255 Unnamed: 1256 Unnamed: 1257 Unnamed: 1258 Unnamed: 1259  \\\n",
              "0           NaN           NaN           NaN           NaN           NaN   \n",
              "1           NaN           NaN           NaN           NaN           NaN   \n",
              "2           NaN           NaN           NaN           NaN           NaN   \n",
              "3           NaN           NaN           NaN           NaN           NaN   \n",
              "4           NaN           NaN           NaN           NaN           NaN   \n",
              "\n",
              "  Unnamed: 1260 Unnamed: 1261 Unnamed: 1262 Unnamed: 1263 Unnamed: 1264  \n",
              "0           NaN           NaN           NaN           NaN           NaN  \n",
              "1           NaN           NaN           NaN           NaN           NaN  \n",
              "2           NaN           NaN           NaN           NaN           NaN  \n",
              "3           NaN           NaN           NaN           NaN           NaN  \n",
              "4           NaN           NaN           NaN           NaN           NaN  \n",
              "\n",
              "[5 rows x 1265 columns]"
            ],
            "text/html": [
              "\n",
              "  <div id=\"df-b0c26d06-9ed2-4ec7-892e-4e2ecb761977\" class=\"colab-df-container\">\n",
              "    <div>\n",
              "<style scoped>\n",
              "    .dataframe tbody tr th:only-of-type {\n",
              "        vertical-align: middle;\n",
              "    }\n",
              "\n",
              "    .dataframe tbody tr th {\n",
              "        vertical-align: top;\n",
              "    }\n",
              "\n",
              "    .dataframe thead th {\n",
              "        text-align: right;\n",
              "    }\n",
              "</style>\n",
              "<table border=\"1\" class=\"dataframe\">\n",
              "  <thead>\n",
              "    <tr style=\"text-align: right;\">\n",
              "      <th></th>\n",
              "      <th>index</th>\n",
              "      <th>budget</th>\n",
              "      <th>genres</th>\n",
              "      <th>homepage</th>\n",
              "      <th>id</th>\n",
              "      <th>keywords</th>\n",
              "      <th>original_language</th>\n",
              "      <th>original_title</th>\n",
              "      <th>overview</th>\n",
              "      <th>popularity</th>\n",
              "      <th>...</th>\n",
              "      <th>Unnamed: 1255</th>\n",
              "      <th>Unnamed: 1256</th>\n",
              "      <th>Unnamed: 1257</th>\n",
              "      <th>Unnamed: 1258</th>\n",
              "      <th>Unnamed: 1259</th>\n",
              "      <th>Unnamed: 1260</th>\n",
              "      <th>Unnamed: 1261</th>\n",
              "      <th>Unnamed: 1262</th>\n",
              "      <th>Unnamed: 1263</th>\n",
              "      <th>Unnamed: 1264</th>\n",
              "    </tr>\n",
              "  </thead>\n",
              "  <tbody>\n",
              "    <tr>\n",
              "      <th>0</th>\n",
              "      <td>0</td>\n",
              "      <td>237000000</td>\n",
              "      <td>Action Adventure Fantasy Science Fiction</td>\n",
              "      <td>http://www.avatarmovie.com/</td>\n",
              "      <td>19995</td>\n",
              "      <td>culture clash future space war space colony so...</td>\n",
              "      <td>en</td>\n",
              "      <td>Avatar</td>\n",
              "      <td>In the 22nd century, a paraplegic Marine is di...</td>\n",
              "      <td>150.437577</td>\n",
              "      <td>...</td>\n",
              "      <td>NaN</td>\n",
              "      <td>NaN</td>\n",
              "      <td>NaN</td>\n",
              "      <td>NaN</td>\n",
              "      <td>NaN</td>\n",
              "      <td>NaN</td>\n",
              "      <td>NaN</td>\n",
              "      <td>NaN</td>\n",
              "      <td>NaN</td>\n",
              "      <td>NaN</td>\n",
              "    </tr>\n",
              "    <tr>\n",
              "      <th>1</th>\n",
              "      <td>1</td>\n",
              "      <td>300000000</td>\n",
              "      <td>Adventure Fantasy Action</td>\n",
              "      <td>http://disney.go.com/disneypictures/pirates/</td>\n",
              "      <td>285</td>\n",
              "      <td>ocean drug abuse exotic island east india trad...</td>\n",
              "      <td>en</td>\n",
              "      <td>Pirates of the Caribbean: At World's End</td>\n",
              "      <td>Captain Barbossa, long believed to be dead, ha...</td>\n",
              "      <td>139.082615</td>\n",
              "      <td>...</td>\n",
              "      <td>NaN</td>\n",
              "      <td>NaN</td>\n",
              "      <td>NaN</td>\n",
              "      <td>NaN</td>\n",
              "      <td>NaN</td>\n",
              "      <td>NaN</td>\n",
              "      <td>NaN</td>\n",
              "      <td>NaN</td>\n",
              "      <td>NaN</td>\n",
              "      <td>NaN</td>\n",
              "    </tr>\n",
              "    <tr>\n",
              "      <th>2</th>\n",
              "      <td>2</td>\n",
              "      <td>245000000</td>\n",
              "      <td>Action Adventure Crime</td>\n",
              "      <td>http://www.sonypictures.com/movies/spectre/</td>\n",
              "      <td>206647</td>\n",
              "      <td>spy based on novel secret agent sequel mi6</td>\n",
              "      <td>en</td>\n",
              "      <td>Spectre</td>\n",
              "      <td>A cryptic message from Bond’s past sends him o...</td>\n",
              "      <td>107.376788</td>\n",
              "      <td>...</td>\n",
              "      <td>NaN</td>\n",
              "      <td>NaN</td>\n",
              "      <td>NaN</td>\n",
              "      <td>NaN</td>\n",
              "      <td>NaN</td>\n",
              "      <td>NaN</td>\n",
              "      <td>NaN</td>\n",
              "      <td>NaN</td>\n",
              "      <td>NaN</td>\n",
              "      <td>NaN</td>\n",
              "    </tr>\n",
              "    <tr>\n",
              "      <th>3</th>\n",
              "      <td>3</td>\n",
              "      <td>250000000</td>\n",
              "      <td>Action Crime Drama Thriller</td>\n",
              "      <td>http://www.thedarkknightrises.com/</td>\n",
              "      <td>49026</td>\n",
              "      <td>dc comics crime fighter terrorist secret ident...</td>\n",
              "      <td>en</td>\n",
              "      <td>The Dark Knight Rises</td>\n",
              "      <td>Following the death of District Attorney Harve...</td>\n",
              "      <td>112.31295</td>\n",
              "      <td>...</td>\n",
              "      <td>NaN</td>\n",
              "      <td>NaN</td>\n",
              "      <td>NaN</td>\n",
              "      <td>NaN</td>\n",
              "      <td>NaN</td>\n",
              "      <td>NaN</td>\n",
              "      <td>NaN</td>\n",
              "      <td>NaN</td>\n",
              "      <td>NaN</td>\n",
              "      <td>NaN</td>\n",
              "    </tr>\n",
              "    <tr>\n",
              "      <th>4</th>\n",
              "      <td>4</td>\n",
              "      <td>260000000</td>\n",
              "      <td>Action Adventure Science Fiction</td>\n",
              "      <td>http://movies.disney.com/john-carter</td>\n",
              "      <td>49529</td>\n",
              "      <td>based on novel mars medallion space travel pri...</td>\n",
              "      <td>en</td>\n",
              "      <td>John Carter</td>\n",
              "      <td>John Carter is a war-weary, former military ca...</td>\n",
              "      <td>43.926995</td>\n",
              "      <td>...</td>\n",
              "      <td>NaN</td>\n",
              "      <td>NaN</td>\n",
              "      <td>NaN</td>\n",
              "      <td>NaN</td>\n",
              "      <td>NaN</td>\n",
              "      <td>NaN</td>\n",
              "      <td>NaN</td>\n",
              "      <td>NaN</td>\n",
              "      <td>NaN</td>\n",
              "      <td>NaN</td>\n",
              "    </tr>\n",
              "  </tbody>\n",
              "</table>\n",
              "<p>5 rows × 1265 columns</p>\n",
              "</div>\n",
              "    <div class=\"colab-df-buttons\">\n",
              "\n",
              "  <div class=\"colab-df-container\">\n",
              "    <button class=\"colab-df-convert\" onclick=\"convertToInteractive('df-b0c26d06-9ed2-4ec7-892e-4e2ecb761977')\"\n",
              "            title=\"Convert this dataframe to an interactive table.\"\n",
              "            style=\"display:none;\">\n",
              "\n",
              "  <svg xmlns=\"http://www.w3.org/2000/svg\" height=\"24px\" viewBox=\"0 -960 960 960\">\n",
              "    <path d=\"M120-120v-720h720v720H120Zm60-500h600v-160H180v160Zm220 220h160v-160H400v160Zm0 220h160v-160H400v160ZM180-400h160v-160H180v160Zm440 0h160v-160H620v160ZM180-180h160v-160H180v160Zm440 0h160v-160H620v160Z\"/>\n",
              "  </svg>\n",
              "    </button>\n",
              "\n",
              "  <style>\n",
              "    .colab-df-container {\n",
              "      display:flex;\n",
              "      gap: 12px;\n",
              "    }\n",
              "\n",
              "    .colab-df-convert {\n",
              "      background-color: #E8F0FE;\n",
              "      border: none;\n",
              "      border-radius: 50%;\n",
              "      cursor: pointer;\n",
              "      display: none;\n",
              "      fill: #1967D2;\n",
              "      height: 32px;\n",
              "      padding: 0 0 0 0;\n",
              "      width: 32px;\n",
              "    }\n",
              "\n",
              "    .colab-df-convert:hover {\n",
              "      background-color: #E2EBFA;\n",
              "      box-shadow: 0px 1px 2px rgba(60, 64, 67, 0.3), 0px 1px 3px 1px rgba(60, 64, 67, 0.15);\n",
              "      fill: #174EA6;\n",
              "    }\n",
              "\n",
              "    .colab-df-buttons div {\n",
              "      margin-bottom: 4px;\n",
              "    }\n",
              "\n",
              "    [theme=dark] .colab-df-convert {\n",
              "      background-color: #3B4455;\n",
              "      fill: #D2E3FC;\n",
              "    }\n",
              "\n",
              "    [theme=dark] .colab-df-convert:hover {\n",
              "      background-color: #434B5C;\n",
              "      box-shadow: 0px 1px 3px 1px rgba(0, 0, 0, 0.15);\n",
              "      filter: drop-shadow(0px 1px 2px rgba(0, 0, 0, 0.3));\n",
              "      fill: #FFFFFF;\n",
              "    }\n",
              "  </style>\n",
              "\n",
              "    <script>\n",
              "      const buttonEl =\n",
              "        document.querySelector('#df-b0c26d06-9ed2-4ec7-892e-4e2ecb761977 button.colab-df-convert');\n",
              "      buttonEl.style.display =\n",
              "        google.colab.kernel.accessAllowed ? 'block' : 'none';\n",
              "\n",
              "      async function convertToInteractive(key) {\n",
              "        const element = document.querySelector('#df-b0c26d06-9ed2-4ec7-892e-4e2ecb761977');\n",
              "        const dataTable =\n",
              "          await google.colab.kernel.invokeFunction('convertToInteractive',\n",
              "                                                    [key], {});\n",
              "        if (!dataTable) return;\n",
              "\n",
              "        const docLinkHtml = 'Like what you see? Visit the ' +\n",
              "          '<a target=\"_blank\" href=https://colab.research.google.com/notebooks/data_table.ipynb>data table notebook</a>'\n",
              "          + ' to learn more about interactive tables.';\n",
              "        element.innerHTML = '';\n",
              "        dataTable['output_type'] = 'display_data';\n",
              "        await google.colab.output.renderOutput(dataTable, element);\n",
              "        const docLink = document.createElement('div');\n",
              "        docLink.innerHTML = docLinkHtml;\n",
              "        element.appendChild(docLink);\n",
              "      }\n",
              "    </script>\n",
              "  </div>\n",
              "\n",
              "\n",
              "<div id=\"df-5b2c82ad-3c0f-46bc-8d67-ac84983581f0\">\n",
              "  <button class=\"colab-df-quickchart\" onclick=\"quickchart('df-5b2c82ad-3c0f-46bc-8d67-ac84983581f0')\"\n",
              "            title=\"Suggest charts\"\n",
              "            style=\"display:none;\">\n",
              "\n",
              "<svg xmlns=\"http://www.w3.org/2000/svg\" height=\"24px\"viewBox=\"0 0 24 24\"\n",
              "     width=\"24px\">\n",
              "    <g>\n",
              "        <path d=\"M19 3H5c-1.1 0-2 .9-2 2v14c0 1.1.9 2 2 2h14c1.1 0 2-.9 2-2V5c0-1.1-.9-2-2-2zM9 17H7v-7h2v7zm4 0h-2V7h2v10zm4 0h-2v-4h2v4z\"/>\n",
              "    </g>\n",
              "</svg>\n",
              "  </button>\n",
              "\n",
              "<style>\n",
              "  .colab-df-quickchart {\n",
              "      --bg-color: #E8F0FE;\n",
              "      --fill-color: #1967D2;\n",
              "      --hover-bg-color: #E2EBFA;\n",
              "      --hover-fill-color: #174EA6;\n",
              "      --disabled-fill-color: #AAA;\n",
              "      --disabled-bg-color: #DDD;\n",
              "  }\n",
              "\n",
              "  [theme=dark] .colab-df-quickchart {\n",
              "      --bg-color: #3B4455;\n",
              "      --fill-color: #D2E3FC;\n",
              "      --hover-bg-color: #434B5C;\n",
              "      --hover-fill-color: #FFFFFF;\n",
              "      --disabled-bg-color: #3B4455;\n",
              "      --disabled-fill-color: #666;\n",
              "  }\n",
              "\n",
              "  .colab-df-quickchart {\n",
              "    background-color: var(--bg-color);\n",
              "    border: none;\n",
              "    border-radius: 50%;\n",
              "    cursor: pointer;\n",
              "    display: none;\n",
              "    fill: var(--fill-color);\n",
              "    height: 32px;\n",
              "    padding: 0;\n",
              "    width: 32px;\n",
              "  }\n",
              "\n",
              "  .colab-df-quickchart:hover {\n",
              "    background-color: var(--hover-bg-color);\n",
              "    box-shadow: 0 1px 2px rgba(60, 64, 67, 0.3), 0 1px 3px 1px rgba(60, 64, 67, 0.15);\n",
              "    fill: var(--button-hover-fill-color);\n",
              "  }\n",
              "\n",
              "  .colab-df-quickchart-complete:disabled,\n",
              "  .colab-df-quickchart-complete:disabled:hover {\n",
              "    background-color: var(--disabled-bg-color);\n",
              "    fill: var(--disabled-fill-color);\n",
              "    box-shadow: none;\n",
              "  }\n",
              "\n",
              "  .colab-df-spinner {\n",
              "    border: 2px solid var(--fill-color);\n",
              "    border-color: transparent;\n",
              "    border-bottom-color: var(--fill-color);\n",
              "    animation:\n",
              "      spin 1s steps(1) infinite;\n",
              "  }\n",
              "\n",
              "  @keyframes spin {\n",
              "    0% {\n",
              "      border-color: transparent;\n",
              "      border-bottom-color: var(--fill-color);\n",
              "      border-left-color: var(--fill-color);\n",
              "    }\n",
              "    20% {\n",
              "      border-color: transparent;\n",
              "      border-left-color: var(--fill-color);\n",
              "      border-top-color: var(--fill-color);\n",
              "    }\n",
              "    30% {\n",
              "      border-color: transparent;\n",
              "      border-left-color: var(--fill-color);\n",
              "      border-top-color: var(--fill-color);\n",
              "      border-right-color: var(--fill-color);\n",
              "    }\n",
              "    40% {\n",
              "      border-color: transparent;\n",
              "      border-right-color: var(--fill-color);\n",
              "      border-top-color: var(--fill-color);\n",
              "    }\n",
              "    60% {\n",
              "      border-color: transparent;\n",
              "      border-right-color: var(--fill-color);\n",
              "    }\n",
              "    80% {\n",
              "      border-color: transparent;\n",
              "      border-right-color: var(--fill-color);\n",
              "      border-bottom-color: var(--fill-color);\n",
              "    }\n",
              "    90% {\n",
              "      border-color: transparent;\n",
              "      border-bottom-color: var(--fill-color);\n",
              "    }\n",
              "  }\n",
              "</style>\n",
              "\n",
              "  <script>\n",
              "    async function quickchart(key) {\n",
              "      const quickchartButtonEl =\n",
              "        document.querySelector('#' + key + ' button');\n",
              "      quickchartButtonEl.disabled = true;  // To prevent multiple clicks.\n",
              "      quickchartButtonEl.classList.add('colab-df-spinner');\n",
              "      try {\n",
              "        const charts = await google.colab.kernel.invokeFunction(\n",
              "            'suggestCharts', [key], {});\n",
              "      } catch (error) {\n",
              "        console.error('Error during call to suggestCharts:', error);\n",
              "      }\n",
              "      quickchartButtonEl.classList.remove('colab-df-spinner');\n",
              "      quickchartButtonEl.classList.add('colab-df-quickchart-complete');\n",
              "    }\n",
              "    (() => {\n",
              "      let quickchartButtonEl =\n",
              "        document.querySelector('#df-5b2c82ad-3c0f-46bc-8d67-ac84983581f0 button');\n",
              "      quickchartButtonEl.style.display =\n",
              "        google.colab.kernel.accessAllowed ? 'block' : 'none';\n",
              "    })();\n",
              "  </script>\n",
              "</div>\n",
              "\n",
              "    </div>\n",
              "  </div>\n"
            ],
            "application/vnd.google.colaboratory.intrinsic+json": {
              "type": "dataframe",
              "variable_name": "movies_data"
            }
          },
          "metadata": {},
          "execution_count": 12
        }
      ],
      "source": [
        "#printing first five rows\n",
        "movies_data.head()"
      ]
    },
    {
      "cell_type": "code",
      "execution_count": null,
      "metadata": {
        "colab": {
          "base_uri": "https://localhost:8080/"
        },
        "id": "aB1gtZp3LD52",
        "outputId": "0fdad90b-bcb8-4d4b-d9c6-6211eacf3095"
      },
      "outputs": [
        {
          "output_type": "execute_result",
          "data": {
            "text/plain": [
              "(4809, 1265)"
            ]
          },
          "metadata": {},
          "execution_count": 13
        }
      ],
      "source": [
        "#number of rows and columns in the dataframe\n",
        "movies_data.shape"
      ]
    },
    {
      "cell_type": "code",
      "execution_count": null,
      "metadata": {
        "colab": {
          "base_uri": "https://localhost:8080/"
        },
        "id": "tK5ijs5mLECe",
        "outputId": "f69e92f7-a6ae-4f9b-9225-1d384b743cbb"
      },
      "outputs": [
        {
          "output_type": "stream",
          "name": "stdout",
          "text": [
            "['genres', 'keywords', 'tagline', 'cast', 'director']\n"
          ]
        }
      ],
      "source": [
        "#selecting the relavent features for recommendation\n",
        "selected_features=['genres','keywords','tagline','cast','director']\n",
        "print(selected_features)"
      ]
    },
    {
      "cell_type": "code",
      "execution_count": null,
      "metadata": {
        "id": "c97k-ZCdLEKN"
      },
      "outputs": [],
      "source": [
        "for feature in selected_features:\n",
        "  movies_data[feature]=movies_data[feature].fillna"
      ]
    },
    {
      "cell_type": "code",
      "execution_count": null,
      "metadata": {
        "id": "GcTvJeBVHmcy"
      },
      "outputs": [],
      "source": [
        "df=pd.DataFrame(movies_data)"
      ]
    },
    {
      "cell_type": "code",
      "execution_count": null,
      "metadata": {
        "id": "at78uIs_LERM"
      },
      "outputs": [],
      "source": [
        "#combining all the five selected features\n",
        "combined_features= df['genres'],' ',df['keywords'],' ',df['tagline'],' ',df['cast'],' ',df['director']"
      ]
    },
    {
      "cell_type": "code",
      "execution_count": null,
      "metadata": {
        "colab": {
          "base_uri": "https://localhost:8080/"
        },
        "id": "BjHU2ZIaJUDY",
        "outputId": "c2cabd90-4f1f-45fe-aa7f-23afa3da45ea"
      },
      "outputs": [
        {
          "output_type": "stream",
          "name": "stderr",
          "text": [
            "<ipython-input-17-eeb9cbf04d1a>:1: DtypeWarning: Columns (0,1,4,9,13,14,19,20,24,25,26,27,28,29,30,31,32,33,34,35,36,37,38,39,40,41,42,43,44,45,46,47,48,49,50,51,52,53,54,55,56,57,58,59,60,61,62,63,64,65,66,67,68,69,70,71,72,73,74,75,76,77,78,79,80,81,82,83,84,85,86,87,88,89,90,91,92,93,94,95,96,97,98,99,100,101,102,103,104,105,106,107,108,109,110,111,112,113,114,115,116,117,118,119,120,121,122,123,124,125,126,127,128,129,130,131,132,133,134,135,136,137,138,139,140,141,142,143,144,145,146,147,148,149,150,151,152,153,154,155,156,157,158,159,160,161,162,163,164,165,166,167,168,169,170,171,172,173,174,175,176,177,178,179,180,181,182,183,184,185,186,187,188,189,190,191,192,193,194,195,196,197,198,199,200,201,202,203,204,205,206,207,208,209,210,211,212,213,214,215,216,217,218,219,220,221,222,223,224,225,226,227,228,229,230,231,232,233,234,235,236,237,238,239,240,241,242,243,244,245,246,247,248,249,250,251,252,253,254,255,256,257,258,259,260,261,262,263,264,265,266,267,268,269,270,271,272,273,274,275,276,277,278,279,280,281,282,283,284,285,286,287,288,289,290,291,292,293,294,295,296,297,298,299,300,301,302,303,304,305,306,307,308,309,310,311,312,313,314,315,316,317,318,319,320,321,322,323,324,325,326,327,328,329,330,331,332,333,334,335,336,337,338,339,340,341,342,343,344,345,346,347,348,349,350,351,352,353,354,355,356,357,358,359,360,361,362,363,364,365,366,367,368,369,370,371,372,373,374,375,376,377,378,379,380,381,382,383,384,385,386,387,388,389,390,391,392,393,394,395,396,397,398,399,400,401,402,403,404,405,406,407,408,409,410,411,412,413,414,415,416,417,418,419,420,421,422,423,424,425,426,427,428,429,430,431,432,433,434,435,436,437,438,439,440,441,442,443,444,445,446,447,448,449,450,451,452,453,454,455,456,457,458,459,460,461,462,463,464,465,466,467,468,469,470,471,472,473,474,475,476,477,478,479,480,481,482,483,484,485,486,487,488,489,490,491,492,493,494,495,496,497,498,499,500,501,502,503,504,505,506,507,508,509,510,511,512,513,514,515,516,517,518,519,520,521,522,523,524,525,526,527,528,529,530,531,532,533,534,535,536,537,538,539,540,541,542,543,544,545,546,547,548,549,550,551,552,553,554,555,556,557,558,559,560,561,562,563,564,565,566,567,568,569,570,571,572,573,574,575,576,577,578,579,580,581,582,583,584,585,586,587,588,589,590,591,592,593,594,595,596,597,598,599,600,601,602,603,604,605,606,607,608,609,610,611,612,613,614,615,616,617,618,619,620,621,622,623,624,625,626,627,628,629,630,631,632,633,634,635,636,637,638,639,640,641,642,643,644,645,646,647,648,649,650,651,652,653,654,655,656,657,658,659,660,661,662,663,664,665,666,667,668,669,670,671,672,673,674,675,676,677,678,679,680,681,682,683,684,685,686,687,688,689,690,691,692,693,694,695,696,697,698,699,700,701,702,703,704,705,706,707,708,709,710,711,712,713,714,715,716,717,718,719,720,721,722,723,724,725,726,727,728,729,730,731,732,733,734,735,736,737,738,739,740,741,742,743,744,745,746,747,748,749,750,751,752,753,754,755,756,757,758,759,760,761,762,763,764,765,766,767,768,769,770,771,772,773,774,775,776,777,778,779,780,781,782,783,784,785,786,787,788,789,790,791,792,793,794,795,796,797,798,799,800,801,802,803,804,805,806,807,808,809,810,811,812,813,814,815,816,817,818,819,820,821,822,823,824,825,826,827,828,829,830,831,832,833,834,835,836,837,838,839,840,841,842,843,844,845,846,847,848,849,850,851,852,853,854,855,856,857,858,859,860,861,862,863,864,865,866,867,868,869,870,871,872,873,874,875,876,877,878,879,880,881,882,883,884,885,886,887,888,889,890,891,892,893,894,895,896,897,898,899,900,901,902,903,904,905,906,907,908,909,910,911,912,913,914,915,916,917,918,919,920,921,922,923,924,925,926,927,928,929,930,931,932,933,934,935,936,937,938,939,940,941,942,943,944,945,946,947,948,949,950,951,952,953,954,955,956,957,958,959,960,961,962,963,964,965,966,967,968,969,970,971,972,973,974,975,976,977,978,979,980,981,982,983,984,985,986,987,988,989,990,991,992,993,994,995,996,997,998,999,1000,1001,1002,1003,1004,1005,1006,1007,1008,1009,1010,1011,1012,1013,1014,1015,1016,1017,1018,1019,1020,1021,1022,1023,1024,1025,1026,1027,1028,1029,1030,1031,1032,1033,1034,1035,1036,1037,1038,1039,1040,1041,1042,1043,1044,1045,1046,1047,1048,1049,1050,1051,1052,1053,1054,1055,1056,1057,1058,1059,1060,1061,1062,1063,1064,1065,1066,1067,1068,1069,1070,1071,1072,1073,1074,1075,1076,1077,1078,1079,1080,1081,1082,1083,1084,1085,1086,1087,1088,1089,1090,1091,1092,1093,1094,1095,1096,1097,1098,1099,1100,1101,1102,1103,1104,1105,1106,1107,1108,1109,1110,1111,1112,1113,1114,1115,1116,1117,1118,1119,1120,1121,1122,1123,1124,1125,1126,1127,1128,1129,1130,1131,1132,1133,1134,1135,1136,1137,1138,1139,1140,1141,1142,1143,1144,1145,1146,1147,1148,1149,1150,1151,1152,1153,1154,1155,1156,1157,1158,1159,1160,1161,1162,1163,1164,1165,1166,1167,1168,1169,1170,1171,1172,1173,1174,1175,1176,1177,1178,1179,1180,1181,1182,1183,1184,1185,1186,1187,1188,1189,1190,1191,1192,1193,1194,1195,1196,1197,1198,1199,1200,1201,1202,1203,1204,1205,1206,1207,1208,1209,1210,1211,1212,1213,1214,1215,1216,1217,1218,1219,1220,1221,1222,1223,1224,1225,1226,1227,1228,1229,1230,1231,1232,1233,1234,1235,1236,1237,1238,1239,1240,1241,1242,1243,1244,1245,1246,1247,1248,1249,1250,1251,1252,1253,1254,1255,1256,1257,1258,1259,1260,1261,1262,1263,1264) have mixed types. Specify dtype option on import or set low_memory=False.\n",
            "  data=pd.read_csv('/movies.csv')\n"
          ]
        }
      ],
      "source": [
        "data=pd.read_csv('/movies.csv')"
      ]
    },
    {
      "cell_type": "code",
      "execution_count": null,
      "metadata": {
        "id": "WRdeyWjRJbUl"
      },
      "outputs": [],
      "source": [
        "df=pd.DataFrame(data)"
      ]
    },
    {
      "cell_type": "code",
      "execution_count": null,
      "metadata": {
        "colab": {
          "base_uri": "https://localhost:8080/"
        },
        "id": "3Pi4PLFOJyq-",
        "outputId": "26a2be9c-2ff2-4819-d8de-fa6e368023ec"
      },
      "outputs": [
        {
          "data": {
            "text/plain": [
              "0       Action Adventure Fantasy Science Fiction\n",
              "1                       Adventure Fantasy Action\n",
              "2                         Action Adventure Crime\n",
              "3                    Action Crime Drama Thriller\n",
              "4               Action Adventure Science Fiction\n",
              "                          ...                   \n",
              "4804                       Action Crime Thriller\n",
              "4805                              Comedy Romance\n",
              "4806               Comedy Drama Romance TV Movie\n",
              "4807                                         NaN\n",
              "4808                                 Documentary\n",
              "Name: genres, Length: 4809, dtype: object"
            ]
          },
          "execution_count": 48,
          "metadata": {},
          "output_type": "execute_result"
        }
      ],
      "source": [
        "df[\"genres\"]"
      ]
    },
    {
      "cell_type": "code",
      "execution_count": null,
      "metadata": {
        "id": "DT6Ksyq5J8WL"
      },
      "outputs": [],
      "source": [
        "\n",
        "combined_features= df['genres']+' '+df['keywords']+' '+df['tagline']+' '+df['cast']+' '+df['director']"
      ]
    },
    {
      "cell_type": "code",
      "execution_count": null,
      "metadata": {
        "colab": {
          "base_uri": "https://localhost:8080/"
        },
        "id": "hNEq8FD2KNEs",
        "outputId": "7e19541f-01fc-4331-bd16-738a8e4e868f"
      },
      "outputs": [
        {
          "output_type": "stream",
          "name": "stdout",
          "text": [
            "0       Action Adventure Fantasy Science Fiction cultu...\n",
            "1       Adventure Fantasy Action ocean drug abuse exot...\n",
            "2       Action Adventure Crime spy based on novel secr...\n",
            "3       Action Crime Drama Thriller dc comics crime fi...\n",
            "4       Action Adventure Science Fiction based on nove...\n",
            "                              ...                        \n",
            "4804    Action Crime Thriller united states\\u2013mexic...\n",
            "4805                                                  NaN\n",
            "4806                                                  NaN\n",
            "4807                                                  NaN\n",
            "4808                                                  NaN\n",
            "Length: 4809, dtype: object\n"
          ]
        }
      ],
      "source": [
        "print(combined_features)"
      ]
    },
    {
      "cell_type": "code",
      "execution_count": null,
      "metadata": {
        "id": "yfYWCkauKRZp"
      },
      "outputs": [],
      "source": [
        "#converting the text data into feature vector\n",
        "\n",
        "vectorizer= TfidfVectorizer()"
      ]
    },
    {
      "cell_type": "code",
      "source": [
        "combined_features.head()"
      ],
      "metadata": {
        "colab": {
          "base_uri": "https://localhost:8080/"
        },
        "id": "pA2lMuT3t6UY",
        "outputId": "cc84c716-f9e5-423f-e146-a5aa8686af25"
      },
      "execution_count": null,
      "outputs": [
        {
          "output_type": "execute_result",
          "data": {
            "text/plain": [
              "0    Action Adventure Fantasy Science Fiction cultu...\n",
              "1    Adventure Fantasy Action ocean drug abuse exot...\n",
              "2    Action Adventure Crime spy based on novel secr...\n",
              "3    Action Crime Drama Thriller dc comics crime fi...\n",
              "4    Action Adventure Science Fiction based on nove...\n",
              "dtype: object"
            ]
          },
          "metadata": {},
          "execution_count": 45
        }
      ]
    },
    {
      "cell_type": "code",
      "source": [
        "combined_features = combined_features.fillna('')\n"
      ],
      "metadata": {
        "id": "bAuA0S_u_J4W"
      },
      "execution_count": null,
      "outputs": []
    },
    {
      "cell_type": "code",
      "source": [
        "feature_vectors = vectorizer.fit_transform(combined_features)\n"
      ],
      "metadata": {
        "id": "sqnO4FE__J1Z"
      },
      "execution_count": null,
      "outputs": []
    },
    {
      "cell_type": "code",
      "source": [
        "print(feature_vectors)"
      ],
      "metadata": {
        "colab": {
          "base_uri": "https://localhost:8080/"
        },
        "id": "6zFGGbBR_Jyy",
        "outputId": "132239c9-9f54-4f33-94d4-708536475848"
      },
      "execution_count": null,
      "outputs": [
        {
          "output_type": "stream",
          "name": "stdout",
          "text": [
            "  (0, 2064)\t0.1707819490145591\n",
            "  (0, 6664)\t0.11738803662518522\n",
            "  (0, 11117)\t0.1961103238738005\n",
            "  (0, 8728)\t0.16328378260778725\n",
            "  (0, 7472)\t0.23469394291398177\n",
            "  (0, 12483)\t0.15426312438863335\n",
            "  (0, 14243)\t0.19495675537512416\n",
            "  (0, 12004)\t0.20119633464898123\n",
            "  (0, 11362)\t0.21929381087585958\n",
            "  (0, 14777)\t0.20725653754804918\n",
            "  (0, 14555)\t0.23095790769065858\n",
            "  (0, 11389)\t0.15126848339775434\n",
            "  (0, 9808)\t0.26580549150751664\n",
            "  (0, 9537)\t0.09152409107612518\n",
            "  (0, 14546)\t0.12857562599451414\n",
            "  (0, 13046)\t0.07132520833916563\n",
            "  (0, 4241)\t0.23469394291398177\n",
            "  (0, 12190)\t0.2127075654438508\n",
            "  (0, 2748)\t0.24960228777167906\n",
            "  (0, 14169)\t0.12885633258526735\n",
            "  (0, 12282)\t0.33846868536334\n",
            "  (0, 5019)\t0.16328378260778725\n",
            "  (0, 2607)\t0.2218327365672547\n",
            "  (0, 3156)\t0.21694313284525513\n",
            "  (0, 4675)\t0.1053559323086701\n",
            "  :\t:\n",
            "  (4804, 6652)\t0.16278077437453972\n",
            "  (4804, 8315)\t0.16739415871492583\n",
            "  (4804, 7618)\t0.18603730315623238\n",
            "  (4804, 2224)\t0.15021582974977463\n",
            "  (4804, 3625)\t0.15021582974977463\n",
            "  (4804, 7265)\t0.17010197019187756\n",
            "  (4804, 5374)\t0.16278077437453972\n",
            "  (4804, 1117)\t0.17317183365283373\n",
            "  (4804, 2058)\t0.14903660584491218\n",
            "  (4804, 13806)\t0.17010197019187756\n",
            "  (4804, 2165)\t0.1479149284678256\n",
            "  (4804, 6053)\t0.12939374625336555\n",
            "  (4804, 3348)\t0.11069631648378395\n",
            "  (4804, 5849)\t0.09530969276026909\n",
            "  (4804, 7896)\t0.29807321168982437\n",
            "  (4804, 1988)\t0.11688034834490961\n",
            "  (4804, 743)\t0.16078039797122426\n",
            "  (4804, 10040)\t0.09890918819790535\n",
            "  (4804, 4838)\t0.17806311174554146\n",
            "  (4804, 11086)\t0.08828317719820995\n",
            "  (4804, 2765)\t0.1284356982207254\n",
            "  (4804, 13124)\t0.0573092802987088\n",
            "  (4804, 3082)\t0.07020134916391149\n",
            "  (4804, 11117)\t0.1421372535299177\n",
            "  (4804, 189)\t0.05942401007396954\n"
          ]
        }
      ]
    },
    {
      "cell_type": "code",
      "source": [
        "#COSINE SIMILARITY\n",
        "#getting the similarity score using cosine similarity\n",
        "\n",
        "similarity= cosine_similarity(feature_vectors)\n",
        "\n"
      ],
      "metadata": {
        "id": "Q3fWlpBV_JwU"
      },
      "execution_count": null,
      "outputs": []
    },
    {
      "cell_type": "code",
      "source": [
        "print(similarity)"
      ],
      "metadata": {
        "colab": {
          "base_uri": "https://localhost:8080/"
        },
        "id": "FCVJFdsXDEBX",
        "outputId": "54bcd111-2339-4468-c0c2-b2a64d02a54f"
      },
      "execution_count": null,
      "outputs": [
        {
          "output_type": "stream",
          "name": "stdout",
          "text": [
            "[[1.         0.0741602  0.03929261 ... 0.         0.         0.        ]\n",
            " [0.0741602  1.         0.03397071 ... 0.         0.         0.        ]\n",
            " [0.03929261 0.03397071 1.         ... 0.         0.         0.        ]\n",
            " ...\n",
            " [0.         0.         0.         ... 0.         0.         0.        ]\n",
            " [0.         0.         0.         ... 0.         0.         0.        ]\n",
            " [0.         0.         0.         ... 0.         0.         0.        ]]\n"
          ]
        }
      ]
    },
    {
      "cell_type": "code",
      "source": [
        "print(similarity.shape)"
      ],
      "metadata": {
        "colab": {
          "base_uri": "https://localhost:8080/"
        },
        "id": "tJxg6SuSlz67",
        "outputId": "200d2d3c-fdef-4e06-db55-626d09bb3b21"
      },
      "execution_count": null,
      "outputs": [
        {
          "output_type": "stream",
          "name": "stdout",
          "text": [
            "(4809, 4809)\n"
          ]
        }
      ]
    },
    {
      "cell_type": "code",
      "source": [
        "#getting the movie name  from the user\n",
        "\n",
        "movie_name= input('ENTER YOUR FAVORITE MOVIE NAME---')"
      ],
      "metadata": {
        "colab": {
          "base_uri": "https://localhost:8080/"
        },
        "id": "7PlfrGzdDfsN",
        "outputId": "406be062-78a1-45eb-e5b1-0e7cdeb1310d"
      },
      "execution_count": null,
      "outputs": [
        {
          "name": "stdout",
          "output_type": "stream",
          "text": [
            "ENTER YOUR FAVORITE MOVIE NAME---iron man\n"
          ]
        }
      ]
    },
    {
      "cell_type": "code",
      "source": [
        "if not isinstance(movie_name, str):\n",
        "    movie_name = str(movie_name)"
      ],
      "metadata": {
        "id": "aLAOdm4hWw7A"
      },
      "execution_count": null,
      "outputs": []
    },
    {
      "cell_type": "code",
      "source": [
        "#creating a list of all the movie names given in the dataset"
      ],
      "metadata": {
        "id": "8jdxTT98DgKr"
      },
      "execution_count": null,
      "outputs": []
    },
    {
      "cell_type": "code",
      "source": [
        "list_all_titles = [str(title) for title in list_all_titles]\n",
        "print(list_all_titles)"
      ],
      "metadata": {
        "colab": {
          "base_uri": "https://localhost:8080/"
        },
        "id": "_3dEM0FtW3Zj",
        "outputId": "97386cc4-448e-4c9d-80a6-2cdf1ca17ce6"
      },
      "execution_count": null,
      "outputs": [
        {
          "output_type": "stream",
          "name": "stdout",
          "text": [
            "['Avatar', \"Pirates of the Caribbean: At World's End\", 'Spectre', 'The Dark Knight Rises', 'John Carter', 'Spider-Man 3', 'Tangled', 'Avengers: Age of Ultron', 'Harry Potter and the Half-Blood Prince', 'Batman v Superman: Dawn of Justice', 'Superman Returns', 'Quantum of Solace', \"Pirates of the Caribbean: Dead Man's Chest\", 'The Lone Ranger', 'Man of Steel', 'The Chronicles of Narnia: Prince Caspian', 'The Avengers', 'Pirates of the Caribbean: On Stranger Tides', 'Men in Black 3', 'The Hobbit: The Battle of the Five Armies', 'The Amazing Spider-Man', 'Robin Hood', 'The Hobbit: The Desolation of Smaug', 'The Golden Compass', 'King Kong', 'Titanic', 'Captain America: Civil War', 'Battleship', 'Jurassic World', \" 'department': 'Sound'\", 'Skyfall', 'Spider-Man 2', 'Iron Man 3', 'Alice in Wonderland', 'X-Men: The Last Stand', 'Monsters University', 'Transformers: Revenge of the Fallen', 'Transformers: Age of Extinction', 'Oz: The Great and Powerful', 'The Amazing Spider-Man 2', 'TRON: Legacy', 'Cars 2', 'Green Lantern', 'Toy Story 3', 'Terminator Salvation', 'Furious 7', 'World War Z', 'X-Men: Days of Future Past', 'Star Trek Into Darkness', 'Jack the Giant Slayer', 'The Great Gatsby', 'Prince of Persia: The Sands of Time', 'Pacific Rim', 'Transformers: Dark of the Moon', 'Indiana Jones and the Kingdom of the Crystal Skull', 'The Good Dinosaur', 'Brave', 'Star Trek Beyond', 'WALL·E', 'Rush Hour 3', '2012', 'A Christmas Carol', 'Jupiter Ascending', 'The Legend of Tarzan', 'The Chronicles of Narnia: The Lion, the Witch and the Wardrobe', 'X-Men: Apocalypse', 'The Dark Knight', 'Up', 'Monsters vs Aliens', 'Iron Man', 'Hugo', 'Wild Wild West', 'The Mummy: Tomb of the Dragon Emperor', 'Suicide Squad', 'Evan Almighty', 'Edge of Tomorrow', 'Waterworld', 'G.I. Joe: The Rise of Cobra', 'Inside Out', 'The Jungle Book', 'Iron Man 2', 'Snow White and the Huntsman', 'Maleficent', 'Dawn of the Planet of the Apes', 'The Lovers', '47 Ronin', 'Captain America: The Winter Soldier', 'Shrek Forever After', 'Tomorrowland', 'Big Hero 6', 'Wreck-It Ralph', 'The Polar Express', 'Independence Day: Resurgence', 'How to Train Your Dragon', 'Terminator 3: Rise of the Machines', 'Guardians of the Galaxy', 'Interstellar', 'Inception', 'Shin Godzilla', 'The Hobbit: An Unexpected Journey', 'The Fast and the Furious', 'The Curious Case of Benjamin Button', 'X-Men: First Class', 'The Hunger Games: Mockingjay - Part 2', \"The Sorcerer's Apprentice\", 'Poseidon', 'Alice Through the Looking Glass', 'Shrek the Third', 'Warcraft', 'Terminator Genisys', 'The Chronicles of Narnia: The Voyage of the Dawn Treader', 'Pearl Harbor', 'Transformers', 'Alexander', 'Harry Potter and the Order of the Phoenix', 'Harry Potter and the Goblet of Fire', 'Hancock', 'I Am Legend', 'Charlie and the Chocolate Factory', 'Ratatouille', 'Batman Begins', 'Madagascar: Escape 2 Africa', 'Night at the Museum: Battle of the Smithsonian', 'X-Men Origins: Wolverine', 'The Matrix Revolutions', 'Frozen', 'The Matrix Reloaded', 'Thor: The Dark World', 'Mad Max: Fury Road', 'Angels & Demons', 'Thor', 'Bolt', 'G-Force', 'Wrath of the Titans', 'Dark Shadows', 'Mission: Impossible - Rogue Nation', 'The Wolfman', 'Bee Movie', 'Kung Fu Panda 2', 'The Last Airbender', 'Mission: Impossible III', 'White House Down', 'Mars Needs Moms', 'Flushed Away', 'Pan', 'Mr. Peabody & Sherman', 'Troy', \"Madagascar 3: Europe's Most Wanted\", 'Die Another Day', 'Ghostbusters', 'Armageddon', 'Men in Black II', 'Beowulf', 'Kung Fu Panda 3', 'Mission: Impossible - Ghost Protocol', 'Rise of the Guardians', 'Fun with Dick and Jane', 'The Last Samurai', 'Exodus: Gods and Kings', 'Star Trek', 'Spider-Man', 'How to Train Your Dragon 2', 'Gods of Egypt', 'Stealth', 'Watchmen', 'Lethal Weapon 4', 'Hulk', 'G.I. Joe: Retaliation', 'Sahara', 'Final Fantasy: The Spirits Within', 'Captain America: The First Avenger', 'The World Is Not Enough', 'Master and Commander: The Far Side of the World', 'The Twilight Saga: Breaking Dawn - Part 2', 'Happy Feet Two', 'The Incredible Hulk', 'The BFG', 'The Revenant', 'Turbo', 'Rango', 'Penguins of Madagascar', 'The Bourne Ultimatum', 'Kung Fu Panda', 'Ant-Man', 'The Hunger Games: Catching Fire', 'Home', 'War of the Worlds', 'Bad Boys II', 'Puss in Boots', 'Salt', 'Noah', 'The Adventures of Tintin', 'Harry Potter and the Prisoner of Azkaban', 'Australia', 'After Earth', 'Dinosaur', 'Night at the Museum: Secret of the Tomb', 'Megamind', \"Harry Potter and the Philosopher's Stone\", 'R.I.P.D.', 'Pirates of the Caribbean: The Curse of the Black Pearl', 'The Hunger Games: Mockingjay - Part 1', 'The Da Vinci Code', 'Rio 2', 'X2', 'Fast Five', 'Sherlock Holmes: A Game of Shadows', 'Clash of the Titans', 'Total Recall', 'The 13th Warrior', 'The Bourne Legacy', 'Batman & Robin', 'How the Grinch Stole Christmas', 'The Day After Tomorrow', \" 'job': 'Utility Sound'\", 'Mission: Impossible II', 'The Perfect Storm', 'Fantastic 4: Rise of the Silver Surfer', 'Life of Pi', 'Ghost Rider', 'Jason Bourne', \"Charlie's Angels: Full Throttle\", 'Prometheus', 'Stuart Little 2', 'Elysium', 'The Chronicles of Riddick', 'RoboCop', 'Speed Racer', 'How Do You Know', 'Knight and Day', 'Oblivion', 'Star Wars: Episode III - Revenge of the Sith', 'Star Wars: Episode II - Attack of the Clones', 'Monsters, Inc.', \" 'credit_id': '5724de7ec3a368423a0021b3'\", 'The Wolverine', 'Star Wars: Episode I - The Phantom Menace', 'The Croods', 'Asterix at the Olympic Games', 'Windtalkers', \"The Huntsman: Winter's War\", 'Teenage Mutant Ninja Turtles', 'Gravity', \"Dante's Peak\", 'Teenage Mutant Ninja Turtles: Out of the Shadows', 'Fantastic Four', 'Night at the Museum', 'San Andreas', 'Tomorrow Never Dies', 'The Patriot', \"Ocean's Twelve\", 'Mr. & Mrs. Smith', 'Insurgent', 'The Aviator', \"Gulliver's Travels\", 'The Green Hornet', '300: Rise of an Empire', 'The Smurfs', 'Home on the Range', 'Allegiant', 'Real Steel', 'The Smurfs 2', 'Speed 2: Cruise Control', \"Ender's Game\", 'Live Free or Die Hard', 'The Lord of the Rings: The Fellowship of the Ring', 'Around the World in 80 Days', 'Ali', 'The Cat in the Hat', 'I, Robot', 'Kingdom of Heaven', 'Stuart Little', 'The Princess and the Frog', 'The Martian', 'The Island', 'Town & Country', 'Gone in Sixty Seconds', 'Gladiator', 'Minority Report', 'Harry Potter and the Chamber of Secrets', 'Casino Royale', 'Planet of the Apes', 'Terminator 2: Judgment Day', 'Public Enemies', 'American Gangster', 'True Lies', 'The Taking of Pelham 1 2 3', 'Little Fockers', 'The Other Guys', 'Eraser', 'Django Unchained', 'The Hunchback of Notre Dame', \"The Emperor's New Groove\", 'The Expendables 2', 'National Treasure', 'Eragon', 'Where the Wild Things Are', 'Epic', 'The Tourist', 'End of Days', 'Blood Diamond', 'The Wolf of Wall Street', \" 'department': 'Lighting'\", 'Batman Forever', 'Starship Troopers', 'Cloud Atlas', \"Legend of the Guardians: The Owls of Ga'Hoole\", 'Catwoman', 'Hercules', 'Treasure Planet', 'Land of the Lost', 'The Expendables 3', 'Point Break', 'Son of the Mask', 'In the Heart of the Sea', 'The Adventures of Pluto Nash', 'Green Zone', 'The Peanuts Movie', 'The Spanish Prisoner', 'The Mummy Returns', 'Gangs of New York', 'The Flowers of War', \"Surf's Up\", 'The Stepford Wives', 'Black Hawk Down', 'The Campaign', 'The Fifth Element', 'Sex and the City 2', 'The Road to El Dorado', 'Ice Age: Continental Drift', 'Cinderella', 'The Lovely Bones', 'Finding Nemo', 'The Lord of the Rings: The Return of the King', 'The Lord of the Rings: The Two Towers', 'Seventh Son', 'Lara Croft: Tomb Raider', 'Transcendence', 'Jurassic Park III', 'Rise of the Planet of the Apes', 'The Spiderwick Chronicles', 'A Good Day to Die Hard', 'The Alamo', 'The Incredibles', 'Cutthroat Island', 'Percy Jackson & the Olympians: The Lightning Thief', 'Men in Black', 'Toy Story 2', 'Unstoppable', 'Rush Hour 2', 'What Lies Beneath', 'Cloudy with a Chance of Meatballs', 'Ice Age: Dawn of the Dinosaurs', 'The Secret Life of Walter Mitty', \"Charlie's Angels\", 'The Departed', 'Mulan', 'Tropic Thunder', 'The Girl with the Dragon Tattoo', 'Die Hard: With a Vengeance', 'Sherlock Holmes', 'Ben-Hur', 'Atlantis: The Lost Empire', 'Alvin and the Chipmunks: The Road Chip', 'Valkyrie', \"You Don't Mess with the Zohan\", 'Pixels', 'A.I. Artificial Intelligence', 'The Haunted Mansion', 'Contact', 'Hollow Man', 'The Interpreter', 'Percy Jackson: Sea of Monsters', 'Lara Croft Tomb Raider: The Cradle of Life', 'Now You See Me 2', 'The Saint', 'Spy Game', 'Mission to Mars', 'Rio', 'Bicentennial Man', 'Volcano', \"The Devil's Own\", 'K-19: The Widowmaker', 'Conan the Barbarian', 'Cinderella Man', 'The Nutcracker: The Untold Story', 'Seabiscuit', 'Twister', 'Cast Away', 'Happy Feet', 'The Bourne Supremacy', 'Air Force One', \"Ocean's Eleven\", 'The Three Musketeers', 'Hotel Transylvania', 'Enchanted', 'Safe House', '102 Dalmatians', 'Tower Heist', 'The Holiday', 'Enemy of the State', \"It's Complicated\", \"Ocean's Thirteen\", 'Open Season', 'Divergent', 'Enemy at the Gates', 'The Rundown', 'Last Action Hero', 'Memoirs of a Geisha', 'The Fast and the Furious: Tokyo Drift', 'Arthur Christmas', 'Meet Joe Black', 'Collateral Damage', 'All That Jazz', 'Mirror Mirror', 'Scott Pilgrim vs. the World', 'The Core', 'nan', 'Nutty Professor II: The Klumps', 'Scooby-Doo', 'Dredd', 'Click', 'Creepshow', 'Cats & Dogs 2 : The Revenge of Kitty Galore', 'Jumper', 'Hellboy II: The Golden Army', 'Zodiac', 'The 6th Day', 'Bruce Almighty', 'The Expendables', 'Mission: Impossible', 'The Hunger Games', 'The Hangover Part II', 'Batman Returns', 'Over the Hedge', 'Lilo & Stitch', \"Charlotte's Web\", 'Deep Impact', 'RED 2', 'The Longest Yard', 'Alvin and the Chipmunks: Chipwrecked', 'Grown Ups 2', 'Get Smart', \"Something's Gotta Give\", 'Shutter Island', 'Four Christmases', 'Robots', 'Face/Off', 'Bedtime Stories', 'Road to Perdition', 'Just Go with It', 'Con Air', 'Eagle Eye', 'Cold Mountain', 'The Book of Eli', 'Flubber', 'The Haunting', 'Space Jam', 'The Pink Panther', 'The Day the Earth Stood Still', 'Conspiracy Theory', 'Fury', 'Six Days Seven Nights', 'Yogi Bear', 'Spirit: Stallion of the Cimarron', 'Zookeeper', 'Lost in Space', 'The Manchurian Candidate', 'Déjà Vu', 'Hotel Transylvania 2', 'Fantasia 2000', 'The Time Machine', 'Mighty Joe Young', 'Swordfish', 'The Legend of Zorro', 'What Dreams May Come', 'Little Nicky', 'The Brothers Grimm', 'Mars Attacks!', 'Evolution', 'The Edge', 'Surrogates', 'Thirteen Days', 'Daylight', 'Walking With Dinosaurs', 'Battlefield Earth', 'Looney Tunes: Back in Action', 'Nine', 'Timeline', 'The Postman', 'Babe: Pig in the City', 'The Last Witch Hunter', 'Red Planet', 'Arthur and the Invisibles', 'Oceans', 'A Sound of Thunder', 'Pompeii', 'Top Cat Begins', 'A Beautiful Mind', 'The Lion King', 'Journey 2: The Mysterious Island', 'Cloudy with a Chance of Meatballs 2', 'Red Dragon', 'Hidalgo', 'Jack and Jill', '2 Fast 2 Furious', 'The Little Prince', 'The Invasion', 'The Adventures of Rocky & Bullwinkle', 'The Secret Life of Pets', 'The League of Extraordinary Gentlemen', 'Despicable Me 2', 'Independence Day', 'The Lost World: Jurassic Park', 'Madagascar', 'Children of Men', 'X-Men', 'Wanted', 'The Rock', 'Ice Age: The Meltdown', '50 First Dates', 'Hairspray', 'Exorcist: The Beginning', 'Inspector Gadget', 'Now You See Me', 'Grown Ups', 'The Terminal', 'Hotel for Dogs', 'Vertical Limit', \"Charlie Wilson's War\", 'Shark Tale', 'Dreamgirls', 'Be Cool', 'Munich', 'Tears of the Sun', 'Killers', 'The Man from U.N.C.L.E.', 'Spanglish', 'Monster House', 'Bandits', 'First Knight', 'Anna and the King', 'Immortals', 'Hostage', 'Titan A.E.', 'Hollywood Homicide', 'Soldier', 'Carriers', 'Monkeybone', 'Flight of the Phoenix', 'Unbreakable', 'Minions', 'Sucker Punch', 'Snake Eyes', 'Sphere', 'The Angry Birds Movie', \"Fool's Gold\", 'Funny People', 'The Kingdom', 'Talladega Nights: The Ballad of Ricky Bobby', 'Dr. Dolittle 2', 'Braveheart', 'Jarhead', 'The Simpsons Movie', 'The Majestic', 'Driven', 'Two Brothers', 'The Village', 'Doctor Dolittle', 'Signs', 'Shrek 2', 'Cars', 'Runaway Bride', 'xXx', 'The SpongeBob Movie: Sponge Out of Water', 'Ransom', 'Inglourious Basterds', 'Hook', 'Die Hard 2', 'S.W.A.T.', 'Vanilla Sky', 'Lady in the Water', 'AVP: Alien vs. Predator', 'Alvin and the Chipmunks: The Squeakquel', 'We Were Soldiers', 'Olympus Has Fallen', 'Star Trek: Insurrection', 'Battle: Los Angeles', 'Big Fish', 'Wolf', 'War Horse', 'The Monuments Men', 'The Abyss', 'Wall Street: Money Never Sleeps', 'Dracula Untold', 'The Siege', 'Stardust', 'Seven Years in Tibet', 'The Dilemma', 'Bad Company', 'Doom', 'I Spy', 'Underworld: Awakening', 'Rock of Ages', \"Hart's War\", 'Killer Elite', 'Rollerball', 'Ballistic: Ecks vs. Sever', 'Hard Rain', 'Osmosis Jones', \"Legends of Oz: Dorothy's Return\", 'Blackhat', 'Sky Captain and the World of Tomorrow', 'Basic Instinct 2', 'Escape Plan', 'The Legend of Hercules', 'The Sum of All Fears', 'The Twilight Saga: Eclipse', 'The Score', 'Despicable Me', 'Money Train', 'Ted 2', 'Agora', 'Mystery Men', 'Hall Pass', 'The Insider', 'The Finest Hours', 'Body of Lies', 'Dinner for Schmucks', 'Abraham Lincoln: Vampire Hunter', 'Entrapment', 'The X Files', 'The Last Legion', 'Saving Private Ryan', 'Need for Speed', 'What Women Want', 'Ice Age', 'Dreamcatcher', 'Lincoln', 'The Matrix', 'Apollo 13', 'The Santa Clause 2', 'Les Misérables', \"You've Got Mail\", 'Step Brothers', 'The Mask of Zorro', 'Due Date', 'Unbroken', 'Space Cowboys', 'Cliffhanger', 'Broken Arrow', 'The Kid', 'World Trade Center', 'Mona Lisa Smile', 'The Dictator', 'Eyes Wide Shut', 'Annie', 'Focus', 'This Means War', 'Blade: Trinity', 'Red Dawn', 'Primary Colors', 'Resident Evil: Retribution', 'Death Race', 'The Long Kiss Goodnight', 'Proof of Life', 'Zathura: A Space Adventure', 'Fight Club', 'We Are Marshall', 'Hudson Hawk', 'Lucky Numbers', 'I, Frankenstein', 'Oliver Twist', 'Elektra', 'Sin City: A Dame to Kill For', 'Random Hearts', 'Everest', 'Perfume: The Story of a Murderer', 'Austin Powers in Goldmember', 'Astro Boy', 'Jurassic Park', 'Wyatt Earp', 'Clear and Present Danger', 'Dragon Blade', 'Little Man', 'U-571', 'The American President', 'The Love Guru', '3000 Miles to Graceland', 'The Hateful Eight', 'Blades of Glory', 'Hop', '300', 'Meet the Fockers', 'Marley & Me', 'The Green Mile', 'Wild Hogs', 'Chicken Little', 'Gone Girl', 'The Bourne Identity', 'GoldenEye', \"The General's Daughter\", 'The Truman Show', 'The Prince of Egypt', 'Daddy Day Care', '2 Guns', 'Cats & Dogs', 'The Italian Job', 'Two Weeks Notice', 'Antz', 'Couples Retreat', 'Days of Thunder', 'Cheaper by the Dozen 2', 'Maze Runner: The Scorch Trials', 'Eat Pray Love', 'The Family Man', 'RED', 'Any Given Sunday', 'The Horse Whisperer', 'Collateral', 'The Scorpion King', 'Ladder 49', 'Jack Reacher', 'Deep Blue Sea', 'This Is It', 'Contagion', 'Kangaroo Jack', 'Coraline', 'The Happening', 'Man on Fire', 'The Shaggy Dog', 'Starsky & Hutch', 'Jingle All the Way', 'Hellboy', 'A Civil Action', 'ParaNorman', 'The Jackal', 'Paycheck', 'Up Close & Personal', 'The Tale of Despereaux', 'The Tuxedo', 'Under Siege 2: Dark Territory', 'Jack Ryan: Shadow Recruit', 'Joy', 'London Has Fallen', 'Alien: Resurrection', 'Shooter', 'The Boxtrolls', 'Practical Magic', 'The Lego Movie', 'Miss Congeniality 2: Armed and Fabulous', 'Reign of Fire', 'Gangster Squad', 'Year One', 'Invictus', 'State of Play', 'Duplicity', 'My Favorite Martian', 'The Sentinel', 'Planet 51', 'Star Trek: Nemesis', 'Intolerable Cruelty', 'Trouble with the Curve', 'Edge of Darkness', 'The Relic', 'Analyze That', 'Righteous Kill', 'Mercury Rising', 'The Soloist', 'The Legend of Bagger Vance', 'Almost Famous', 'Garfield: A Tail of Two Kitties', 'xXx: State of the Union', 'Priest', 'Sinbad: Legend of the Seven Seas', 'Event Horizon', 'Dragonfly', 'The Black Dahlia', 'Flyboys', 'The Last Castle', 'Supernova', \"Winter's Tale\", 'The Mortal Instruments: City of Bones', 'Meet Dave', 'Dark Water', 'Edtv', 'Inkheart', 'The Spirit', 'Mortdecai', 'In the Name of the King: A Dungeon Siege Tale', 'Beyond Borders', 'The Monkey King 2', 'The Great Raid', 'Deadpool', 'Holy Man', 'American Sniper', 'Goosebumps', 'Just Like Heaven', 'The Flintstones in Viva Rock Vegas', 'Rambo III', 'Leatherheads', 'The Ridiculous 6', 'Did You Hear About the Morgans?', 'The Internship', 'Resident Evil: Afterlife', 'Red Tails', \"The Devil's Advocate\", \"That's My Boy\", 'DragonHeart', 'After the Sunset', 'Ghost Rider: Spirit of Vengeance', \"Captain Corelli's Mandolin\", 'The Pacifier', 'Walking Tall', 'Forrest Gump', 'Alvin and the Chipmunks', 'Meet the Parents', 'Pocahontas', 'Superman', 'The Nutty Professor', 'Hitch', 'George of the Jungle', 'American Wedding', 'Captain Phillips', 'Date Night', 'Casper', 'The Equalizer', 'Maid in Manhattan', 'Crimson Tide', 'The Pursuit of Happyness', 'Flightplan', 'Disclosure', 'City of Angels', 'Kill Bill: Vol. 1', 'Bowfinger', 'Kill Bill: Vol. 2', 'Tango & Cash', 'Death Becomes Her', 'Shanghai Noon', 'Executive Decision', \"Mr. Popper's Penguins\", 'The Forbidden Kingdom', 'Free Birds', 'Alien³', 'Evita', 'Ronin', 'The Ghost and the Darkness', 'Paddington', 'The Watch', 'The Hunted', 'Instinct', 'Stuck on You', 'Semi-Pro', 'The Pirates! In an Adventure with Scientists!', 'Changeling', 'Chain Reaction', 'The Fan', 'The Phantom of the Opera', 'Elizabeth: The Golden Age', 'Æon Flux', 'Gods and Generals', 'Turbulence', 'Imagine That', 'Muppets Most Wanted', 'Thunderbirds', 'Burlesque', 'A Very Long Engagement', 'Lolita', 'D-Tox', 'Blade II', 'Seven Pounds', 'Bullet to the Head', 'The Godfather: Part III', 'Elizabethtown', 'You, Me and Dupree', 'Superman II', 'Gigli', \"All the King's Men\", 'Shaft', 'Anastasia', 'Moulin Rouge!', 'Domestic Disturbance', 'Black Mass', 'Flags of Our Fathers', 'Law Abiding Citizen', 'Grindhouse', 'Beloved', 'Lucky You', 'Catch Me If You Can', 'Zero Dark Thirty', 'The Break-Up', 'Mamma Mia!', \"Valentine's Day\", 'The Dukes of Hazzard', 'The Thin Red Line', 'The Change-Up', 'Man on the Moon', 'Casino', 'From Paris with Love', 'Bulletproof Monk', 'Me, Myself & Irene', 'Barnyard', 'Deck the Halls', 'The Twilight Saga: New Moon', 'Shrek', 'The Adjustment Bureau', 'Robin Hood: Prince of Thieves', 'Jerry Maguire', 'Ted', 'As Good as It Gets', 'Patch Adams', 'Anchorman 2: The Legend Continues', 'Mr. Deeds', 'Super 8', 'Erin Brockovich', 'How to Lose a Guy in 10 Days', '22 Jump Street', 'Interview with the Vampire', 'Yes Man', 'Central Intelligence', 'Stepmom', \"Daddy's Home\", 'Into the Woods', 'Inside Man', 'Payback', 'Congo', 'We Bought a Zoo', 'Knowing', 'Failure to Launch', 'The Ring Two', 'Crazy, Stupid, Love.', 'Garfield', 'Christmas with the Kranks', 'Moneyball', 'Outbreak', 'Non-Stop', 'Race to Witch Mountain', 'V for Vendetta', 'Shanghai Knights', 'Curious George', 'Herbie Fully Loaded', \"Don't Say a Word\", 'Hansel & Gretel: Witch Hunters', 'Unfaithful', 'I Am Number Four', 'Syriana', '13 Hours: The Secret Soldiers of Benghazi', 'The Book of Life', 'Firewall', 'Absolute Power', 'G.I. Jane', 'The Game', 'Silent Hill', 'The Replacements', 'American Reunion', 'The Negotiator', 'Into the Storm', 'Beverly Hills Cop III', 'Gremlins 2: The New Batch', 'The Judge', 'The Peacemaker', 'Resident Evil: Apocalypse', 'Bridget Jones: The Edge of Reason', 'Out of Time', 'On Deadly Ground', 'The Adventures of Sharkboy and Lavagirl', 'The Beach', 'Raising Helen', 'Ninja Assassin', 'For Love of the Game', 'Striptease', 'Marmaduke', 'Hereafter', 'Murder by Numbers', 'Assassins', 'Hannibal Rising', 'The Story of Us', 'The Host', 'Basic', 'Blood Work', 'The International', 'Escape from L.A.', 'The Iron Giant', 'The Life Aquatic with Steve Zissou', 'Free State of Jones', 'The Life of David Gale', 'Man of the House', 'Run All Night', 'Eastern Promises', 'Into the Blue', 'The Messenger: The Story of Joan of Arc', 'Your Highness', 'Dream House', 'Mad City', \"Baby's Day Out\", 'The Scarlet Letter', 'Fair Game', 'Domino', 'Jade', 'Gamer', 'Beautiful Creatures', 'Death to Smoochy', 'Zoolander 2', 'The Big Bounce', 'What Planet Are You From?', 'Drive Angry', 'Street Fighter: The Legend of Chun-Li', 'The One', 'The Adventures of Ford Fairlane', 'The Boat That Rocked', 'Traffic', 'Indiana Jones and the Last Crusade', 'Anna Karenina', 'Chappie', 'The Bone Collector', 'Panic Room', 'The Tooth Fairy', 'Three Kings', 'Child 44', 'Rat Race', 'K-PAX', 'Kate & Leopold', 'Bedazzled', 'The Cotton Club', '3:10 to Yuma', 'Taken 3', 'Out of Sight', 'The Cable Guy', 'Earth', 'Dick Tracy', 'The Thomas Crown Affair', 'Riding in Cars with Boys', 'First Blood', 'Solaris', \"Happily N'Ever After\", 'Mary Reilly', \"My Best Friend's Wedding\", \"America's Sweethearts\", 'Insomnia', 'Star Trek: First Contact', 'Jonah Hex', 'Courage Under Fire', 'Liar Liar', 'The Infiltrator', 'Inchon', 'The Flintstones', 'Taken 2', 'Scary Movie 3', 'Miss Congeniality', 'Journey to the Center of the Earth', 'The Princess Diaries 2: Royal Engagement', 'The Pelican Brief', 'The Client', 'The Bucket List', 'Patriot Games', 'Monster-in-Law', 'Prisoners', 'Training Day', 'Galaxy Quest', 'Scary Movie 2', 'The Muppets', 'Blade', 'Coach Carter', 'Changing Lanes', 'Anaconda', 'Coyote Ugly', 'Love Actually', \"A Bug's Life\", 'From Hell', 'The Specialist', 'Tin Cup', 'Yours, Mine and Ours', 'Kicking & Screaming', \"The Hitchhiker's Guide to the Galaxy\", 'Fat Albert', 'Resident Evil: Extinction', 'Blended', 'Last Holiday', 'The River Wild', 'The Indian in the Cupboard', 'Savages', 'Cellular', 'Johnny English', 'The Ant Bully', 'Dune', 'Across the Universe', 'Revolutionary Road', '16 Blocks', 'Babylon A.D.', 'The Glimmer Man', 'Multiplicity', 'Aliens in the Attic', 'The Pledge', 'The Producers', 'The Phantom', 'All the Pretty Horses', 'Nixon', 'The Ghost Writer', 'Deep Rising', 'Miracle at St. Anna', 'Curse of the Golden Flower', 'Bangkok Dangerous', 'Big Trouble', 'Love in the Time of Cholera', 'Shadow Conspiracy', 'Johnny English Reborn', 'Foodfight!', 'Argo', 'The Fugitive', 'The Bounty Hunter', 'Sleepers', 'Rambo: First Blood Part II', 'The Juror', 'Pinocchio', \"Heaven's Gate\", 'Underworld: Evolution', 'Victor Frankenstein', 'Finding Forrester', '28 Days', 'Unleashed', 'The Sweetest Thing', 'The Firm', 'Charlie St. Cloud', 'The Mechanic', '21 Jump Street', 'Notting Hill', 'Chicken Run', 'Along Came Polly', 'Boomerang', 'The Heat', 'Cleopatra', 'Here Comes the Boom', 'High Crimes', 'The Mirror Has Two Faces', 'The Mothman Prophecies', 'Brüno', 'Licence to Kill', 'Red Riding Hood', '15 Minutes', \" 'credit_id': '57824f23c3a3686fee0007b1'\", 'Super Mario Bros.', 'Lord of War', 'Hero', 'One for the Money', 'The Interview', \"The Warrior's Way\", 'Micmacs', '8 Mile', 'Why I Did (Not) Eat My Father', \"A Knight's Tale\", 'The Medallion', 'The Sixth Sense', 'Man on a Ledge', 'The Big Year', 'The Karate Kid', 'American Hustle', 'The Proposal', 'Double Jeopardy', 'Back to the Future Part II', 'Lucy', 'Fifty Shades of Grey', 'Spy Kids 3-D: Game Over', 'A Time to Kill', 'Cheaper by the Dozen', 'Lone Survivor', 'A League of Their Own', 'The Conjuring 2', 'The Social Network', \"He's Just Not That Into You\", 'Scary Movie 4', 'Scream 3', 'Back to the Future Part III', 'Get Hard', 'Dracula', 'Julie & Julia', '42', 'The Talented Mr. Ripley', 'Dumb and Dumber To', 'Eight Below', 'The Intern', 'Ride Along 2', 'The Last of the Mohicans', 'Ray', 'Sin City', 'Vantage Point', 'I Love You, Man', 'Shallow Hal', 'JFK', \"Big Momma's House 2\", 'The Mexican', '17 Again', 'The Other Woman', 'The Final Destination', 'Bridge of Spies', 'Behind Enemy Lines', 'Get Him to the Greek', 'Shall We Dance?', 'Small Soldiers', 'Spawn', 'The Count of Monte Cristo', 'The Lincoln Lawyer', 'Unknown', 'The Prestige', 'Horrible Bosses 2', 'Escape from Planet Earth', 'Apocalypto', 'The Living Daylights', 'Predators', 'Legal Eagles', 'Secret Window', 'The Lake House', 'The Skeleton Key', 'The Odd Life of Timothy Green', 'Made of Honor', 'Jersey Boys', 'The Rainmaker', 'Gothika', 'Amistad', 'Medicine Man', 'Aliens vs Predator: Requiem', 'Ri¢hie Ri¢h', 'Autumn in New York', 'Music and Lyrics', 'Paul', 'The Guilt Trip', 'Scream 4', '8MM', 'The Doors', 'Sex Tape', 'Hanging Up', 'Final Destination 5', 'Mickey Blue Eyes', 'Pay It Forward', 'Fever Pitch', 'Drillbit Taylor', 'A Million Ways to Die in the West', 'The Shadow', 'Extremely Loud & Incredibly Close', 'Morning Glory', \"Get Rich or Die Tryin'\", 'The Art of War', 'Rent', 'Bless the Child', 'The Out-of-Towners', 'The Island of Dr. Moreau', 'The Musketeer', 'The Other Boleyn Girl', 'Sweet November', 'The Reaping', 'Mean Streets', 'Renaissance Man', 'Colombiana', 'Quest for Camelot', 'City By The Sea', 'At First Sight', 'Torque', 'City Hall', 'Showgirls', 'Marie Antoinette', 'Kiss of Death', 'Get Carter', 'The Impossible', 'Ishtar', 'Fantastic Mr. Fox', 'Life or Something Like It', 'Memoirs of an Invisible Man', 'Amélie', 'New York Minute', 'Alfie', 'Big Miracle', 'The Deep End of the Ocean', 'FearDotCom', \"Cirque du Freak: The Vampire's Assistant\", 'Duplex', 'Soul Men', 'Raise the Titanic', 'Universal Soldier: The Return', 'Pandorum', 'Impostor', 'Extreme Ops', 'Just Visiting', 'Sunshine', 'A Thousand Words', 'Delgo', 'The Gunman', 'Stormbreaker', 'Disturbia', 'Hackers', 'The Hunting Party', 'The Hudsucker Proxy', 'The Warlords', 'Nomad: The Warrior', 'Snowpiercer', 'A Monster in Paris', 'The Last Shot', 'The Crow', 'Baahubali: The Beginning', \"The Time Traveler's Wife\", 'Because I Said So', 'Frankenweenie', 'Serenity', 'Against the Ropes', 'Superman III', 'Grudge Match', 'Red Cliff', 'Sweet Home Alabama', 'The Ugly Truth', 'Sgt. Bilko', 'Spy Kids 2: The Island of Lost Dreams', 'Star Trek: Generations', 'The Grandmaster', 'Water for Elephants', \"Dragon Nest: Warriors' Dawn\", 'The Hurricane', 'Enough', 'Heartbreakers', 'Paul Blart: Mall Cop 2', 'Angel Eyes', 'Joe Somebody', 'The Ninth Gate', 'Extreme Measures', 'Rock Star', 'Precious', 'White Squall', 'The Thing', 'Riddick', 'Switchback', 'Texas Rangers', 'City of Ember', 'The Master', 'Virgin Territory', 'The Express', 'The 5th Wave', 'Creed', 'The Town', \"What to Expect When You're Expecting\", 'Burn After Reading', \"Nim's Island\", 'Rush', 'Magnolia', 'Cop Out', 'How to Be Single', 'Dolphin Tale', 'Twilight', 'John Q', 'Blue Streak', \"We're the Millers\", 'The Inhabited Island', 'Breakdown', 'Never Say Never Again', 'Hot Tub Time Machine', 'Dolphin Tale 2', 'Reindeer Games', 'A Man Apart', 'Aloha', 'Ghosts of Mississippi', 'Snow Falling on Cedars', 'The Rite', 'Gattaca', \"Isn't She Great\", 'Space Chimps', 'Head of State', 'The Hangover', 'Ip Man 3', 'Austin Powers: The Spy Who Shagged Me', 'Batman', 'There Be Dragons', 'Lethal Weapon 3', 'The Blind Side', 'Spy Kids', 'Horrible Bosses', 'True Grit', 'The Devil Wears Prada', 'Star Trek: The Motion Picture', 'Identity Thief', 'Cape Fear', '21', 'Trainwreck', 'Guess Who', 'The English Patient', 'L.A. Confidential', 'Sky High', 'In & Out', 'Species', 'A Nightmare on Elm Street', 'The Cell', 'The Man in the Iron Mask', 'Secretariat', 'TMNT', 'Radio', 'Friends with Benefits', 'Neighbors 2: Sorority Rising', 'Saving Mr. Banks', 'Malcolm X', 'This Is 40', 'Old Dogs', 'Underworld: Rise of the Lycans', 'License to Wed', 'The Benchwarmers', 'Must Love Dogs', 'Donnie Brasco', 'Resident Evil', 'Poltergeist', 'The Ladykillers', 'Max Payne', 'In Time', 'The Back-Up Plan', 'Something Borrowed', 'Black Knight', 'The Bad News Bears', 'Street Fighter', 'The Pianist', 'The Nativity Story', 'House of Wax', 'Closer', 'J. Edgar', 'Mirrors', 'Queen of the Damned', 'Predator 2', 'Untraceable', 'Blast from the Past', 'Flash Gordon', 'Jersey Girl', 'Alex Cross', 'Midnight in the Garden of Good and Evil', 'Heist', 'Nanny McPhee and the Big Bang', 'Hoffa', 'The X Files: I Want to Believe', 'Ella Enchanted', 'Concussion', 'Abduction', 'Valiant', 'Wonder Boys', 'Superhero Movie', 'Broken City', 'Cursed', 'Premium Rush', 'Hot Pursuit', 'The Four Feathers', 'Parker', 'Wimbledon', 'Furry Vengeance', 'Bait', 'Krull', 'Lions for Lambs', 'Flight of the Intruder', 'Walk Hard: The Dewey Cox Story', 'The Shipping News', 'American Outlaws', 'The Young Victoria', 'Whiteout', 'The Tree of Life', 'Knock Off', 'Sabotage', 'The Order', 'Punisher: War Zone', 'Zoom', 'The Walk', 'Warriors of Virtue', 'A Good Year', 'Radio Flyer', 'Bound by Honor', \"Smilla's Sense of Snow\", 'Femme Fatale', 'Lion of the Desert', 'The Horseman on the Roof', 'Ride with the Devil', 'Biutiful', 'Bandidas', 'Black Water Transit', 'The Maze Runner', 'Unfinished Business', 'The Age of Innocence', 'The Fountain', 'Chill Factor', 'Stolen', 'Ponyo', 'The Longest Ride', \"The Astronaut's Wife\", 'I Dreamed of Africa', 'Playing for Keeps', 'Mandela: Long Walk to Freedom', 'Reds', 'A Few Good Men', 'Exit Wounds', \"Big Momma's House\", 'Thunder and the House of Magic', 'The Darkest Hour', 'Step Up Revolution', 'Snakes on a Plane', 'The Watcher', 'The Punisher', 'Goal!: The Dream Begins', 'Safe', 'Pushing Tin', 'Return of the Jedi', 'Doomsday', 'The Reader', 'Wanderlust', 'Elf', 'Phenomenon', 'Snow Dogs', 'Scrooged', 'Nacho Libre', 'Bridesmaids', 'This Is the End', 'Stigmata', 'Men of Honor', 'Takers', 'The Big Wedding', 'Big Mommas: Like Father, Like Son', 'Source Code', 'Alive', 'The Number 23', 'The Young and Prodigious T.S. Spivet', '1941', 'Dreamer: Inspired By a True Story', 'A History of Violence', 'Transporter 2', 'The Quick and the Dead', 'Laws of Attraction', 'Bringing Out the Dead', 'Repo Men', 'Dragon Wars: D-War', 'Bogus', 'The Incredible Burt Wonderstone', \"Cats Don't Dance\", 'Cradle Will Rock', 'The Good German', 'George and the Dragon', 'Apocalypse Now', 'Going the Distance', \"Mr. Holland's Opus\", 'Criminal', 'Out of Africa', 'Flight', 'Moonraker', 'The Grand Budapest Hotel', 'Hearts in Atlantis', 'Arachnophobia', 'Frequency', 'Vacation', 'Get Shorty', 'Chicago', 'Big Daddy', 'American Pie 2', 'Toy Story', 'Speed', 'The Vow', 'Extraordinary Measures', 'Remember the Titans', 'The Hunt for Red October', 'The Butler', 'DodgeBall: A True Underdog Story', 'The Addams Family', 'Ace Ventura: When Nature Calls', 'The Princess Diaries', 'The First Wives Club', 'Se7en', 'District 9', 'The SpongeBob SquarePants Movie', 'Mystic River', 'Million Dollar Baby', 'Analyze This', 'The Notebook', '27 Dresses', 'Hannah Montana: The Movie', 'Rugrats in Paris: The Movie', 'The Prince of Tides', 'Legends of the Fall', 'Up in the Air', 'About Schmidt', 'Warm Bodies', 'Looper', 'Down to Earth', 'Babe', 'Hope Springs', 'Forgetting Sarah Marshall', 'Four Brothers', 'Baby Mama', 'Hope Floats', 'Bride Wars', 'Without a Paddle', '13 Going on 30', 'Midnight in Paris', 'The Nut Job', 'Blow', 'Message in a Bottle', 'Star Trek V: The Final Frontier', 'Like Mike', 'The Naked Gun 33⅓: The Final Insult', 'A View to a Kill', 'The Curse of the Were-Rabbit', 'P.S. I Love You', 'Racing Stripes', 'Atonement', 'Letters to Juliet', 'Black Rain', 'The Three Stooges', 'Corpse Bride', 'Glory Road', 'Sicario', 'Southpaw', 'Drag Me to Hell', 'The Age of Adaline', 'Secondhand Lions', 'Step Up 3D', 'Blue Crush', 'Stranger Than Fiction', '30 Days of Night', 'The Cabin in the Woods', 'Meet the Spartans', 'Midnight Run', 'The Running Man', 'Little Shop of Horrors', 'Hanna', 'Mortal Kombat: Annihilation', 'Larry Crowne', 'Carrie', 'Take the Lead', 'Gridiron Gang', \"What's the Worst That Could Happen?\", '9', 'Side Effects', 'The Prince & Me', 'Winnie the Pooh', 'Dumb and Dumberer: When Harry Met Lloyd', 'Bulworth', 'Get on Up', 'One True Thing', 'Virtuosity', 'My Super Ex-Girlfriend', 'Deliver Us from Evil', 'Sanctum', 'Little Black Book', 'The Five-Year Engagement', 'Mr. 3000', 'The Next Three Days', 'Ultraviolet', 'Assault on Precinct 13', 'The Replacement Killers', 'Fled', 'Eight Legged Freaks', 'Love & Other Drugs', '88 Minutes', 'North Country', 'The Whole Ten Yards', 'Splice', 'Howard the Duck', 'Pride and Glory', 'The Cave', 'Alex & Emma', 'Wicker Park', 'Fright Night', 'The New World', 'Wing Commander', 'In Dreams', 'Dragonball Evolution', 'The Last Stand', 'Godsend', 'Chasing Liberty', 'Hoodwinked Too! Hood VS. Evil', 'An Unfinished Life', 'The Imaginarium of Doctor Parnassus', \"Barney's Version\", 'Runner Runner', 'Antitrust', 'Glory', 'Once Upon a Time in America', 'Dead Man Down', 'The Merchant of Venice', 'The Good Thief', 'Supercross', 'Miss Potter', 'The Promise', 'DOA: Dead or Alive', 'The Assassination of Jesse James by the Coward Robert Ford', '1911', 'Little Nicholas', 'Wild Card', 'Machine Gun Preacher', 'Animals United', 'Goodbye Bafana', 'United Passions', 'Grace of Monaco', 'Savva. Heart of the Warrior', \"Ripley's Game\", 'Sausage Party', 'Pitch Perfect 2', 'Walk the Line', 'Keeping the Faith', 'The Borrowers', 'Frost/Nixon', 'Confessions of a Dangerous Mind', 'Serving Sara', 'The Boss', 'Cry Freedom', 'Mumford', 'Seed of Chucky', 'The Jacket', 'Aladdin', 'Straight Outta Compton', 'Indiana Jones and the Temple of Doom', 'The Rugrats Movie', 'Along Came a Spider', 'Florence Foster Jenkins', 'Once Upon a Time in Mexico', 'Die Hard', 'Role Models', 'The Big Short', 'Taking Woodstock', 'Miracle', 'Dawn of the Dead', 'The Wedding Planner', 'Space Pirate Captain Harlock', 'The Royal Tenenbaums', 'Identity', 'Last Vegas', 'For Your Eyes Only', 'Serendipity', 'Timecop', 'Zoolander', 'Safe Haven', 'Hocus Pocus', 'No Reservations', 'Kick-Ass', '30 Minutes or Less', 'Dracula 2000', 'Alexander and the Terrible, Horrible, No Good, Very Bad Day', 'Pride & Prejudice', 'Blade Runner', 'Rob Roy', '3 Days to Kill', 'We Own the Night', 'Lost Souls', 'Winged Migration', 'Just My Luck', 'Mystery, Alaska', 'The Spy Next Door', 'A Simple Wish', 'Ghosts of Mars', 'Our Brand Is Crisis', 'Pride and Prejudice and Zombies', 'Kundun', 'How to Lose Friends & Alienate People', 'Kick-Ass 2', 'Alatriste', 'Brick Mansions', 'Octopussy', 'Knocked Up', \"My Sister's Keeper\", 'Welcome Home Roscoe Jenkins', 'A Passage to India', 'Notes on a Scandal', 'Rendition', 'Star Trek VI: The Undiscovered Country', 'Divine Secrets of the Ya-Ya Sisterhood', 'Kiss the Girls', 'The Blues Brothers', 'The Sisterhood of the Traveling Pants 2', 'Joyful Noise', 'About a Boy', 'Lake Placid', 'Lucky Number Slevin', 'The Right Stuff', 'Anonymous', 'The NeverEnding Story', 'Dark City', 'The Duchess', 'Return to Oz', 'The Newton Boys', 'Case 39', 'Suspect Zero', 'Martian Child', 'Spy Kids: All the Time in the World', 'Money Monster', 'The 51st State', 'Flawless', 'Mindhunters', 'What Just Happened', 'The Statement', 'The Magic Flute', 'Paul Blart: Mall Cop', 'Freaky Friday', 'The 40 Year Old Virgin', 'Shakespeare in Love', 'A Walk Among the Tombstones', 'Kindergarten Cop', 'Pineapple Express', 'Ever After: A Cinderella Story', 'Open Range', 'Flatliners', 'A Bridge Too Far', 'Red Eye', 'Final Destination 2', 'O Brother, Where Art Thou?', 'Legion', 'Pain & Gain', 'In Good Company', 'Clockstoppers', 'Silverado', 'Brothers', 'Agent Cody Banks 2: Destination London', \"New Year's Eve\", 'Original Sin', 'The Raven', 'Welcome to Mooseport', 'Highlander: The Final Dimension', 'Blood and Wine', 'Snow White: A Tale of Terror', 'The Curse of the Jade Scorpion', 'Accidental Love', 'Flipper', 'Self/less', 'The Constant Gardener', 'The Passion of the Christ', 'Mrs. Doubtfire', 'Rain Man', 'Gran Torino', 'W.', 'Taken', 'The Best of Me', 'The Bodyguard', \"Schindler's List\", 'The Help', 'The Fifth Estate', 'Scooby-Doo 2: Monsters Unleashed', 'Forbidden Kingdom', 'Freddy vs. Jason', 'The Face of an Angel', 'Jimmy Neutron: Boy Genius', 'Cloverfield', 'Teenage Mutant Ninja Turtles II: The Secret of the Ooze', 'The Untouchables', 'No Country for Old Men', 'Ride Along', \"Bridget Jones's Diary\", 'Chocolat', 'Legally Blonde 2: Red, White & Blonde', 'Parental Guidance', 'No Strings Attached', 'Tombstone', 'Romeo Must Die', 'The Omen', 'Final Destination 3', 'The Lucky One', 'Bridge to Terabithia', 'Finding Neverland', 'A Madea Christmas', 'The Grey', 'Hide and Seek', 'Anchorman: The Legend of Ron Burgundy', 'GoodFellas', 'Agent Cody Banks', 'Nanny McPhee', 'Scarface', 'Nothing to Lose', 'The Last Emperor', 'Contraband', 'Money Talks', 'There Will Be Blood', 'The Wild Thornberrys Movie', 'Rugrats Go Wild', 'Undercover Brother', 'The Sisterhood of the Traveling Pants', 'Kiss of the Dragon', 'The House Bunny', 'Beauty Shop', 'Million Dollar Arm', 'The Giver', 'What a Girl Wants', 'Jeepers Creepers 2', 'Good Luck Chuck', 'Cradle 2 the Grave', 'The Hours', \"She's the Man\", \"Mr. Bean's Holiday\", 'Anacondas: The Hunt for the Blood Orchid', 'Blood Ties', 'August Rush', 'Elizabeth', 'Bride of Chucky', 'Tora! Tora! Tora!', 'Spice World', 'The Sitter', 'Dance Flick', 'The Shawshank Redemption', 'Crocodile Dundee in Los Angeles', 'Kingpin', 'The Gambler', 'August: Osage County', 'Ice Princess', 'A Lot Like Love', 'Eddie the Eagle', 'He Got Game', 'Don Juan DeMarco', 'Dear John', 'The Losers', \"Don't Be Afraid of the Dark\", 'War', 'Punch-Drunk Love', 'EuroTrip', 'Half Past Dead', 'Unaccompanied Minors', 'Bright Lights, Big City', 'The Adventures of Pinocchio', 'The Greatest Game Ever Played', 'The Box', 'The Ruins', 'The Next Best Thing', 'My Soul to Take', 'The Girl Next Door', 'Maximum Risk', 'Stealing Harvard', 'Legend', 'Hot Rod', 'Shark Night', \"Angela's Ashes\", 'Draft Day', 'Lifeforce', 'The Conspirator', 'Lords of Dogtown', 'The 33', 'Big Trouble in Little China', 'Fly Me to the Moon', 'Warrior', 'Michael Collins', 'Gettysburg', 'Stop-Loss', 'Abandon', 'Brokedown Palace', 'The Possession', 'Mrs. Winterbourne', 'Straw Dogs', 'The Hoax', 'Stone Cold', 'The Road', 'Sheena', 'Underclassman', \"Say It Isn't So\", \"The World's Fastest Indian\", 'Tank Girl', \"King's Ransom\", 'Blindness', 'BloodRayne', 'Carnage', 'Where the Truth Lies', 'Cirque du Soleil: Worlds Away', 'Without Limits', 'Me and Orson Welles', 'The Best Offer', 'The Bad Lieutenant: Port of Call - New Orleans', \"A Turtle's Tale: Sammy's Adventures\", 'Little White Lies', 'Love Ranch', \"The True Story of Puss 'n Boots\", 'Space Dogs', 'The Counselor', 'Ironclad', 'Waterloo', 'Kung Fu Jungle', 'Red Sky', 'Dangerous Liaisons', 'On the Road', 'Star Trek IV: The Voyage Home', 'Rocky Balboa', 'Scream 2', 'Jane Got a Gun', 'Think Like a Man Too', 'The Whole Nine Yards', 'Footloose', 'Old School', 'The Fisher King', 'I Still Know What You Did Last Summer', 'Return to Me', 'Zack and Miri Make a Porno', 'Nurse Betty', 'The Men Who Stare at Goats', 'Double Take', 'Girl, Interrupted', 'Win a Date with Tad Hamilton!', 'Muppets from Space', 'The Wiz', 'Ready to Rumble', 'Play It to the Bone', \"I Don't Know How She Does It\", 'Piranha 3D', 'Beyond the Sea', 'Meet the Deedles', 'The Thief and the Cobbler', 'The Bridge of San Luis Rey', 'Faster', \"Howl's Moving Castle\", 'Zombieland', 'The Waterboy', 'The Empire Strikes Back', 'Bad Boys', 'The Naked Gun 2½: The Smell of Fear', 'Final Destination', 'The Ides of March', 'Pitch Black', 'Someone Like You...', 'Her', 'Joy Ride', 'The Adventurer: The Curse of the Midas Box', 'Anywhere But Here', 'The Crew', 'Haywire', 'Jaws: The Revenge', \"Marvin's Room\", 'The Longshots', 'The End of the Affair', 'Harley Davidson and the Marlboro Man', 'In the Valley of Elah', 'Coco Before Chanel', 'Forsaken', 'Cheri', 'Vanity Fair', 'Bodyguards and Assassins', '1408', 'Spaceballs', 'The Water Diviner', 'Ghost', \"There's Something About Mary\", 'The Santa Clause', 'The Rookie', 'The Game Plan', 'The Bridges of Madison County', 'The Animal', 'Gandhi', 'The Hundred-Foot Journey', 'The Net', 'I Am Sam', 'Son of God', 'Underworld', 'Derailed', 'The Informant!', 'Shadowlands', 'Deuce Bigalow: European Gigolo', 'Delivery Man', 'Our Kind of Traitor', 'Saving Silverman', 'Diary of a Wimpy Kid: Dog Days', 'Summer of Sam', 'Jay and Silent Bob Strike Back', 'The Glass House', 'Hail, Caesar!', 'Josie and the Pussycats', 'Homefront', 'The Little Vampire', 'I Heart Huckabees', 'RoboCop 3', 'Megiddo: The Omega Code 2', 'Darling Lili', 'Dudley Do-Right', 'The Transporter Refueled', 'The Libertine', 'Black Book', 'Joyeux Noël', 'Hit & Run', 'Mad Money', 'Before I Go to Sleep', 'Sorcerer', 'Stone', 'Moliere', 'Out of the Furnace', 'Michael Clayton', 'My Fellow Americans', 'Arlington Road', 'Underdogs', 'To Rome with Love', 'Firefox', 'South Park: Bigger, Longer & Uncut', 'Death at a Funeral', 'Teenage Mutant Ninja Turtles III', 'Hardball', 'Silver Linings Playbook', 'Freedom Writers', 'For Colored Girls', 'The Transporter', 'Never Back Down', 'The Rage: Carrie 2', 'Away We Go', 'Swing Vote', 'Moonlight Mile', 'Tinker Tailor Soldier Spy', 'Molly', 'The Beaver', 'The Best Little Whorehouse in Texas', 'eXistenZ', 'Raiders of the Lost Ark', 'Home Alone 2: Lost in New York', 'Close Encounters of the Third Kind', 'Pulse', 'Beverly Hills Cop II', 'Bringing Down the House', 'The Silence of the Lambs', \"Wayne's World\", 'Jackass 3D', 'Jaws 2', 'Beverly Hills Chihuahua', 'The Conjuring', 'Are We There Yet?', 'Tammy', 'School of Rock', 'Mortal Kombat', 'White Chicks', 'The Descendants', 'Holes', 'The Last Song', '12 Years a Slave', 'Drumline', 'Why Did I Get Married Too?', 'Edward Scissorhands', 'Me Before You', \"Madea's Witness Protection\", 'The French Connection', 'Bad Moms', 'Date Movie', 'Return to Never Land', 'Selma', 'The Jungle Book 2', 'Boogeyman', 'Premonition', 'The Tigger Movie', 'Orphan', 'Max', 'Epic Movie', 'Spotlight', 'Lakeview Terrace', 'The Grudge 2', 'How Stella Got Her Groove Back', \"Bill & Ted's Bogus Journey\", 'Man of the Year', 'The Black Hole', 'The American', 'Selena', 'Vampires Suck', 'Babel', 'This Is Where I Leave You', 'Doubt', 'Team America: World Police', 'Texas Chainsaw 3D', 'Copycat', 'Scary Movie 5', 'Paint Your Wagon', 'Milk', 'Risen', 'Ghost Ship', 'A Very Harold & Kumar Christmas', 'Wild Things', 'The Stepfather', 'The Debt', 'High Fidelity', 'One Missed Call', 'Eye for an Eye', 'The Bank Job', 'Eternal Sunshine of the Spotless Mind', 'You Again', 'Street Kings', \"The World's End\", 'Nancy Drew', 'Daybreakers', \"She's Out of My League\", 'Monte Carlo', 'Stay Alive', 'Quigley Down Under', 'Alpha and Omega', 'The Covenant', 'Stick It', 'Shorts', 'To Die For', 'Nerve', 'Appaloosa', 'Vampires', 'Psycho', \"My Best Friend's Girl\", 'Endless Love', 'Georgia Rule', 'Under the Rainbow', 'Ladyhawke', 'Simon Birch', 'Reign Over Me', 'Into the Wild', 'School for Scoundrels', 'Silent Hill: Revelation 3D', 'From Dusk Till Dawn', \"Pooh's Heffalump Movie\", 'Home for the Holidays', 'Kung Fu Hustle', 'The Country Bears', 'The Kite Runner', '21 Grams', 'Paparazzi', 'A Guy Thing', 'Loser', 'Capitalism: A Love Story', 'The Greatest Story Ever Told', 'Secret in Their Eyes', 'Disaster Movie', 'Armored', 'The Man Who Knew Too Little', \"What's Your Number?\", 'Lockout', 'Envy', 'Crank: High Voltage', 'Bullets Over Broadway', 'One Night with the King', 'The Quiet American', 'The Weather Man', 'Undisputed', 'Ghost Town', '12 Rounds', 'Let Me In', '3 Ninjas Kick Back', 'Be Kind Rewind', 'Mrs Henderson Presents', 'Triple 9', 'Deconstructing Harry', 'Three to Tango', 'Burnt', \"We're No Angels\", 'Everyone Says I Love You', 'Death Sentence', \"Everybody's Fine\", 'Superbabies: Baby Geniuses 2', 'The Man', 'Code Name: The Cleaner', 'Connie and Carla', 'Sweet Charity', 'Inherent Vice', 'Doogal', 'Battle of the Year', 'An American Carol', 'Machete Kills', 'Willard', 'Strange Wilderness', 'Topsy-Turvy', 'Little Boy', 'A Dangerous Method', 'A Scanner Darkly', 'Chasing Mavericks', 'Alone in the Dark', 'Bandslam', 'Birth', 'A Most Violent Year', 'Passchendaele', 'Flash of Genius', \"I'm Not There.\", 'The Cold Light of Day', 'The Brothers Bloom', 'Synecdoche, New York', 'Princess Mononoke', 'Bon voyage', \"Can't Stop the Music\", 'The Proposition', 'My All American', 'Marci X', 'Equilibrium', 'The Children of Huang Shi', 'The Yards', 'The Oogieloves in the Big Balloon Adventure', 'By the Sea', 'Steamboy', 'The Game of Their Lives', 'All Good Things', 'Rapa Nui', 'CJ7', 'The Visitors II: The Corridors of Time', 'Dylan Dog: Dead of Night', 'People I Know', 'The Tempest', 'Regression', 'Three Kingdoms: Resurrection of the Dragon', 'Butterfly on a Wheel', 'Zambezia', 'Ramanujan', 'Dwegons', 'Hands of Stone', 'Survivor', 'The Frozen Ground', 'The Painted Veil', 'The Baader Meinhof Complex', 'Dances with Wolves', 'Bad Teacher', 'Sea of Love', 'A Cinderella Story', 'Scream', 'Thir13en Ghosts', 'The Shining', 'Back to the Future', 'House on Haunted Hill', 'I Can Do Bad All By Myself', 'Fight Valley', 'The Switch', 'Just Married', \"The Devil's Double\", 'Thomas and the Magic Railroad', 'The Crazies', 'Spirited Away', 'Firestorm', 'The Bounty', 'The Book Thief', 'Sex Drive', 'Leap Year', 'The Fall of the Roman Empire', 'Take Me Home Tonight', \"Won't Back Down\", 'The Nutcracker', 'Kansas City', 'Indignation', 'The Amityville Horror', 'Adaptation.', 'Land of the Dead', 'Out of Inferno', 'Fear and Loathing in Las Vegas', 'The Invention of Lying', 'Neighbors', 'The Mask', 'Big', 'Borat: Cultural Learnings of America for Make Benefit Glorious Nation of Kazakhstan', 'Legally Blonde', 'Star Trek III: The Search for Spock', 'The Exorcism of Emily Rose', 'Deuce Bigalow: Male Gigolo', 'Left Behind', 'The Family Stone', 'Barbershop 2:  Back in Business', 'Bad Santa', 'Austin Powers: International Man of Mystery', 'My Big Fat Greek Wedding 2', 'Diary of a Wimpy Kid: Rodrick Rules', 'Predator', 'Amadeus', 'Prom Night', 'Mean Girls', 'Under the Tuscan Sun', 'Gosford Park', 'Peggy Sue Got Married', 'Birdman', 'Blue Jasmine', 'United 93', 'Honey', 'Spy Hard', 'The Fog', 'Soul Surfer', 'Catch-22', 'Observe and Report', 'Conan the Destroyer', 'Raging Bull', 'Love Happens', 'Young Sherlock Holmes', 'Fame', '127 Hours', 'Small Time Crooks', 'Center Stage', 'Love the Coopers', 'Catch That Kid', 'Life as a House', 'Steve Jobs', 'I Love You, Beth Cooper', 'Youth in Revolt', 'The Legend of the Lone Ranger', 'The Tailor of Panama', 'Blow Out', 'Getaway', 'The Ice Storm', 'And So It Goes', 'Troop Beverly Hills', 'Being Julia', 'Nine 1/2 Weeks', 'Dragonslayer', 'The Last Station', 'Ed Wood', 'Labor Day', 'Mongol: The Rise of Genghis Khan', 'RockNRolla', 'Megaforce', 'Hamlet', \"Mao's Last Dancer\", 'Midnight Special', 'Anything Else', 'The Railway Man', 'The White Ribbon', 'Restoration', 'The Wraith', 'Salton Sea', 'Metallica: Through the Never', 'The Informers', 'Carlos', 'I Come with the Rain', \"One Man's Hero\", 'Day of the Dead', 'I Am Wrath', 'Renaissance', 'Red Sonja', 'Red Lights', 'Superbad', 'Madea Goes to Jail', 'Wolves', 'Step Up 2: The Streets', 'Hoodwinked!', 'Hotel Rwanda', 'Hitman', 'Black Nativity', 'The Prince', 'City of Ghosts', 'The Others', 'Aliens', 'My Fair Lady', 'I Know What You Did Last Summer', \"Let's Be Cops\", 'Sideways', 'Beerfest', 'Halloween', 'Good Boy!', 'The Best Man Holiday', \"Smokin' Aces\", 'Saw: The Final Chapter', '40 Days and 40 Nights', 'A Night at the Roxbury', 'Beastly', 'The Hills Have Eyes', 'Dickie Roberts: Former Child Star', 'McFarland, USA', 'Lottery Ticket', 'ATL', 'Pitch Perfect', 'Summer Catch', 'A Simple Plan', 'They', 'Larry the Cable Guy: Health Inspector', 'The Adventures of Elmo in Grouchland', \"Brooklyn's Finest\", '55 Days at Peking', 'Evil Dead', 'My Life in Ruins', 'American Dreamz', 'Superman IV: The Quest for Peace', 'How She Move', 'Running Scared', 'Bobby Jones: Stroke of Genius', 'Shanghai Surprise', 'The Illusionist', 'Roar', 'Veronica Guerin', 'Escobar: Paradise Lost', 'Southland Tales', 'Dragon Hunters', 'Damnation Alley', 'The Apparition', 'My Girl', 'Fur: An Imaginary Portrait of Diane Arbus', 'Wall Street', 'Sense and Sensibility', 'Becoming Jane', 'Sydney White', 'House of Sand and Fog', 'Dead Poets Society', 'Dumb and Dumber', 'When Harry Met Sally...', 'The Verdict', 'Road Trip', 'Varsity Blues', 'The Artist', 'The Unborn', 'Moonrise Kingdom', 'The Texas Chainsaw Massacre: The Beginning', 'The Young Messiah', 'The Master of Disguise', \"Pan's Labyrinth\", 'See Spot Run', 'Baby Boy', 'The Roommate', 'Joe Dirt', 'Double Impact', 'Hot Fuzz', 'The Women', 'Vicky Cristina Barcelona', 'Arn: The Knight Templar', 'Boys and Girls', 'White Oleander', \"Jennifer's Body\", 'Drowning Mona', 'Radio Days', 'Remember Me', 'How to Deal', 'My Stepmother is an Alien', 'Philadelphia', 'The Thirteenth Floor', 'The Cookout', 'Meteor', 'Duets', 'Hollywood Ending', 'Detroit Rock City', 'Highlander', 'Things We Lost in the Fire', 'Steel', 'The Immigrant', 'The White Countess', 'Trance', 'Soul Plane', 'Welcome to the Sticks', 'Good', 'Enter the Void', 'Vamps', \"Hachi: A Dog's Tale\", 'Zulu', 'The Homesman', 'Juwanna Mann', 'Ararat', 'Madison', 'Slow Burn', 'Wasabi', 'Slither', 'Beverly Hills Cop', 'Home Alone', 'Three Men and a Baby', 'Tootsie', 'Top Gun', 'Crouching Tiger, Hidden Dragon', 'American Beauty', \"The King's Speech\", 'Twins', 'The Yellow Handkerchief', 'The Color Purple', 'Tidal Wave', 'The Imitation Game', 'Private Benjamin', \"Coal Miner's Daughter\", 'Diary of a Wimpy Kid', 'Mama', \"National Lampoon's Vacation\", 'Bad Grandpa', 'The Queen', 'Beetlejuice', 'Why Did I Get Married?', 'Little Women', 'The Woman in Black', 'When a Stranger Calls', 'Big Fat Liar', 'The Deer Hunter', 'Wag the Dog', 'The Lizzie McGuire Movie', 'Snitch', 'Krampus', 'The Faculty', \"What's Love Got to Do with It\", 'Cop Land', 'Not Another Teen Movie', 'End of Watch', 'The Skulls', 'The Theory of Everything', \"Malibu's Most Wanted\", 'Where the Heart Is', 'Lawrence of Arabia', 'Halloween II', 'Wild', 'The Last House on the Left', 'The Wedding Date', 'Halloween: Resurrection', 'The Princess Bride', 'The Great Debaters', 'Drive', 'Confessions of a Teenage Drama Queen', 'The Object of My Affection', '28 Weeks Later', 'When the Game Stands Tall', 'Because of Winn-Dixie', 'Love & Basketball', 'Grosse Pointe Blank', 'All About Steve', 'Book of Shadows: Blair Witch 2', 'The Craft', 'Match Point', 'Ramona and Beezus', 'The Remains of the Day', 'Boogie Nights', 'Nowhere to Run', 'Flicka', 'The Hills Have Eyes 2', 'Urban Legends: Final Cut', 'Tuck Everlasting', 'The Marine', 'Keanu', 'Country Strong', 'Disturbing Behavior', 'The Place Beyond the Pines', 'The November Man', 'Eye of the Beholder', 'The Hurt Locker', 'Firestarter', 'Killing Them Softly', 'A Most Wanted Man', 'Freddy Got Fingered', \"VeggieTales: The Pirates Who Don't Do Anything\", 'U2 3D', 'Highlander: Endgame', 'Idlewild', 'One Day', 'Whip It', 'Knockaround Guys', 'Confidence', 'The Muse', 'De-Lovely', 'New York Stories', \"Barney's Great Adventure\", 'The Man with the Iron Fists', 'Home Fries', 'Here On Earth', 'Brazil', 'Raise Your Voice', 'The Big Lebowski', 'Black Snake Moan', 'Dark Blue', 'A Mighty Heart', 'Whatever It Takes', 'Boat Trip', 'The Importance of Being Earnest', 'The Love Letter', 'Hoot', 'In Bruges', 'Peeples', 'The Rocker', 'Post Grad', 'Promised Land', 'Whatever Works', 'The In Crowd', 'The Three Burials of Melquiades Estrada', 'Jakob the Liar', 'Kiss Kiss Bang Bang', 'Idle Hands', 'Mulholland Drive', 'Blood and Chocolate', 'You Will Meet a Tall Dark Stranger', 'Never Let Me Go', 'The Company', 'Transsiberian', 'The Clan of the Cave Bear', 'Crazy in Alabama', 'Funny Games', 'Listening', \"Felicia's Journey\", 'Metropolis', 'District B13', \"Things to Do in Denver When You're Dead\", 'The Assassin', 'Buffalo Soldiers', 'The Return', 'Ong Bak 2', 'Centurion', 'Silent Trigger', 'The Midnight Meat Train', 'Winnie Mandela', 'The Son of No One', \"All The Queen's Men\", 'The Good Night', 'Bathory: Countess of Blood', 'Khumba', 'Automata', 'Dungeons & Dragons: Wrath of the Dragon God', 'Chiamatemi Francesco - Il Papa della gente', 'Shinjuku Incident', 'Pandaemonium', 'Groundhog Day', 'Magic Mike XXL', 'Romeo + Juliet', \"Sarah's Key\", 'Freedom', 'Unforgiven', 'Manderlay', 'Slumdog Millionaire', 'Fatal Attraction', 'Pretty Woman', 'Crocodile Dundee II', 'Broken Horses', 'Born on the Fourth of July', 'Cool Runnings', 'My Bloody Valentine', 'Stomp the Yard', 'The Spy Who Loved Me', 'Urban Legend', 'Good Deeds', 'White Fang', 'Superstar', 'The Iron Lady', 'Jonah: A VeggieTales Movie', 'Poetic Justice', 'All About the Benjamins', 'Vampire in Brooklyn', 'Exorcist II: The Heretic', 'An American Haunting', \"My Boss's Daughter\", 'A Perfect Getaway', 'Our Family Wedding', 'Dead Man on Campus', 'Tea with Mussolini', 'Thinner', 'New York, New York', 'Crooklyn', 'I Think I Love My Wife', 'Jason X', 'Bobby', 'Head Over Heels', 'Fun Size', 'The Diving Bell and the Butterfly', 'Little Children', 'Gossip', 'A Walk on the Moon', 'Catch a Fire', 'Soul Survivors', 'Jefferson in Paris', 'Easy Virtue', 'Caravans', 'Mr. Turner', 'Wild Grass', 'Amen.', 'Reign of Assassins', 'The Lucky Ones', 'Margaret', 'Stan Helsing', 'Flipped', 'Brokeback Mountain', 'Clueless', 'Far from Heaven', 'Hot Tub Time Machine 2', 'Quills', 'Seven Psychopaths', \"The Caveman's Valentine\", 'Downfall', 'The Sea Inside', 'Under the Skin', 'Good Morning, Vietnam', 'The Last Godfather', 'Justin Bieber: Never Say Never', 'Black Swan', 'The Godfather: Part II', 'Save the Last Dance', 'A Nightmare on Elm Street 4: The Dream Master', 'Miracles from Heaven', 'Dude, Where’s My Car?', 'Young Guns', 'St. Vincent', 'About Last Night', '10 Things I Hate About You', 'The New Guy', \"National Lampoon's Loaded Weapon 1\", 'The Shallows', 'The Butterfly Effect', 'Snow Day', 'This Christmas', 'Baby Geniuses', 'The Big Hit', 'Harriet the Spy', \"Child's Play 2\", 'No Good Deed', 'The Mist', 'Ex Machina', 'Being John Malkovich', 'Two Can Play That Game', 'Earth to Echo', 'Crazy/Beautiful', 'Letters from Iwo Jima', 'The Astronaut Farmer', 'Woo', 'Room', 'Dirty Work', 'Serial Mom', 'Dick', 'Light It Up', '54', 'Bubble Boy', 'Birthday Girl', '21 & Over', \"Paris, je t'aime\", 'Resurrecting the Champ', 'Admission', 'The Widow of Saint-Pierre', 'Chloe', 'Faithful', 'Find Me Guilty', 'The Perks of Being a Wallflower', 'Excessive Force', 'Infamous', 'The Claim', 'The Vatican Tapes', 'Attack the Block', 'In the Land of Blood and Honey', 'The Call', 'Operation Chromite', 'The Crocodile Hunter: Collision Course', 'I Love You Phillip Morris', 'Quest for Fire', 'Antwone Fisher', \"The Emperor's Club\", 'True Romance', 'Womb', 'Glengarry Glen Ross', 'The Killer Inside Me', 'Cat People', 'Sorority Row', 'The Prisoner of Zenda', 'Lars and the Real Girl', 'The Boy in the Striped Pyjamas', 'Dancer in the Dark', 'Oscar and Lucinda', 'The Funeral', 'Solitary Man', 'Machete', 'Casino Jack', 'The Land Before Time', 'Tae Guk Gi: The Brotherhood of War', 'The Perfect Game', 'The Exorcist', 'Jaws', 'American Pie', 'Ernest & Celestine', 'The Golden Child', 'Think Like a Man', 'Barbershop', 'Star Trek II: The Wrath of Khan', 'Ace Ventura: Pet Detective', 'WarGames', 'Witness', 'Act of Valor', 'Step Up', 'Beavis and Butt-Head Do America', 'Jackie Brown', 'Harold & Kumar Escape from Guantanamo Bay', 'Chronicle', 'Yentl', 'Time Bandits', 'Crossroads', 'Project X', 'Patton', 'One Hour Photo', 'Quarantine', 'The Eye', 'Johnson Family Vacation', 'How High', 'The Muppet Christmas Carol', 'Frida', 'Katy Perry: Part of Me', 'The Fault in Our Stars', 'Rounders', 'Top Five', 'Prophecy', 'Stir of Echoes', 'Philomena', 'The Upside of Anger', 'The Boys from Brazil', 'Aquamarine', 'Paper Towns', \"My Baby's Daddy\", 'Nebraska', 'Tales from the Crypt: Demon Knight', \"Max Keeble's Big Move\", 'Young Adult', 'Crank', \"Def Jam's How to Be a Player\", 'Living Out Loud', 'Just Wright', 'Rachel Getting Married', 'The Postman Always Rings Twice', 'Girl with a Pearl Earring', 'Das Boot', 'Sorority Boys', 'About Time', 'House of Flying Daggers', 'Arbitrage', 'Project Almanac', 'Cadillac Records', 'Screwed', 'Fortress', 'For Your Consideration', 'Celebrity', 'Running with Scissors', 'From Justin to Kelly', 'Girl 6', 'In the Cut', 'Two Lovers', 'Last Orders', 'The Host', 'The Pursuit of D.B. Cooper', 'Ravenous', 'Charlie Bartlett', 'The Great Beauty', 'The Dangerous Lives of Altar Boys', 'Stoker', '2046', 'Married Life', 'Duma', 'Ondine', 'Brother', 'Welcome to Collinwood', 'Critical Care', 'The Life Before Her Eyes', 'Darling Companion', 'Trade', 'Fateless', 'Breakfast of Champions', 'A Woman, a Gun and a Noodle Shop', 'Cypher', 'City of Life and Death', 'Legend of a Rabbit', 'Space Battleship Yamato', '5 Days of War', 'Triangle', '10 Days in a Madhouse', 'Heaven is for Real', 'Snatch', \"Dancin' It's On\", 'Pet Sematary', 'Madadayo', 'The Cry of the Owl', 'A Tale of Three Cities', 'Gremlins', 'Star Wars', 'Dirty Grandpa', 'Doctor Zhivago', 'Trash', 'High School Musical 3: Senior Year', 'The Fighter', 'Jackass Number Two', 'My Cousin Vinny', 'If I Stay', 'Drive Hard', 'Major League', \"St. Trinian's\", 'Phone Booth', 'A Walk to Remember', 'Dead Man Walking', 'Cruel Intentions', 'Saw VI', 'History of the World: Part I', 'The Secret Life of Bees', 'Corky Romano', 'Raising Cain', 'F.I.S.T.', 'Invaders from Mars', 'Brooklyn', 'Barry Lyndon', 'Out Cold', 'The Ladies Man', 'Quartet', 'Tomcats', 'Frailty', 'Woman in Gold', 'Kinsey', 'Army of Darkness', 'Slackers', \"What's Eating Gilbert Grape\", 'The Visual Bible: The Gospel of John', 'Vera Drake', 'The Guru', 'The Perez Family', 'Inside Llewyn Davis', 'O', 'Return to the Blue Lagoon', 'The Molly Maguires', 'Romance & Cigarettes', 'Copying Beethoven', 'Brighton Rock', 'Saw V', 'Machine Gun McCain', 'LOL', 'Jindabyne', 'Kabhi Alvida Naa Kehna', 'An Ideal Husband', 'The Last Days on Mars', 'Darkness', '2001: A Space Odyssey', 'E.T. the Extra-Terrestrial', 'In the Land of Women', 'The Blue Butterfly', 'There Goes My Baby', 'Housefull', 'September Dawn', 'For Greater Glory - The True Story of Cristiada', 'The Bélier Family', 'Good Will Hunting', 'Misconduct', 'Saw III', 'Stripes', 'Bring It On', 'The Purge: Election Year', \"She's All That\", 'Saw IV', 'White Noise', \"Madea's Family Reunion\", 'The Color of Money', 'The Longest Day', 'The Mighty Ducks', 'The Grudge', 'Happy Gilmore', 'Jeepers Creepers', \"Bill & Ted's Excellent Adventure\", 'Oliver!', 'The Best Exotic Marigold Hotel', \"Recess: School's Out\", 'Mad Max Beyond Thunderdome', 'Commando', 'The Boy', 'Devil', 'Friday After Next', 'Insidious: Chapter 3', 'The Last Dragon', 'The Lawnmower Man', \"Nick and Norah's Infinite Playlist\", 'Dogma', 'The Banger Sisters', 'Twilight Zone: The Movie', 'Road House', 'A Low Down Dirty Shame', 'Swimfan', 'Employee of the Month', \"Can't Hardly Wait\", 'The Outsiders', \"Pete's Dragon\", 'The Dead Zone', 'Sinister 2', 'Sparkle', 'Valentine', 'The Fourth Kind', 'A Prairie Home Companion', 'Sugar Hill', 'Invasion U.S.A.', 'Roll Bounce', 'Rushmore', 'Skyline', 'The Second Best Exotic Marigold Hotel', 'Kit Kittredge: An American Girl', 'The Perfect Man', \"Mo' Better Blues\", 'Kung Pow: Enter the Fist', 'Tremors', 'Wrong Turn', 'The Long Riders', 'The Corruptor', 'Mud', 'Reno 911!: Miami', 'One Direction: This Is Us', 'The Goods: Live Hard, Sell Hard', 'Hey Arnold! The Movie', 'My Week with Marilyn', 'The Matador', 'Love Jones', 'The Gift', 'End of the Spear', 'Get Over It', 'Office Space', 'Drop Dead Gorgeous', 'Big Eyes', 'Very Bad Things', 'Sleepover', 'Body Double', 'MacGruber', 'Dirty Pretty Things', 'Movie 43', 'Over Her Dead Body', 'Seeking a Friend for the End of the World', 'Cedar Rapids', 'American History X', 'The Collection', \"Teacher's Pet\", 'The Red Violin', 'The Straight Story', 'Deuces Wild', 'Bad Words', 'Run, Fatboy, Run', 'Heartbeeps', 'Black or White', 'On the Line', 'Rescue Dawn', 'Danny Collins', 'Jeff, Who Lives at Home', 'I Am Love', 'Atlas Shrugged Part II', 'Romeo Is Bleeding', 'The Limey', 'Crash', 'The House of Mirth', 'Malone', 'Peaceful Warrior', 'Bucky Larson: Born to Be a Star', 'Bamboozled', 'The Forest', 'Sphinx', \"While We're Young\", 'A Better Life', 'Spider', 'Gun Shy', 'Nicholas Nickleby', 'The Iceman', 'Krrish', 'Cecil B. Demented', 'Killer Joe', 'The Joneses', 'Owning Mahowny', 'The Brothers Solomon', 'My Blueberry Nights', 'Illuminata', 'Swept Away', 'War, Inc.', 'Shaolin Soccer', 'The Brown Bunny', 'The Swindle', 'Rosewater', 'The Chambermaid on the Titanic', 'Coriolanus', 'Imaginary Heroes', 'High Heels and Low Lifes', \"World's Greatest Dad\", 'Severance', 'Edmond', 'Welcome to the Rileys', 'Police Academy: Mission to Moscow', 'Blood Done Sign My Name', 'Cinco de Mayo: La Batalla', 'Elsa & Fred', 'An Alan Smithee Film: Burn, Hollywood, Burn', 'The Open Road', 'The Good Guy', 'Motherhood', 'Free Style', 'Strangerland', 'Janky Promoters', 'Blonde Ambition', 'The Oxford Murders', 'The Reef', 'Eulogy', 'White Noise 2: The Light', 'Beat the World', 'Fifty Dead Men Walking', 'Jungle Shuffle', 'Adam Resurrected', 'Of Horses and Men', \"It's a Wonderful Afterlife\", \"The Devil's Tomb\", 'Partition', 'Good Intentions', 'The Good, The Bad, The Weird', 'Nurse 3-D', 'Gunless', 'Adventureland', 'The Lost City', 'Next Friday', 'American Heist', 'You Only Live Twice', 'Plastic', 'Amour', 'Poltergeist III', 'Re-Kill', \"It's a Mad, Mad, Mad, Mad World\", 'Volver', 'Heavy Metal', 'Gentlemen Broncos', 'Richard III', 'Into the Grizzly Maze', 'Kites', 'Melancholia', 'Red Dog', 'Jab Tak Hai Jaan', 'Alien', 'The Texas Chain Saw Massacre', 'The Runaways', 'Fiddler on the Roof', 'Thunderball', 'Detention', 'Loose Cannons', 'Set It Off', 'The Best Man', \"Child's Play\", 'Sicko', 'The Purge: Anarchy', 'Down to You', 'Harold & Kumar Go to White Castle', 'The Contender', 'Boiler Room', 'Trading Places', 'Black Christmas', \"Breakin' All the Rules\", 'Henry V', 'The Savages', 'Chasing Papi', 'The Way of the Gun', 'Igby Goes Down', 'PCU', 'The Ultimate Gift', 'The Ice Pirates', 'Gracie', 'Trust the Man', 'Hamlet 2', 'Velvet Goldmine', 'The Wailing', 'Glee: The Concert Movie', 'The Legend of Suriyothai', 'Two Evil Eyes', 'Barbecue', 'All or Nothing', 'Princess Kaiulani', 'Opal Dream', 'Flame & Citron', 'Undiscovered', 'Red Riding: In the Year of Our Lord 1974', 'The Girl on the Train', 'Veronika Decides to Die', 'Crocodile Dundee', 'Ultramarines: A Warhammer 40,000 Movie', 'The I Inside', 'Beneath Hill 60', 'Polisse', 'Awake', 'Star Wars: Clone Wars: Volume 1', 'Skin Trade', 'The Lost Boys', 'Crazy Heart', 'The Rose', 'Baggage Claim', 'Barbarella', 'Shipwrecked', 'Election', 'The Namesake', 'The DUFF', 'Glitter', 'The Haunting in Connecticut 2: Ghosts of Georgia', 'Silmido', 'Bright Star', 'My Name Is Khan', 'All Is Lost', 'Limbo', 'Namastey London', 'The Wind That Shakes the Barley', 'Yeh Jawaani Hai Deewani', 'Quo Vadis', 'Repo! The Genetic Opera', 'Valley of the Wolves: Iraq', 'Pulp Fiction', 'The Muppet Movie', 'Nightcrawler', 'Club Dread', 'The Sound of Music', 'Splash', 'Little Miss Sunshine', 'Stand by Me', '28 Days Later', 'You Got Served', 'Escape from Alcatraz', 'Brown Sugar', 'A Thin Line Between Love and Hate', '50/50', 'Shutter', 'That Awkward Moment', 'Modern Problems', 'Kicks', 'Much Ado About Nothing', \"On Her Majesty's Secret Service\", 'New Nightmare', 'Drive Me Crazy', 'Akeelah and the Bee', 'Half Baked', 'New in Town', 'American Psycho', 'The Good Girl', 'Bon Cop Bad Cop', 'The Boondock Saints II: All Saints Day', 'The City of Your Final Destination', 'Enough Said', 'Easy A', 'The Inkwell', 'Shadow of the Vampire', 'Prom', 'The Pallbearer', 'Held Up', 'Woman on Top', 'Howards End', 'Anomalisa', 'Another Year', '8 Women', 'Showdown in Little Tokyo', 'Clay Pigeons', \"It's Kind of a Funny Story\", 'Made in Dagenham', 'When Did You Last See Your Father?', 'Prefontaine', 'The Wicked Lady', 'The Secret of Kells', 'Begin Again', 'Down in the Valley', 'Brooklyn Rules', 'Restless', 'The Singing Detective', 'The Land Girls', 'Fido', 'The Wendell Baker Story', 'Wild Target', 'Pathology', 'Wuthering Heights', '10th & Wolf', 'Dear Wendy', 'Aloft', 'Akira', 'The Death and Life of Bobby Z', 'The Rocket: The Legend of Rocket Richard', 'Swelter', 'My Lucky Star', 'Imagine Me & You', 'Mr. Church', 'Swimming Pool', 'Green Street Hooligans: Underground', 'The Blood of Heroes', 'Code of Honor', 'Driving Miss Daisy', 'Soul Food', 'Rumble in the Bronx', 'Far from Men', 'Thank You for Smoking', 'Hostel: Part II', 'An Education', 'Shopgirl', 'The Hotel New Hampshire', 'Narc', 'Men with Brooms', 'Witless Protection', 'The Work and the Glory', 'Extract', 'Masked and Anonymous', 'Betty Fisher and Other Stories', 'Code 46', 'Outside Bet', 'Albert Nobbs', 'Black November', 'Ta Ra Rum Pum', 'Persepolis', 'The Hole', 'The Wave', 'The Neon Demon', 'Harry Brown', 'The Omega Code', 'Juno', 'Pound of Flesh', 'Diamonds Are Forever', 'The Godfather', 'Flashdance', '(500) Days of Summer', 'The Piano', 'Magic Mike', 'Darkness Falls', 'Live and Let Die', 'My Dog Skip', 'Definitely, Maybe', 'Jumping the Broom', 'Good Night, and Good Luck.', 'Capote', 'Desperado', \"Logan's Run\", 'The Man with the Golden Gun', 'Action Jackson', 'The Descent', 'Michael Jordan to the Max', \"Devil's Due\", 'Flirting with Disaster', \"The Devil's Rejects\", 'Dope', 'In Too Deep', 'House of 1000 Corpses', 'Alien Zone', 'A Serious Man', 'Get Low', 'Warlock', 'Beyond the Lights', 'A Single Man', 'The Last Temptation of Christ', 'Outside Providence', 'Bride & Prejudice', 'Rabbit-Proof Fence', \"Who's Your Caddy?\", 'Split Second', 'The Other Side of Heaven', 'Veer-Zaara', 'Redbelt', 'Cyrus', 'A Dog Of Flanders', 'Auto Focus', 'Factory Girl', 'We Need to Talk About Kevin', 'The Christmas Candle', 'The Mighty Macs', \"Losin' It\", 'Mother and Child', 'March or Die', 'The Visitors', 'Somewhere', 'I Hope They Serve Beer in Hell', 'Chairman of the Board', 'Hesher', 'Dom Hemingway', 'Gerry', 'The Heart of Me', 'Freeheld', 'The Extra Man', 'Hard to Be a God', 'Ca$h', 'Wah-Wah', 'The Boondock Saints', 'Z Storm', 'Twixt', 'The Snow Queen', 'Alpha and Omega: The Legend of the Saw Tooth Cave', 'Pale Rider', 'Stargate: The Ark of Truth', 'Dazed and Confused', 'High School Musical 2', 'Two Lovers and a Bear', 'Criminal Activities', 'Aimee & Jaguar', 'The Chumscrubber', 'Shade', 'House at the End of the Street', 'Incendies', 'Remember Me, My Love', 'Perrier’s Bounty', 'Elite Squad', 'Annabelle', 'Bran Nue Dae', 'Boyz n the Hood', 'La Bamba', 'The Four Seasons', 'Dressed to Kill', 'The Adventures of Huck Finn', 'Go', 'Friends with Money', 'The Andromeda Strain', 'Bats', 'Nowhere in Africa', 'Shame', 'Layer Cake', 'The Work and the Glory II: American Zion', 'The East', 'A Home at the End of the World', 'Aberdeen', 'The Messenger', 'Tracker', 'Control', 'The Terminator', 'Good bye, Lenin!', 'The Damned United', 'The Return of the Living Dead', 'Mallrats', 'Grease', 'Platoon', 'Fahrenheit 9/11', 'Butch Cassidy and the Sundance Kid', 'Mary Poppins', 'Ordinary People', 'West Side Story', 'Caddyshack', 'The Brothers', 'The Wood', 'The Usual Suspects', 'A Nightmare on Elm Street 5: The Dream Child', 'National Lampoon’s Van Wilder', 'The Wrestler', 'Duel in the Sun', 'Best in Show', 'Escape from New York', 'School Daze', 'Daddy Day Camp', 'Mr. Nice Guy', 'A Mighty Wind', 'Mystic Pizza', 'Sliding Doors', 'Tales from the Hood', 'The Last King of Scotland', 'Halloween 5: The Revenge of Michael Myers', 'Bernie', 'Dolphins and Whales: Tribes of the Ocean', 'Pollock', '200 Cigarettes', 'The Words', 'Casa De Mi Padre', 'City Island', 'The Guard', 'College', 'The Virgin Suicides', 'Little Voice', 'Miss March', 'Wish I Was Here', 'Simply Irresistible', 'Hedwig and the Angry Inch', 'Only the Strong', 'Goddess of Love', 'Shattered Glass', 'Novocaine', 'The Business of Strangers', 'The Wild Bunch', 'The Wackness', 'The First Great Train Robbery', 'Morvern Callar', 'Beastmaster 2: Through the Portal of Time', 'The 5th Quarter', 'The Flower of Evil', 'The Greatest', 'Snow Flower and the Secret Fan', 'Come Early Morning', 'Lucky Break', 'Julia', 'Surfer, Dude', 'Lake of Fire', '11:14', 'Men of War', 'Don McKay', 'Deadfall', 'A Shine of Rainbows', 'The Hit List', 'Emma', 'Videodrome', 'The Spanish Apartment', 'Song One', 'Winter in Wartime', 'Freaky Deaky', 'The Train', 'Trade Of Innocents', 'The Protector', 'Stiff Upper Lips', 'Bend It Like Beckham', 'Sunshine State', 'Crossover', 'Khiladi 786', '[REC]²', 'Standing Ovation', 'The Sting', 'Chariots of Fire', 'Diary of a Mad Black Woman', 'Shine', 'Don Jon', 'High Plains Drifter', 'Ghost World', 'Iris', 'Galaxina', 'The Chorus', 'Mambo Italiano', 'Wonderland', 'Do the Right Thing', 'Harvard Man', 'Le Havre', 'Irreversible', 'R100', 'Rang De Basanti', 'Animals', 'Salvation Boulevard', 'The Ten', 'A Room for Romeo Brass', 'Headhunters', 'Grabbers', 'Saint Ralph', 'Miss Julie', 'Somewhere in Time', 'Dum Maaro Dum', 'Insidious: Chapter 2', 'Saw II', '10 Cloverfield Lane', 'Jackass: The Movie', 'Lights Out', 'Paranormal Activity 3', 'Ouija', 'A Nightmare on Elm Street 3: Dream Warriors', 'Instructions Not Included', 'Paranormal Activity 4', 'The Robe', 'The Return of the Pink Panther', \"Freddy's Dead: The Final Nightmare\", 'Monster', '20,000 Leagues Under the Sea', 'Paranormal Activity: The Marked Ones', 'The Elephant Man', 'Dallas Buyers Club', 'The Lazarus Effect', 'Memento', 'Oculus', 'Clerks II', 'Billy Elliot', 'The Way Way Back', 'House Party 2', 'The Man from Snowy River', \"Doug's 1st Movie\", 'The Apostle', 'Mommie Dearest', 'Our Idiot Brother', 'Race', 'The Players Club', 'As Above, So Below', 'Addicted', \"Eve's Bayou\", 'Still Alice', 'The Egyptian', 'Nighthawks', 'Friday the 13th Part VIII: Jason Takes Manhattan', 'My Big Fat Greek Wedding', 'Spring Breakers', 'Halloween: The Curse of Michael Myers', 'Y Tu Mamá También', 'Shaun of the Dead', 'The Haunting of Molly Hartley', 'Lone Star', 'Halloween 4: The Return of Michael Myers', \"April Fool's Day\", 'Diner', 'Lone Wolf McQuade', 'Apollo 18', 'Sunshine Cleaning', 'No Escape', 'The Beastmaster', 'Solomon and Sheba', 'Fifty Shades of Black', 'Not Easily Broken', 'A Farewell to Arms', 'The Perfect Match', 'Digimon: The Movie', 'Saved!', 'The Barbarian Invasions', 'Robin and Marian', 'The Forsaken', 'Force 10 from Navarone', 'UHF', \"Grandma's Boy\", 'Slums of Beverly Hills', 'Once Upon a Time in the West', 'Made', 'Moon', 'Keeping Up with the Steins', 'Sea Rex 3D: Journey to a Prehistoric World', 'The Sweet Hereafter', 'Of Gods and Men', 'Bottle Shock', 'Jekyll and Hyde ... Together Again', 'Heavenly Creatures', '90 Minutes in Heaven', 'Everything Must Go', 'Zero Effect', 'The Machinist', 'Light Sleeper', 'Kill the Messenger', 'Rabbit Hole', 'Party Monster', 'Green Room', 'The Oh in Ohio', 'Atlas Shrugged Part III: Who is John Galt?', 'Bottle Rocket', 'Albino Alligator', 'Gandhi, My Father', 'Standard Operating Procedure', 'Out of the Blue', 'Tucker and Dale vs Evil', 'Lovely, Still', 'Tycoon', 'Desert Blue', 'Decoys', 'The Visit', 'Redacted', 'Fascination', 'Area 51', 'Sleep Tight', 'The Cottage', 'Dead Like Me: Life After Death', 'Farce of the Penguins', 'Flying By', 'Rudderless', 'Henry & Me', 'Christmas Eve', 'We Have Your Husband', 'Dying of the Light', 'Born Of War', 'Capricorn One', \"Should've Been Romeo\", 'Running Forever', 'Yoga Hosers', 'Navy Seals vs. Zombies', 'I Served the King of England', 'Soul Kitchen', 'Sling Blade', 'The Awakening', 'Hostel', 'A Cock and Bull Story', 'Take Shelter', 'Lady in White', 'Driving Lessons', \"Let's Kill Ward's Wife\", 'The Texas Chainsaw Massacre 2', 'Pat Garrett & Billy the Kid', 'Only God Forgives', 'Camping Sauvage', 'Without Men', 'Dear Frankie', 'All Hat', 'The Names of Love', 'Treading Water', 'Savage Grace', 'Out of the Blue', 'Police Academy', 'The Blue Lagoon', 'Four Weddings and a Funeral', 'Fast Times at Ridgemont High', 'Moby Dick', '25th Hour', 'Bound', 'Requiem for a Dream', 'State Fair', 'Tango', 'Salvador', \"Moms' Night Out\", 'Donnie Darko', 'Saving Private Perez', 'Character', 'Spun', 'Life During Wartime', 'Sympathy for Lady Vengeance', \"Mozart's Sister\", 'Mean Machine', 'Exiled', 'Blackthorn', 'Lilya 4-ever', 'After.Life', 'Fugly', \"One Flew Over the Cuckoo's Nest\", \"R.L. Stine's Monsterville: The Cabinet of Souls\", 'Silent Movie', 'Airlift', 'Anne of Green Gables', 'Falcon Rising', 'The Sweeney', 'Sexy Beast', 'Easy Money', 'Whale Rider', 'Paa', 'Cargo', 'High School Musical', 'Love and Death on Long Island', 'Night Watch', 'The Crying Game', \"Porky's\", 'Survival of the Dead', 'Night of the Living Dead', 'Lost in Translation', 'Annie Hall', 'The Greatest Show on Earth', \"Monster's Ball\", 'Maggie', 'Leaving Las Vegas', 'Hansel and Gretel Get Baked', 'The Front Page', 'The Boy Next Door', 'Trapeze', 'The Kids Are All Right', 'They Live', 'The Great Escape', 'What the #$*! Do We (K)now!?', 'The Last Exorcism Part II', 'Boyhood', 'Scoop', 'The Wash', '3 Strikes', 'The Cooler', 'The Misfits', 'The Night Listener', 'The Jerky Boys', 'The Orphanage', 'A Haunted House 2', 'The Rules of Attraction', 'Topaz', \"Let's Go to Prison\", 'Four Rooms', 'Secretary', 'The Real Cancun', 'Talk Radio', 'Waiting for Guffman', 'Love Stinks', 'You Kill Me', 'Thumbsucker', 'Red State', 'Mirrormask', 'Samsara', 'The Barbarians', 'The Art of Getting By', 'Zipper', 'Poolhall Junkies', 'The Loss of Sexual Innocence', 'Holy Motors', 'Joe', 'Shooting Fish', 'Prison', 'Psycho Beach Party', 'The Big Tease', 'Guten Tag, Ramón', 'Trust', 'An Everlasting Piece', 'Among Giants', 'Adore', 'The Velocity of Gary', 'Mondays in the Sun', 'Stake Land', 'The Last Time I Committed Suicide', 'Futuro Beach', 'Another Happy Day', 'A Lonely Place to Die', 'Nothing', 'The Geographer Drank His Globe Away', '1776', 'Inescapable', \"Hell's Angels\", 'Purple Violets', 'The Veil', 'The Loved Ones', 'The Helpers', 'How to Fall in Love', 'The Perfect Wave', 'A Man for All Seasons', 'Network', 'Gone with the Wind', 'Desert Dancer', 'Major Dundee', 'Annie Get Your Gun', 'Four Lions', 'The House of Sand', 'Defendor', 'The Pirate', 'The Good Heart', 'The History Boys', 'Midnight Cowboy', 'The Full Monty', 'Airplane!', 'Chain of Command', 'Friday', 'Menace II Society', 'Creepshow 2', 'The Ballad of Cable Hogue', 'In Cold Blood', \"The Nun's Story\", 'Harper', 'Frenzy', 'The Witch', 'I Got the Hook Up', \"She's the One\", 'Gods and Monsters', 'The Secret in Their Eyes', 'Train', 'Evil Dead II', 'Pootie Tang', 'Sharknado', 'The Other Conquest', 'Troll Hunter', 'Ira & Abby', 'Winter Passing', 'D.E.B.S.', 'The Masked Saint', 'The Betrayed', 'Taxman', 'The Secret', '2:13', 'Batman: The Dark Knight Returns, Part 2', 'Time to Choose', 'In the Name of the King III', 'Wicked Blood', 'Stranded', 'Lords of London', 'High Anxiety', 'March of the Penguins', 'Margin Call', 'August', 'Choke', 'Whiplash', 'City of God', 'Human Traffic', 'To Write Love on Her Arms', 'The Dead Girl', 'The Hunt', 'A Christmas Story', 'Bella', 'Class of 1984', 'The Opposite Sex', 'Dreaming of Joseph Lees', 'The Class', \"Rosemary's Baby\", 'The Man Who Shot Liberty Valance', 'Adam', 'Maria Full of Grace', 'Beginners', 'Feast', 'Animal House', 'Goldfinger', 'Antiviral', \"It's a Wonderful Life\", 'Trainspotting', 'The Original Kings of Comedy', 'Paranormal Activity 2', 'Waking Ned', 'Bowling for Columbine', 'Coming Home', \"A Nightmare on Elm Street Part 2: Freddy's Revenge\", 'A Room with a View', 'The Purge', 'Sinister', 'Martin Lawrence Live: Runteldat', 'Cat on a Hot Tin Roof', 'Beneath the Planet of the Apes', 'Air Bud', 'Pokémon: Spell of the Unknown', 'Friday the 13th Part VI: Jason Lives', 'The Bridge on the River Kwai', 'Spaced Invaders', 'Family Plot', 'The Apartment', 'Jason Goes to Hell: The Final Friday', 'Torn Curtain', \"Dave Chappelle's Block Party\", 'Slow West', 'Krush Groove', 'Next Day Air', 'Elmer Gantry', 'Judgment at Nuremberg', \"Trippin'\", 'Red River', 'Phat Girlz', 'Before Midnight', 'Teen Wolf Too', 'Phantasm II', 'Woman Thou Art Loosed', 'Real Women Have Curves', 'Water', 'East Is East', 'Whipped', 'Kama Sutra - A Tale of Love', 'Please Give', 'Willy Wonka & the Chocolate Factory', 'Warlock: The Armageddon', '8 Heads in a Duffel Bag', 'Days of Heaven', 'Thirteen Conversations About One Thing', 'Jawbreaker', 'Basquiat', 'Frances Ha', 'Tsotsi', 'Happiness', 'DysFunktional Family', 'Tusk', 'Oldboy', 'Letters to God', 'Hobo with a Shotgun', 'Compadres', 'Freeway', \"Love's Abiding Joy\", 'Fish Tank', 'Damsels in Distress', 'Creature', 'Bachelorette', 'Brave New Girl', \"Tim and Eric's Billion Dollar Movie\", 'Summer Storm', 'Fort McCoy', 'Chain Letter', 'Just Looking', 'The Divide', 'The Eclipse', 'Demonic', 'My Big Fat Independent Movie', 'The Deported', 'Tanner Hall', 'Open Road', 'They Came Together', '30 Nights of Paranormal Activity With the Devil Inside the Girl With the Dragon Tattoo', 'Never Back Down 2: The Beatdown', 'Point Blank', 'Four Single Fathers', 'Enter the Dangerous Mind', 'Something Wicked', 'AWOL-72', 'Iguana', 'Chicago Overcoat', 'Barry Munday', 'Central Station', 'Pocketful of Miracles', 'Close Range', 'Boynton Beach Club', 'Amnesiac', 'Freakonomics', 'High Tension', 'Griff the Invisible', 'Unnatural', 'Hustle & Flow', 'Some Like It Hot', 'Friday the 13th Part VII: The New Blood', 'The Wizard of Oz', 'Young Frankenstein', 'Diary of the Dead', 'Lage Raho Munna Bhai', \"Ulee's Gold\", 'The Black Stallion', 'Sardaarji', 'Journey to Saturn', \"Donovan's Reef\", 'The Dress', 'A Guy Named Joe', 'Blazing Saddles', 'Friday the 13th: The Final Chapter', 'Ida', 'Maurice', 'Beer League', 'Riding Giants', 'Timecrimes', 'Silver Medalist', 'Timber Falls', \"Singin' in the Rain\", 'Fat, Sick & Nearly Dead', 'A Haunted House', \"2016: Obama's America\", 'That Thing You Do!', 'Halloween III: Season of the Witch', 'Escape from the Planet of the Apes', 'Hud', 'Kevin Hart: Let Me Explain', 'My Own Private Idaho', 'Garden State', 'Before Sunrise', 'Evil Words', \"Jesus' Son\", 'Saving Face', 'Brick Lane', 'Robot & Frank', 'My Life Without Me', 'The Spectacular Now', 'Religulous', 'Fuel', \"Valley of the Heart's Delight\", 'Eye of the Dolphin', '8: The Mormon Proposition', 'The Other End of the Line', 'Anatomy', 'Sleep Dealer', 'Super', 'Christmas Mail', 'Stung', 'Antibirth', 'Get on the Bus', 'Thr3e', 'Idiocracy', 'The Rise of the Krays', 'This Is England', 'U.F.O.', 'Bathing Beauty', 'Go for It!', 'Dancer, Texas Pop. 81', 'Show Boat', 'Redemption Road', 'The Calling', 'The Brave Little Toaster', 'Fantasia', '8 Days', 'Friday the 13th Part III', 'Friday the 13th: A New Beginning', 'The Last Sin Eater', 'Do You Believe?', 'Impact Point', 'The Valley of Decision', 'Eden', 'Chicken Tikka Masala', \"There's Always Woodstock\", 'Jack Brooks: Monster Slayer', 'The Best Years of Our Lives', 'Bully', 'Elling', 'Mi America', '[REC]', 'Lies in Plain Sight', 'Sharkskin', 'Containment', 'The Timber', 'From Russia with Love', 'The Toxic Avenger Part II', 'Sleeper', 'It Follows', 'Everything You Always Wanted to Know About Sex *But Were Afraid to Ask', 'To Kill a Mockingbird', 'Mad Max 2: The Road Warrior', 'The Legend of Drunken Master', \"Boys Don't Cry\", 'Silent House', 'The Lives of Others', 'Courageous', 'The Hustler', 'Boom Town', 'The Triplets of Belleville', 'Smoke Signals', 'American Splendor', 'Before Sunset', 'Amores perros', 'Thirteen', \"Gentleman's Agreement\", \"Winter's Bone\", 'Touching the Void', \"Alexander's Ragtime Band\", 'Me and You and Everyone We Know', 'Inside Job', 'We Are Your Friends', 'Ghost Dog: The Way of the Samurai', 'Harsh Times', 'Captive', 'Full Frontal', 'Witchboard', 'Shortbus', 'Waltz with Bashir', 'The Book of Mormon Movie, Volume 1: The Journey', 'No End in Sight', 'The Diary of a Teenage Girl', 'In the Shadow of the Moon', \"Meek's Cutoff\", 'Inside Deep Throat', 'Dinner Rush', 'Clockwatchers', 'The Virginity Hit', 'Subway', 'House of D', 'Teeth', 'Six-String Samurai', 'Hum To Mohabbat Karega', \"It's All Gone Pete Tong\", 'Saint John of Las Vegas', '24 7: Twenty Four Seven', 'Stonewall', 'Roadside Romeo', 'This Thing of Ours', 'The Lost Medallion: The Adventures of Billy Stone', 'The Last Five Years', 'The Missing Person', 'Return of the Living Dead 3', 'London', 'Sherrybaby', 'Circle', 'Eden Lake', 'Plush', 'Lesbian Vampire Killers', \"Gangster's Paradise: Jerusalema\", 'Freeze Frame', 'Grave Encounters', 'Stitches', 'Nine Dead', 'To Be Frank, Sinatra at 100', 'Bananas', 'Supercapitalist', 'Rockaway', 'The Lady from Shanghai', \"No Man's Land: The Rise of Reeker\", 'Highway', 'Small Apartments', 'Coffee Town', 'The Ghastly Love of Johnny X', 'All Is Bright', 'The Torture Chamber of Dr. Sadism', \"Straight A's\", 'A Funny Thing Happened on the Way to the Forum', 'Slacker Uprising', \"The Legend of Hell's Gate: An American Conspiracy\", 'The Walking Deceased', 'The Curse of Downers Grove', 'Shark Lake', \"River's Edge\", 'Northfork', 'The Marine 4: Moving Target', 'Buried', 'Submarine', 'The Square', 'One to Another', 'ABCD (Any Body Can Dance)', 'Man on Wire', 'Abandoned', 'Brotherly Love', 'The Last Exorcism', 'Nowhere Boy', 'A Streetcar Named Desire', 'Dr. Strangelove or: How I Learned to Stop Worrying and Love the Bomb', 'The Crime of Padre Amaro', 'Beasts of the Southern Wild', 'Battle for the Planet of the Apes', 'Songcatcher', 'Higher Ground', 'Vaalu', 'The Greatest Movie Ever Sold', 'Ed and His Dead Mother', 'Travellers and Magicians', \"Hang 'em High\", 'Deadline - U.S.A.', 'Sublime', \"A Beginner's Guide to Snuff\", 'Independence Daysaster', 'Dysfunctional Friends', 'Run Lola Run', 'May', 'Against the Wild', 'Under the Same Moon', 'Conquest of the Planet of the Apes', 'In the Bedroom', 'I Spit on Your Grave', 'Happy, Texas', 'My Summer of Love', 'The Lunchbox', 'Yes', \"You Can't Take It With You\", 'From Here to Eternity', 'She Wore a Yellow Ribbon', 'Grace Unplugged', 'Foolish', 'N-Secure', 'Caramel', 'Out of the Dark', 'The Bubble', 'The Conversation', 'Dil Jo Bhi Kahey...', 'Mississippi Mermaid', 'I Love Your Work', 'Cabin Fever', 'Waitress', 'Bloodsport', 'Mr. Smith Goes to Washington', 'Kids', 'The Squid and the Whale', 'Kissing Jessica Stein', 'Kickboxer: Vengeance', 'Spellbound', 'Exotica', \"Buffalo '66\", 'Insidious', 'Repo Man', 'Nine Queens', 'The Gatekeepers', 'The Ballad of Jack and Rose', 'The To Do List', 'Killing Zoe', 'The Believer', 'Snow Angels', 'Unsullied', 'Session 9', 'I Want Someone to Eat Cheese With', 'Mooz-lum', 'Hatchet', 'Modern Times', 'Stolen Summer', 'My Name Is Bruce', 'The Salon', 'Road Hard', 'Forty Shades of Blue', 'Amigo', 'Pontypool', 'Trucker', 'Me You and Five Bucks', 'The Lords of Salem', 'Housebound', 'Wal-Mart: The High Cost of Low Price', 'Fetching Cody', 'Last I Heard', 'Closer to the Moon', 'Mutant World', 'Growing Up Smith', 'Checkmate', '#Horror', 'Wind Walkers', 'Snow White and the Seven Dwarfs', 'The Holy Girl', 'Shalako', 'Incident at Loch Ness', 'The Dog Lover', 'GirlHouse', 'The Blue Room', 'House at the End of the Drive', 'Batman', 'Lock, Stock and Two Smoking Barrels', 'The Ballad of Gregorio Cortez', 'The Celebration', 'Trees Lounge', 'Journey from the Fall', 'The Basket', 'Eddie: The Sleepwalking Cannibal', 'Queen of the Mountains', 'Def-Con 4', 'The Hebrew Hammer', \"Neal 'n' Nikki\", 'The 41–Year–Old Virgin Who Knocked Up Sarah Marshall and Felt Superbad About It', 'Forget Me Not', 'Rebecca', 'Friday the 13th Part 2', 'The Lost Weekend', 'C.H.U.D.', 'Filly Brown', 'The Lion of Judah', 'Niagara', 'How Green Was My Valley', 'Da Sweet Blood of Jesus', 'Sex, Lies, and Videotape', 'Saw', 'Super Troopers', 'The Algerian', 'The Amazing Catfish', 'Monsoon Wedding', 'You Can Count on Me', 'The Trouble with Harry', \"But I'm a Cheerleader\", 'Home Run', 'Reservoir Dogs', 'The Blue Bird', 'The Good, the Bad and the Ugly', 'The Second Mother', 'Blue Like Jazz', 'Down & Out With The Dolls', 'Pink Ribbons, Inc.', 'Certifiably Jonathan', 'Desire', 'The Blade of Don Juan', 'Grand Theft Parsons', 'Extreme Movie', 'The Charge of the Light Brigade', 'Below Zero', 'Crowsnest', 'Airborne', 'Cotton Comes to Harlem', 'The Wicked Within', 'Bleeding Hearts', 'Waiting...', \"Dead Man's Shoes\", 'From a Whisper to a Scream', 'Sex With Strangers', \"Dracula: Pages from a Virgin's Diary\", 'Faith Like Potatoes', 'Beyond the Black Rainbow', 'The Raid', 'The Dead Undead', 'The Vatican Exorcisms', 'Casablanca', 'Lake Mungo', 'Rocket Singh: Salesman of the Year', 'Silent Running', 'Rocky', 'The Sleepwalker', 'Tom Jones', 'Unfriended', 'Taxi Driver', 'The Howling', 'Dr. No', 'Chernobyl Diaries', 'Hellraiser', \"God's Not Dead 2\", 'Cry_Wolf', 'Godzilla 2000', 'Blue Valentine', 'Transamerica', 'The Devil Inside', 'Beyond the Valley of the Dolls', 'Love Me Tender', 'An Inconvenient Truth', 'Sands of Iwo Jima', 'Shine a Light', 'The Green Inferno', 'Departure', 'The Sessions', 'Food, Inc.', 'October Baby', 'Next Stop Wonderland', 'The Skeleton Twins', 'Martha Marcy May Marlene', 'Obvious Child', 'Frozen River', '20 Feet from Stardom', 'Two Girls and a Guy', 'Walking and Talking', 'Who Killed the Electric Car?', 'The Broken Hearts Club: A Romantic Comedy', 'Bubba Ho-tep', 'Slam', 'Brigham City', 'Fiza', 'Orgazmo', 'All the Real Girls', 'Dream with the Fishes', 'Blue Car', 'Palo Alto', 'Ajami', 'Wristcutters: A Love Story', 'I Origins', 'The Battle of Shaker Heights', 'The Act of Killing', 'Taxi to the Dark Side', 'Once in a Lifetime: The Extraordinary Story of the New York Cosmos', 'Guiana 1838', 'Lisa Picard Is Famous', 'Antarctica: A Year on Ice', 'A LEGO Brickumentary', 'Hardflip', 'Chocolate: Deep Dark Secrets', 'The House of the Devil', 'The Perfect Host', 'Safe Men', 'Speedway Junky', 'The Last Big Thing', 'The Specials', '16 to Life', 'Alone With Her', 'Creative Control', 'Special', 'Sparkler', 'The Helix... Loaded', 'In Her Line of Fire', 'The Jimmy Show', 'Heli', 'Karachi se Lahore', 'Loving Annabelle', 'Hits', 'Jimmy and Judy', 'Frat Party', \"The Party's Over\", 'Proud', 'The Poker House', 'Childless', 'ZMD: Zombies of Mass Destruction', 'Snow White: A Deadly Summer', 'Hidden Away', 'My Last Day Without You', 'Steppin: The Movie', \"Doc Holliday's Revenge\", 'Black Rock', 'Truth or Dare', 'The Pet', 'Bang Bang Baby', 'Fear Clinic', 'Zombie Hunter', 'A Fine Step', 'Charly', 'Banshee Chapter', 'Ask Me Anything', 'And Then Came Love', 'Food Chains', 'On the Waterfront', 'L!fe Happens', '4 Months, 3 Weeks and 2 Days', 'The Horror Network Vol. 1', 'Hard Candy', 'The Quiet', 'Circumstance', 'Fruitvale Station', 'The Brass Teapot', 'Bambi', 'The Hammer', 'Latter Days', 'Elza', '1982', 'For a Good Time, Call...', 'Celeste & Jesse Forever', 'Time Changer', 'London to Brighton', 'American Hero', 'Windsor Drive', 'A Separation', 'Crying with Laughter', 'Welcome to the Dollhouse', 'Ruby in Paradise', 'Raising Victor Vargas', \"Pandora's Box\", 'Harrison Montgomery', 'Live-In Maid', 'Deterrence', 'The Mudge Boy', 'The Young Unknowns', 'Not Cool', 'Dead Snow', 'Saints and Soldiers', 'Vessel', 'American Graffiti', 'Iraq for Sale: The War Profiteers', 'Aqua Teen Hunger Force Colon Movie Film for Theaters', 'Safety Not Guaranteed', 'Kevin Hart: Laugh at My Pain', 'Kill List', 'The Innkeepers', 'The Conformist', 'Interview with the Assassin', 'Donkey Punch', 'All the Boys Love Mandy Lane', 'Bled', 'High Noon', 'Hoop Dreams', 'Rize', 'L.I.E.', 'The Sisterhood of Night', 'B-Girl', 'Half Nelson', 'Naturally Native', 'Hav Plenty', 'Adulterers', 'Escape from Tomorrow', 'Starsuckers', 'The Hadza:  Last of the First', 'After', 'Treachery', 'Walter', 'Top Hat', 'The Blair Witch Project', 'Woodstock', 'The Kentucky Fried Movie', 'Mercy Streets', 'Carousel of Revenge', 'Broken Vessels', 'Water & Power', 'They Will Have to Kill Us First', 'Light from the Darkroom', 'The Country Doctor', \"The Maid's Room\", \"A Hard Day's Night\", 'The Harvest (La Cosecha)', 'Love Letters', 'Juliet and Alfa Romeo', 'Fireproof', 'Faith Connections', 'Benji', 'Open Water', 'High Road', 'Kingdom of the Spiders', 'Mad Hot Ballroom', 'The Station Agent', 'To Save A Life', 'Wordplay', 'Beyond the Mat', 'The Singles Ward', 'Osama', 'Sholem Aleichem: Laughing In The Darkness', 'Groove', 'The R.M.', 'Twin Falls Idaho', 'Mean Creek', 'Hurricane Streets', 'Never Again', 'Civil Brand', 'Lonesome Jim', 'Drinking Buddies', 'Deceptive Practice: The Mysteries and Mentors of Ricky Jay', 'Seven Samurai', 'The Other Dream Team', 'Johnny Suede', 'Finishing The Game', 'Rubber', 'Kiss the Bride', 'The Slaughter Rule', 'Monsters', 'The Californians', 'The Living Wake', 'Detention of the Dead', 'Crazy Stone', 'Scott Walker: 30 Century Man', 'Everything Put Together', 'Good Kill', 'The Outrageous Sophie Tucker', 'Now Is Good', 'Girls Gone Dead', 'America Is Still the Place', 'Subconscious', 'Enter Nowhere', 'El Rey de Najayo', 'Fight to the Finish', \"Alleluia! The Devil's Carnival\", 'The Sound and the Shadow', 'Rodeo Girl', 'Born to Fly: Elizabeth Streb vs. Gravity', 'The Little Ponderosa Zoo', 'The Toxic Avenger', 'Straight Out of Brooklyn', 'Bloody Sunday', 'Diamond Ruff', 'Conversations with Other Women', 'Poultrygeist: Night of the Chicken Dead', 'Mutual Friends', '42nd Street', 'Rise of the Entrepreneur: The Search for a Better Way', 'Metropolitan', 'As It Is in Heaven', 'Roadside', 'Napoleon Dynamite', 'Blue Ruin', 'Paranormal Activity', 'Dogtown and Z-Boys', 'Monty Python and the Holy Grail', 'Quinceañera', 'Gory Gory Hallelujah', 'Tarnation', 'I Want Your Money', 'Love in the Time of Monsters', 'The Beyond', 'What Happens in Vegas', 'The Dark Hours', 'My Beautiful Laundrette', 'Fabled', 'Show Me', 'Cries and Whispers', 'Intolerance', 'Trekkies', 'The Broadway Melody', 'The Evil Dead', 'Maniac', 'Censored Voices', 'Murderball', 'American Ninja 2: The Confrontation', '51 Birch Street', 'Rotor DR1', '12 Angry Men', 'My Dog Tulip', 'It Happened One Night', 'Dogtooth', 'Tupac: Resurrection', 'Tumbleweeds', 'The Prophecy', \"When the Cat's Away\", 'Pieces of April', 'The Big Swap', 'Old Joy', 'Wendy and Lucy', '3 Backyards', 'Pierrot le Fou', 'Sisters in Law', 'Ayurveda: Art of Being', 'Nothing But a Man', 'First Love, Last Rites', 'Fighting Tommy Riley', 'Royal Kill', 'The Looking Glass', 'Death Race 2000', 'Locker 13', 'Midnight Cabaret', \"Anderson's Cross\", 'Bizarre', 'Graduation Day', 'Some Guy Who Kills People', 'Compliance', 'Chasing Amy', 'Lovely & Amazing', 'Death Calls', 'Better Luck Tomorrow', 'The Incredibly True Adventure of Two Girls In Love', 'Chuck & Buck', 'American Desi', \"Amidst the Devil's Wings\", 'Cube', 'Love and Other Catastrophes', 'I Married a Strange Person!', 'November', 'Like Crazy', 'Teeth and Blood', 'Sugar Town', 'The Motel', 'The Canyons', 'On the Outs', 'Shotgun Stories', 'Exam', 'The Sticky Fingers of Time', 'Sunday School Musical', 'Rust', 'Ink', 'The Christmas Bunny', 'Butterfly', 'UnDivided', 'The Frozen', 'Horse Camp', 'Give Me Shelter', 'The Big Parade', 'Little Big Top', 'Along the Roadside', 'Bronson', 'Western Religion', 'Burn', 'Urbania', 'The Stewardesses', 'The Beast from 20,000 Fathoms', 'Mad Max', 'Swingers', 'A Fistful of Dollars', 'She Done Him Wrong', 'Short Cut to Nirvana: Kumbh Mela', 'The Grace Card', 'Middle of Nowhere', 'Three', 'The Business of Fancydancing', 'Call + Response', 'Malevolence', 'Reality Show', 'Super Hybrid', 'Baghead', 'American Beast', 'The Case of the Grinning Cat', 'Ordet', 'Good Dick', 'The Man from Earth', 'The Trials Of Darryl Hunt', 'Samantha: An American Girl Holiday', 'Yesterday Was a Lie', 'Theresa Is a Mother', 'H.', 'Archaeology of a Woman', 'Children of Heaven', 'Weekend', \"She's Gotta Have It\", 'Butterfly Girl', 'The World Is Mine', 'Another Earth', \"Sweet Sweetback's Baadasssss Song\", 'Perfect Cowboy', 'Tadpole', 'Once', 'The Woman Chaser', 'The Horse Boy', 'When the Lights Went Out', 'Heroes of Dirt', 'A Charlie Brown Christmas', 'Antarctic Edge: 70° South', 'Aroused', 'Top Spin', 'Roger & Me', 'An American in Hollywood', 'Sound of My Voice', 'The Blood of My Brother: A Story of Death in Iraq', \"Your Sister's Sister\", \"A Dog's Breakfast\", 'The Married Woman', 'The Birth of a Nation', 'The Work and The Story', 'Facing the Giants', 'The Gallows', 'Eraserhead', 'Hollywood Shuffle', 'The Mighty', 'Penitentiary', 'The Lost Skeleton of Cadavra', \"Dude Where's My Dog?\", 'Cheap Thrills', 'Indie Game: The Movie', 'Straightheads', 'Open Secret', 'Echo Dr.', 'The Night Visitor', 'The Past Is a Grotesque Animal', 'Peace, Propaganda & the Promised Land', 'Pi', \"I Love You, Don't Touch Me!\", '20 Dates', 'Queen Crab', 'Super Size Me', 'The FP', 'Happy Christmas', \"The Brain That Wouldn't Die\", 'Tiger Orange', 'Supporting Characters', 'Absentia', 'The Brothers McMullen', 'The Dirties', 'Gabriela', 'Tiny Furniture', 'Hayride', 'The Naked Ape', 'Counting', 'The Call of Cthulhu', 'Bending Steel', 'The Signal', 'The Image Revolution', 'This Is Martin Bonner', 'A True Story', 'George Washington', 'Smiling Fish & Goat On Fire', 'Dawn of the Crescent Moon', 'Raymond Did It', 'The Last Waltz', 'Run, Hide, Die', 'The Exploding Girl', \"The Legend of God's Gun\", 'Mutual Appreciation', 'Her Cry: La Llorona Investigation', 'Down Terrace', 'Clerks', 'Pink Narcissus', 'Funny Ha Ha', 'In the Company of Men', 'Manito', 'Rampage', 'Slacker', 'Dutch Kills', 'Dry Spell', 'Flywheel', 'Backmask', 'The Puffy Chair', 'Stories of Our Lives', 'Breaking Upwards', 'All Superheroes Must Die', 'Pink Flamingos', 'Clean', 'The Circle', 'Tin Can Man', 'Cure', 'On The Downlow', 'Sanctuary: Quite a Conundrum', 'Bang', 'Primer', 'Cavite', 'El Mariachi', 'Newlyweds', 'Signed, Sealed, Delivered', 'Shanghai Calling', 'My Date with Drew']\n"
          ]
        }
      ]
    },
    {
      "cell_type": "code",
      "source": [
        "if type(movie_name) == float:\n",
        "    movie_name = str(movie_name)"
      ],
      "metadata": {
        "id": "mjsc08nDVpFt"
      },
      "execution_count": null,
      "outputs": []
    },
    {
      "cell_type": "code",
      "source": [
        "#finding the close match for the movie name given by the user\n",
        "find_close_match=difflib.get_close_matches(movie_name, list_all_titles)"
      ],
      "metadata": {
        "id": "xXzNK1WgDgQI"
      },
      "execution_count": null,
      "outputs": []
    },
    {
      "cell_type": "code",
      "source": [
        "print(find_close_match)"
      ],
      "metadata": {
        "colab": {
          "base_uri": "https://localhost:8080/"
        },
        "id": "ka1cZP8dXQKR",
        "outputId": "ebc4d60a-0574-47d2-b870-508ac428f1ab"
      },
      "execution_count": null,
      "outputs": [
        {
          "output_type": "stream",
          "name": "stdout",
          "text": [
            "['Iron Man', 'Iron Man 3', 'Iron Man 2']\n"
          ]
        }
      ]
    },
    {
      "cell_type": "code",
      "source": [
        "close_match=find_close_match[0]\n",
        "print(close_match)"
      ],
      "metadata": {
        "colab": {
          "base_uri": "https://localhost:8080/"
        },
        "id": "_YYDGDRiXQam",
        "outputId": "f666e7d4-a0dc-482f-ba9b-d7e827995006"
      },
      "execution_count": null,
      "outputs": [
        {
          "output_type": "stream",
          "name": "stdout",
          "text": [
            "Iron Man\n"
          ]
        }
      ]
    },
    {
      "cell_type": "code",
      "source": [
        "#finding the index of the movie with title\n",
        "\n",
        "index_movie= movies_data[movies_data.title == close_match]['index'].values[0]\n",
        "print(index_movie)"
      ],
      "metadata": {
        "colab": {
          "base_uri": "https://localhost:8080/"
        },
        "id": "2qM7pKV9XQnV",
        "outputId": "7854c7b2-3be1-4767-a1c5-6a63e2ef9801"
      },
      "execution_count": null,
      "outputs": [
        {
          "output_type": "stream",
          "name": "stdout",
          "text": [
            "68\n"
          ]
        }
      ]
    },
    {
      "cell_type": "code",
      "source": [
        "print(f\"index_movie: {index_movie}\")"
      ],
      "metadata": {
        "colab": {
          "base_uri": "https://localhost:8080/"
        },
        "id": "oDQK_qXDb7AS",
        "outputId": "09ac9b8f-d839-4abf-8272-bec8084f6024"
      },
      "execution_count": null,
      "outputs": [
        {
          "output_type": "stream",
          "name": "stdout",
          "text": [
            "index_movie: 68\n"
          ]
        }
      ]
    },
    {
      "cell_type": "code",
      "source": [
        "print(f\"index_movie: {index_movie}\")"
      ],
      "metadata": {
        "colab": {
          "base_uri": "https://localhost:8080/"
        },
        "id": "Xntz2gkhqjvV",
        "outputId": "8b70ddf4-03dc-4ce6-e0e5-65cbf6c56536"
      },
      "execution_count": null,
      "outputs": [
        {
          "output_type": "stream",
          "name": "stdout",
          "text": [
            "index_movie: 68\n"
          ]
        }
      ]
    },
    {
      "cell_type": "code",
      "source": [
        "print(f\"similarity: {similarity}\")"
      ],
      "metadata": {
        "colab": {
          "base_uri": "https://localhost:8080/"
        },
        "id": "TMpBdgYmqjfF",
        "outputId": "f338f238-0f6c-423b-c776-e0ffcca147f0"
      },
      "execution_count": null,
      "outputs": [
        {
          "output_type": "stream",
          "name": "stdout",
          "text": [
            "similarity: [[1.         0.0741602  0.03929261 ... 0.         0.         0.        ]\n",
            " [0.0741602  1.         0.03397071 ... 0.         0.         0.        ]\n",
            " [0.03929261 0.03397071 1.         ... 0.         0.         0.        ]\n",
            " ...\n",
            " [0.         0.         0.         ... 0.         0.         0.        ]\n",
            " [0.         0.         0.         ... 0.         0.         0.        ]\n",
            " [0.         0.         0.         ... 0.         0.         0.        ]]\n"
          ]
        }
      ]
    },
    {
      "cell_type": "code",
      "source": [
        "similarity_score= list(enumerate(similarity[68]))"
      ],
      "metadata": {
        "id": "-oKysB-eqjR9"
      },
      "execution_count": null,
      "outputs": []
    },
    {
      "cell_type": "code",
      "source": [
        "print(similarity_score)"
      ],
      "metadata": {
        "colab": {
          "base_uri": "https://localhost:8080/"
        },
        "id": "OE_zYvpeqi-P",
        "outputId": "ec2bf2f0-fafe-4478-ab4e-1f5a39d8cec9"
      },
      "execution_count": null,
      "outputs": [
        {
          "output_type": "stream",
          "name": "stdout",
          "text": [
            "[(0, 0.031963670583476225), (1, 0.015417408425577735), (2, 0.009093995913303636), (3, 0.0), (4, 0.03103677566270209), (5, 0.009228810657478988), (6, 0.038770711684772904), (7, 0.03245214003547307), (8, 0.020360202550936977), (9, 0.008742877330019288), (10, 0.0), (11, 0.00781909634570662), (12, 0.036750838769203896), (13, 0.008147698861690904), (14, 0.03186097500873751), (15, 0.0188022238268354), (16, 0.030896100733511213), (17, 0.00867257225962547), (18, 0.07767315151140486), (19, 0.0077313962692791855), (20, 0.008863553303217102), (21, 0.007483617847534562), (22, 0.00806007054455083), (23, 0.0076989975703468565), (24, 0.00827228922825927), (25, 0.0), (26, 0.033298936576296685), (27, 0.0547718019070358), (28, 0.0), (29, 0.0), (30, 0.00924708340820954), (31, 0.008946304693464184), (32, 0.03165061774506413), (33, 0.018224029771663312), (34, 0.06263490600432016), (35, 0.048793041528855066), (36, 0.03406387715051313), (37, 0.1937525927061203), (38, 0.020662717149733556), (39, 0.009036817164823135), (40, 0.030521210326233346), (41, 0.040097819631433815), (42, 0.09056546787270409), (43, 0.048009455231600724), (44, 0.02362776440672164), (45, 0.018910213329444158), (46, 0.02117165616496439), (47, 0.05995534653459339), (48, 0.035492373283883535), (49, 0.12305040903694667), (50, 0.0), (51, 0.008549997123616494), (52, 0.2635293714739314), (53, 0.05714592156877843), (54, 0.018957886423921003), (55, 0.034951868823627746), (56, 0.04026560402524835), (57, 0.0), (58, 0.04288648007329263), (59, 0.0), (60, 0.03032926222653929), (61, 0.01948817824416813), (62, 0.03194154990876218), (63, 0.04976724416170274), (64, 0.018308937944593935), (65, 0.023647449368629288), (66, 0.0), (67, 0.0), (68, 1.0), (69, 0.030198712302124085), (70, 0.0242598715154866), (71, 0.03142528685274455), (72, 0.0), (73, 0.03131550955822159), (74, 0.010813684253058124), (75, 0.02348062926031634), (76, 0.008430339312159304), (77, 0.05664082079602686), (78, 0.05743967620235771), (79, 0.0), (80, 0.02913700134135233), (81, 0.009570745155717233), (82, 0.015206081067833204), (83, 0.02451574483370094), (84, 0.0), (85, 0.007250640128825456), (86, 0.03549642568440354), (87, 0.032961914173042034), (88, 0.11801643846159263), (89, 0.03743876438669982), (90, 0.033022890881538536), (91, 0.03763115056358687), (92, 0.0612992276555174), (93, 0.04893130001788583), (94, 0.06611945851660614), (95, 0.03109066697171811), (96, 0.029530064110567543), (97, 0.03180033159180434), (98, 0.06495980659247669), (99, 0.008395911821142289), (100, 0.01688664301539454), (101, 0.0), (102, 0.03461859362824916), (103, 0.033944674623125934), (104, 0.009110735815400018), (105, 0.009025899139412243), (106, 0.0), (107, 0.04030992548375099), (108, 0.00940136072348147), (109, 0.07680392264882298), (110, 0.014337928910056932), (111, 0.0), (112, 0.06690068413777947), (113, 0.008763551388435296), (114, 0.0200365327195913), (115, 0.018073280470702224), (116, 0.0), (117, 0.020915537047567177), (118, 0.018020213041474033), (119, 0.027426117739331353), (120, 0.0), (121, 0.028957300797132327), (122, 0.06470235360140675), (123, 0.06728259395625233), (124, 0.029926639173514714), (125, 0.034193860628591075), (126, 0.02959269110987325), (127, 0.008212696671491337), (128, 0.06553978651725649), (129, 0.0), (130, 0.008960125062559022), (131, 0.06636603616087204), (132, 0.048088159693345775), (133, 0.008184453272256689), (134, 0.010590780906224105), (135, 0.008347679472386745), (136, 0.021793726187410985), (137, 0.034057243131634996), (138, 0.030416873717882553), (139, 0.018875958808773248), (140, 0.007993212942631266), (141, 0.0), (142, 0.13052004929198963), (143, 0.07426289766299425), (144, 0.05125231592169846), (145, 0.03852898439854383), (146, 0.00730557966136137), (147, 0.1276871034870671), (148, 0.008021210734341064), (149, 0.01756091283392652), (150, 0.03105956183129959), (151, 0.030904608903104473), (152, 0.02686464873454012), (153, 0.03618756828790517), (154, 0.034273009741399685), (155, 0.059456943287657577), (156, 0.0), (157, 0.0), (158, 0.02763112365238795), (159, 0.03390374961171454), (160, 0.0), (161, 0.027767848842219958), (162, 0.025963829107874717), (163, 0.0), (164, 0.0208874210836891), (165, 0.00904001621592931), (166, 0.02559132704108042), (167, 0.0), (168, 0.01793517226215001), (169, 0.11591424573059415), (170, 0.055055318021995335), (171, 0.007351988440594281), (172, 0.02450523933990518), (173, 0.008530085317250687), (174, 0.0352692565953006), (175, 0.050322120921861), (176, 0.0669945224490486), (177, 0.024318388819900276), (178, 0.049086101966305876), (179, 0.03606963925512876), (180, 0.15638072828569718), (181, 0.018808768944481278), (182, 0.03938971279221789), (183, 0.11263259491216251), (184, 0.03342665690700698), (185, 0.12746746702364026), (186, 0.03215634578072237), (187, 0.0076444122415501355), (188, 0.07136746087153245), (189, 0.0), (190, 0.009696737795965365), (191, 0.03433695930552311), (192, 0.019001165614374885), (193, 0.029983477518555138), (194, 0.03387689396232405), (195, 0.04635348403376268), (196, 0.018591114073262964), (197, 0.055247398791402044), (198, 0.020101701934984458), (199, 0.0), (200, 0.007880499705373124), (201, 0.07389351802131236), (202, 0.018953096847276956), (203, 0.03690630303082164), (204, 0.05636354348750565), (205, 0.017521912963063106), (206, 0.009190912556144648), (207, 0.008223966197904001), (208, 0.07120878014980588), (209, 0.008466278416537687), (210, 0.0), (211, 0.0), (212, 0.010796748141864109), (213, 0.0), (214, 0.0), (215, 0.009646832412389467), (216, 0.0), (217, 0.009314361669990619), (218, 0.008121418561960225), (219, 0.0), (220, 0.020534285159404163), (221, 0.039292513405333546), (222, 0.056685789034985154), (223, 0.13319115872038087), (224, 0.0240724565887328), (225, 0.021020098614257177), (226, 0.022350043181242424), (227, 0.07723194313132895), (228, 0.16304300914563843), (229, 0.0), (230, 0.030307238798323234), (231, 0.032643601324697465), (232, 0.025388662697399436), (233, 0.0), (234, 0.020285356277457683), (235, 0.07823421101561083), (236, 0.026526890357244235), (237, 0.049904551226984804), (238, 0.0), (239, 0.0), (240, 0.008262785529201481), (241, 0.029711873063727356), (242, 0.02096984516650157), (243, 0.00897257126569445), (244, 0.008564820135220155), (245, 0.03425069171444908), (246, 0.019189480974556784), (247, 0.0), (248, 0.007625506595227639), (249, 0.0), (250, 0.0), (251, 0.0), (252, 0.03241574287324053), (253, 0.0), (254, 0.0), (255, 0.07999558210590049), (256, 0.020874417585050466), (257, 0.05329307332414801), (258, 0.03231031565635703), (259, 0.032001102051294444), (260, 0.12522800414179913), (261, 0.04723433093842076), (262, 0.007879741767127081), (263, 0.03165890652582892), (264, 0.03080132570325053), (265, 0.008699592366735112), (266, 0.00859905876124451), (267, 0.0), (268, 0.010666292196803791), (269, 0.023615647635256542), (270, 0.007303604804556828), (271, 0.11834096082201156), (272, 0.04322895268346074), (273, 0.03456848095968708), (274, 0.035193713084528254), (275, 0.0), (276, 0.0), (277, 0.009492054936392444), (278, 0.02200811927598907), (279, 0.047109854816975084), (280, 0.008796779873187348), (281, 0.028180751950259715), (282, 0.024900127784325772), (283, 0.0), (284, 0.0), (285, 0.02158313243628562), (286, 0.0), (287, 0.028286310267720417), (288, 0.022094317318534076), (289, 0.0), (290, 0.0), (291, 0.0), (292, 0.036645556854699994), (293, 0.03689090087940713), (294, 0.015861137122459807), (295, 0.01608559749958327), (296, 0.009887566718248508), (297, 0.04118357556038088), (298, 0.03951100318499204), (299, 0.0), (300, 0.011057082909777008), (301, 0.0), (302, 0.0), (303, 0.0), (304, 0.041065370404700687), (305, 0.049750594073329504), (306, 0.0378834083126621), (307, 0.0), (308, 0.008362377164055019), (309, 0.0615301020246301), (310, 0.08857151549345457), (311, 0.008569221409940845), (312, 0.0), (313, 0.022190106550610073), (314, 0.00866262818528227), (315, 0.024088633251869676), (316, 0.023133371625932597), (317, 0.02638567943109505), (318, 0.0), (319, 0.007825460958147604), (320, 0.0), (321, 0.0), (322, 0.026464274666550908), (323, 0.02460238658785594), (324, 0.0), (325, 0.0), (326, 0.03317524620194649), (327, 0.0), (328, 0.08379457647218413), (329, 0.03507651544281668), (330, 0.010810839110236664), (331, 0.0), (332, 0.024492523477990257), (333, 0.008675839918625852), (334, 0.0089168565231159), (335, 0.0412450684237214), (336, 0.007226870663602214), (337, 0.03574118880151814), (338, 0.029870566602460895), (339, 0.02299868873953614), (340, 0.02779044285529694), (341, 0.0), (342, 0.0), (343, 0.040677291499745055), (344, 0.034585970850476974), (345, 0.018695353810909268), (346, 0.02908026725746706), (347, 0.05728345961641705), (348, 0.0), (349, 0.027526303857912063), (350, 0.0), (351, 0.0475207287568625), (352, 0.03750495833672521), (353, 0.008367038407481254), (354, 0.010339023888636861), (355, 0.0), (356, 0.035224593911159244), (357, 0.0), (358, 0.0), (359, 0.0), (360, 0.009108063783214437), (361, 0.0), (362, 0.0738415612054716), (363, 0.060793272254088385), (364, 0.0), (365, 0.0), (366, 0.10283131079568894), (367, 0.022634482414296185), (368, 0.01891855050915695), (369, 0.021043097125368514), (370, 0.04629299707434376), (371, 0.0), (372, 0.06623107996768311), (373, 0.0071591933200903), (374, 0.008984827669386363), (375, 0.04666624350460921), (376, 0.0), (377, 0.05806902256674995), (378, 0.03402735754397862), (379, 0.10217745929342655), (380, 0.021793557823778488), (381, 0.02081166630088335), (382, 0.0), (383, 0.00752340615160494), (384, 0.06937768752447812), (385, 0.0), (386, 0.0), (387, 0.008254753155042307), (388, 0.025784802080525786), (389, 0.047612859574457586), (390, 0.01820802351382769), (391, 0.0), (392, 0.0), (393, 0.03707589843082308), (394, 0.08688191693933822), (395, 0.009842393537967299), (396, 0.0), (397, 0.00841540776231404), (398, 0.0), (399, 0.0), (400, 0.0), (401, 0.0), (402, 0.0), (403, 0.03333016673693766), (404, 0.028304691661950494), (405, 0.0), (406, 0.03597180632795428), (407, 0.018156184851222387), (408, 0.0), (409, 0.0), (410, 0.12112565302689747), (411, 0.0), (412, 0.0), (413, 0.0), (414, 0.029790179714797072), (415, 0.006841829540233559), (416, 0.0), (417, 0.0), (418, 0.08805731616879842), (419, 0.008593172471045176), (420, 0.024616742626076552), (421, 0.038681626715722346), (422, 0.0), (423, 0.036273300834393604), (424, 0.06462308609866287), (425, 0.03088284801031754), (426, 0.0), (427, 0.022634490149758362), (428, 0.0), (429, 0.008656751135496148), (430, 0.009669245686718576), (431, 0.030226343815253902), (432, 0.052234020753166605), (433, 0.0), (434, 0.048606452300781686), (435, 0.02602691620905693), (436, 0.010669076270735533), (437, 0.0), (438, 0.0), (439, 0.0), (440, 0.03011077013251725), (441, 0.0), (442, 0.0), (443, 0.0), (444, 0.0), (445, 0.12207482643400473), (446, 0.09473505228300191), (447, 0.01990511647847958), (448, 0.00968328002443983), (449, 0.01556216463734829), (450, 0.0), (451, 0.0), (452, 0.0), (453, 0.008267510246516816), (454, 0.021331045481938395), (455, 0.0332312439002495), (456, 0.0), (457, 0.02492602162000951), (458, 0.011207457109526085), (459, 0.01988280159084777), (460, 0.0), (461, 0.0), (462, 0.0188505473814019), (463, 0.03813723571874365), (464, 0.03685502898605889), (465, 0.01091424176357569), (466, 0.04528029495737753), (467, 0.0), (468, 0.0), (469, 0.05798667512101122), (470, 0.0), (471, 0.04466033599083333), (472, 0.02190791020889623), (473, 0.029197146076183504), (474, 0.03214250738124363), (475, 0.0), (476, 0.0), (477, 0.008492608411855796), (478, 0.02272038831837292), (479, 0.0), (480, 0.027672792548789214), (481, 0.04843911364421778), (482, 0.0), (483, 0.008673321309476683), (484, 0.05048825105201499), (485, 0.05110153149495792), (486, 0.02867961323182689), (487, 0.0), (488, 0.04407509036095897), (489, 0.00773091965537266), (490, 0.017402621395615582), (491, 0.008500683756624867), (492, 0.029964934405664723), (493, 0.05108225625627708), (494, 0.025408839302390095), (495, 0.0309149261285529), (496, 0.046807350921430936), (497, 0.0), (498, 0.017861572948427076), (499, 0.03401794822743445), (500, 0.05651990485850551), (501, 0.032706548615889744), (502, 0.0), (503, 0.007907338942728926), (504, 0.025865844623084548), (505, 0.016576889752645135), (506, 0.09736324296440058), (507, 0.08963604790536289), (508, 0.04182620995259083), (509, 0.030068804041709352), (510, 0.02248279195449738), (511, 0.08442605034460038), (512, 0.031203035171619854), (513, 0.031852409051740735), (514, 0.028338206725488597), (515, 0.022687965215108827), (516, 0.06348905278931534), (517, 0.0), (518, 0.04088487513079042), (519, 0.028628691969490007), (520, 0.0), (521, 0.032382567884137736), (522, 0.025699827363766893), (523, 0.022196566629127813), (524, 0.0), (525, 0.0), (526, 0.0), (527, 0.010375102910966855), (528, 0.008968705459906096), (529, 0.0), (530, 0.046955050731031886), (531, 0.0), (532, 0.0), (533, 0.0), (534, 0.0), (535, 0.0), (536, 0.008106096422348105), (537, 0.010583167102350525), (538, 0.03081631290596891), (539, 0.0), (540, 0.008072490828965904), (541, 0.0), (542, 0.0), (543, 0.0), (544, 0.13616813287205967), (545, 0.0), (546, 0.0787963056182593), (547, 0.021021058343635546), (548, 0.022944506773158263), (549, 0.08383595517887175), (550, 0.02075398272522425), (551, 0.05869701323099946), (552, 0.0), (553, 0.0), (554, 0.020452889384877975), (555, 0.029127814382414133), (556, 0.045897648001193496), (557, 0.06927270257784618), (558, 0.0), (559, 0.010606633263394423), (560, 0.010460801342930428), (561, 0.0), (562, 0.0), (563, 0.03559202579499575), (564, 0.040663054195625194), (565, 0.0), (566, 0.013394108203286393), (567, 0.026906171525346682), (568, 0.01090298474171249), (569, 0.053194195441381244), (570, 0.04072931332696686), (571, 0.049466803769785246), (572, 0.0), (573, 0.008471453009249683), (574, 0.05752449625550071), (575, 0.0), (576, 0.0), (577, 0.01889086517360245), (578, 0.0), (579, 0.0), (580, 0.02312502795812456), (581, 0.015069636176346619), (582, 0.04552745116196705), (583, 0.07802967120042509), (584, 0.0), (585, 0.0617076792516162), (586, 0.02836013064198252), (587, 0.021707149822397118), (588, 0.016766205539200062), (589, 0.0), (590, 0.0), (591, 0.0), (592, 0.034682303643842796), (593, 0.03100433153516094), (594, 0.0), (595, 0.0), (596, 0.020616994273107207), (597, 0.007703593708805328), (598, 0.0), (599, 0.008850957344910442), (600, 0.007959321301220892), (601, 0.008945594614206727), (602, 0.0), (603, 0.0), (604, 0.0), (605, 0.010347654082727895), (606, 0.024981714266945017), (607, 0.0), (608, 0.0), (609, 0.037331567116989095), (610, 0.0), (611, 0.0), (612, 0.07610341663539127), (613, 0.0), (614, 0.024032471892982105), (615, 0.007958797846728653), (616, 0.0), (617, 0.00950720379459183), (618, 0.01662727515851429), (619, 0.03048461088024646), (620, 0.0), (621, 0.06219443014153332), (622, 0.007841090566318128), (623, 0.02736371368510621), (624, 0.0), (625, 0.0), (626, 0.0), (627, 0.0), (628, 0.05884367445868277), (629, 0.0), (630, 0.0), (631, 0.05637332920335737), (632, 0.006582238746479099), (633, 0.0), (634, 0.014408581527667899), (635, 0.0), (636, 0.03506635994718191), (637, 0.02409121558088154), (638, 0.008588850900996245), (639, 0.02225255639199395), (640, 0.0), (641, 0.010378709560080914), (642, 0.0632717163720766), (643, 0.0), (644, 0.0), (645, 0.03495626080401242), (646, 0.0), (647, 0.0), (648, 0.046826896897020846), (649, 0.017569255758225), (650, 0.008936206684194333), (651, 0.009217522039056483), (652, 0.0), (653, 0.0), (654, 0.0), (655, 0.0), (656, 0.01162303976592146), (657, 0.0), (658, 0.08364871283451741), (659, 0.03271481680047459), (660, 0.0), (661, 0.0), (662, 0.04179911253936428), (663, 0.03848448080506622), (664, 0.0), (665, 0.0), (666, 0.19579158203918143), (667, 0.0), (668, 0.0), (669, 0.008787943745963053), (670, 0.02781530205091262), (671, 0.0), (672, 0.0), (673, 0.0), (674, 0.0), (675, 0.0), (676, 0.00808987759068063), (677, 0.0), (678, 0.04269717824244103), (679, 0.11532694107844342), (680, 0.03853071818885159), (681, 0.008301344926540156), (682, 0.0), (683, 0.0), (684, 0.03474123775528026), (685, 0.0), (686, 0.0), (687, 0.0), (688, 0.007833095021918077), (689, 0.0), (690, 0.0), (691, 0.025471577795660755), (692, 0.008331040806615717), (693, 0.010487356763329828), (694, 0.04092922065946489), (695, 0.0), (696, 0.007973100568650908), (697, 0.07431339996611824), (698, 0.0), (699, 0.0), (700, 0.007631796298781487), (701, 0.0), (702, 0.0), (703, 0.041109334505611134), (704, 0.011448915544252862), (705, 0.0), (706, 0.03673904699074319), (707, 0.03496184221123857), (708, 0.02736286539744223), (709, 0.03828442656069391), (710, 0.0), (711, 0.009337989546787101), (712, 0.030758888601987493), (713, 0.0), (714, 0.0), (715, 0.0073626290096563615), (716, 0.0074767039091996074), (717, 0.0), (718, 0.0), (719, 0.0), (720, 0.010187187108527515), (721, 0.0), (722, 0.0), (723, 0.05060427245882048), (724, 0.021287322263277526), (725, 0.02300424420962809), (726, 0.03260436951329542), (727, 0.0282684260263796), (728, 0.019238489070832424), (729, 0.0), (730, 0.010615933277821522), (731, 0.0), (732, 0.010158823598885803), (733, 0.020944340776554986), (734, 0.0), (735, 0.03259585850035972), (736, 0.009349141884640961), (737, 0.05457518715850108), (738, 0.0), (739, 0.036054697697291783), (740, 0.02393061334530445), (741, 0.0), (742, 0.0), (743, 0.0), (744, 0.0381883425130572), (745, 0.056117336466030884), (746, 0.0), (747, 0.06839582454792802), (748, 0.009524774203719458), (749, 0.03695715334211797), (750, 0.0), (751, 0.03183663104213068), (752, 0.0), (753, 0.009328503097810683), (754, 0.0), (755, 0.0), (756, 0.017502031623850032), (757, 0.05730458233922381), (758, 0.08989319991347638), (759, 0.12831428766167272), (760, 0.0318692798197371), (761, 0.0), (762, 0.0), (763, 0.0), (764, 0.0), (765, 0.029397634817207925), (766, 0.0), (767, 0.011145636639977512), (768, 0.0), (769, 0.0), (770, 0.0), (771, 0.029910603772272133), (772, 0.008854687961939885), (773, 0.04036520504573532), (774, 0.0), (775, 0.03855301845227416), (776, 0.02279143942633715), (777, 0.0), (778, 0.009846247069319688), (779, 0.0), (780, 0.020906795392083257), (781, 0.0), (782, 0.008495404858547004), (783, 0.04267643349063736), (784, 0.0), (785, 0.0), (786, 0.04226002553275589), (787, 0.022350085967330232), (788, 0.025675376735630896), (789, 0.050175551594856975), (790, 0.008843603323110665), (791, 0.0), (792, 0.0), (793, 0.008220203665336712), (794, 0.0), (795, 0.0), (796, 0.02185747508184399), (797, 0.07785690799280354), (798, 0.035147436589586814), (799, 0.0070832067591113735), (800, 0.0), (801, 0.0), (802, 0.05897757841592145), (803, 0.0), (804, 0.06820365573280956), (805, 0.007779501396659513), (806, 0.0), (807, 0.0), (808, 0.0), (809, 0.0), (810, 0.0), (811, 0.0), (812, 0.02234798011454171), (813, 0.008700714701024556), (814, 0.0), (815, 0.029364540949383414), (816, 0.0), (817, 0.03697050497984872), (818, 0.030620399853663133), (819, 0.04363825963451505), (820, 0.0), (821, 0.020273566012645634), (822, 0.0), (823, 0.017910048784503422), (824, 0.0), (825, 0.01078967826268505), (826, 0.023058330549621607), (827, 0.0), (828, 0.0), (829, 0.0), (830, 0.024698858579380395), (831, 0.04297430856360324), (832, 0.0), (833, 0.0), (834, 0.0), (835, 0.02332789665910603), (836, 0.007388201058765798), (837, 0.0), (838, 0.008206833923692475), (839, 0.008960273378100172), (840, 0.0), (841, 0.00793383270327469), (842, 0.05667253870116301), (843, 0.052464152164397725), (844, 0.0), (845, 0.008176750747038095), (846, 0.009407371695161863), (847, 0.04176780890074505), (848, 0.0), (849, 0.0), (850, 0.0), (851, 0.0), (852, 0.0), (853, 0.09934698761774087), (854, 0.0), (855, 0.022627240237152912), (856, 0.0), (857, 0.0), (858, 0.0), (859, 0.020653896037432614), (860, 0.0), (861, 0.0), (862, 0.0), (863, 0.02046113797437328), (864, 0.0), (865, 0.0), (866, 0.0), (867, 0.0), (868, 0.0), (869, 0.0), (870, 0.0), (871, 0.0), (872, 0.0), (873, 0.0), (874, 0.08859038322345009), (875, 0.03165841829692674), (876, 0.0), (877, 0.0), (878, 0.008859724656266964), (879, 0.034689907935802164), (880, 0.0), (881, 0.010651527587388583), (882, 0.0), (883, 0.023952737409999793), (884, 0.0), (885, 0.0), (886, 0.0), (887, 0.0), (888, 0.0), (889, 0.0), (890, 0.0), (891, 0.0), (892, 0.0), (893, 0.008520751955752743), (894, 0.0), (895, 0.0), (896, 0.0), (897, 0.0), (898, 0.0), (899, 0.039999975333064305), (900, 0.027556477496234816), (901, 0.03668930868803444), (902, 0.011138782245351461), (903, 0.009066846356281816), (904, 0.03918456183587377), (905, 0.05508829558483172), (906, 0.007477157764601137), (907, 0.0), (908, 0.062054014303537235), (909, 0.0), (910, 0.0), (911, 0.059628470234022624), (912, 0.0), (913, 0.05817167473915303), (914, 0.0), (915, 0.0), (916, 0.02518216005776761), (917, 0.0), (918, 0.0), (919, 0.015399316998990135), (920, 0.0), (921, 0.0), (922, 0.0), (923, 0.0), (924, 0.0), (925, 0.029834841530531904), (926, 0.012214341155515604), (927, 0.031240024642898902), (928, 0.0), (929, 0.0), (930, 0.0), (931, 0.02914426537080024), (932, 0.012034926871902173), (933, 0.0), (934, 0.02021353165175265), (935, 0.0), (936, 0.07570422655860601), (937, 0.0), (938, 0.008605180639361953), (939, 0.031879513204913806), (940, 0.019813873590240387), (941, 0.0), (942, 0.0), (943, 0.021640950486878616), (944, 0.07653788851136775), (945, 0.0), (946, 0.02073712140034422), (947, 0.0), (948, 0.017180567583126242), (949, 0.0), (950, 0.0), (951, 0.0), (952, 0.04142417881996966), (953, 0.0), (954, 0.010746765977602575), (955, 0.007721375507482545), (956, 0.0), (957, 0.0), (958, 0.0), (959, 0.0), (960, 0.0), (961, 0.0233139818920033), (962, 0.027030686165838085), (963, 0.0), (964, 0.023819446207907623), (965, 0.043778618982631565), (966, 0.007702319542516963), (967, 0.0), (968, 0.0), (969, 0.0), (970, 0.0), (971, 0.0), (972, 0.0), (973, 0.0), (974, 0.008116864768251995), (975, 0.0), (976, 0.0), (977, 0.0638905158678847), (978, 0.0), (979, 0.0), (980, 0.026494121092478805), (981, 0.06221911474598515), (982, 0.1435805289278377), (983, 0.008593754380726484), (984, 0.0), (985, 0.0), (986, 0.0), (987, 0.0), (988, 0.0), (989, 0.028380320508436432), (990, 0.0), (991, 0.0), (992, 0.0), (993, 0.0), (994, 0.017543475688835113), (995, 0.019608624339377722), (996, 0.026694228085839756), (997, 0.0), (998, 0.0), (999, 0.019010138631119895), (1000, 0.0), (1001, 0.0), (1002, 0.0), (1003, 0.0), (1004, 0.08838376037963536), (1005, 0.0), (1006, 0.07839671830651183), (1007, 0.02438456728915016), (1008, 0.0), (1009, 0.0), (1010, 0.0), (1011, 0.03149004485942728), (1012, 0.0), (1013, 0.0817347888878745), (1014, 0.0), (1015, 0.0), (1016, 0.0), (1017, 0.009345244835900234), (1018, 0.0), (1019, 0.03991813892153283), (1020, 0.023796861846058733), (1021, 0.047814924339835314), (1022, 0.014014917259258403), (1023, 0.0), (1024, 0.0), (1025, 0.0), (1026, 0.0), (1027, 0.0), (1028, 0.0), (1029, 0.0068389238562998255), (1030, 0.0), (1031, 0.0), (1032, 0.008441441769648608), (1033, 0.0), (1034, 0.044610970831932), (1035, 0.0), (1036, 0.0), (1037, 0.0), (1038, 0.0), (1039, 0.02964225895626625), (1040, 0.0), (1041, 0.0), (1042, 0.0), (1043, 0.0), (1044, 0.0), (1045, 0.020324321403262895), (1046, 0.0), (1047, 0.0), (1048, 0.0), (1049, 0.0682911997359024), (1050, 0.009909645099087894), (1051, 0.0), (1052, 0.0), (1053, 0.0), (1054, 0.0), (1055, 0.0), (1056, 0.048354147771055206), (1057, 0.0), (1058, 0.03502446572518708), (1059, 0.0), (1060, 0.05431958737987445), (1061, 0.0), (1062, 0.0), (1063, 0.007683852672444034), (1064, 0.03100585419830034), (1065, 0.0), (1066, 0.02998835587620354), (1067, 0.06083734622756178), (1068, 0.011192022763975499), (1069, 0.0), (1070, 0.0), (1071, 0.009850357681579023), (1072, 0.008929110097793586), (1073, 0.04351841910375802), (1074, 0.0), (1075, 0.02371644944600567), (1076, 0.01840704565135973), (1077, 0.0), (1078, 0.008961949196032909), (1079, 0.0), (1080, 0.0), (1081, 0.009006490106481666), (1082, 0.006988133046260814), (1083, 0.05488274749270037), (1084, 0.028581591242130354), (1085, 0.008704456808664142), (1086, 0.0), (1087, 0.0073227877924376536), (1088, 0.03257127672449052), (1089, 0.008477242028748689), (1090, 0.019508600685840222), (1091, 0.190488451868303), (1092, 0.0), (1093, 0.0), (1094, 0.008842652923431608), (1095, 0.0), (1096, 0.0), (1097, 0.0), (1098, 0.030131301249808333), (1099, 0.0), (1100, 0.0235570187216402), (1101, 0.0), (1102, 0.0), (1103, 0.0), (1104, 0.0), (1105, 0.00820761591746018), (1106, 0.09086617177748654), (1107, 0.0), (1108, 0.008209210434548276), (1109, 0.0), (1110, 0.022918218460770086), (1111, 0.007963577911621616), (1112, 0.0), (1113, 0.026481882859600882), (1114, 0.0), (1115, 0.022015823824660607), (1116, 0.033760732409424045), (1117, 0.0), (1118, 0.0), (1119, 0.0), (1120, 0.02794968168049985), (1121, 0.0), (1122, 0.0), (1123, 0.04058342942626494), (1124, 0.021803562316423043), (1125, 0.02701711560034775), (1126, 0.024437440627890494), (1127, 0.0), (1128, 0.0), (1129, 0.018066820303790167), (1130, 0.0), (1131, 0.022949820606286656), (1132, 0.0), (1133, 0.0), (1134, 0.0), (1135, 0.016076321769287364), (1136, 0.008343592156971186), (1137, 0.0), (1138, 0.0), (1139, 0.0), (1140, 0.018273165663561707), (1141, 0.0), (1142, 0.007408846245110474), (1143, 0.0), (1144, 0.13219837521244385), (1145, 0.00863175743387575), (1146, 0.0), (1147, 0.0), (1148, 0.03669348787698667), (1149, 0.02705917807793378), (1150, 0.0), (1151, 0.0), (1152, 0.0), (1153, 0.0), (1154, 0.00939066511918375), (1155, 0.0), (1156, 0.0), (1157, 0.0), (1158, 0.03551305327443678), (1159, 0.01698680114462489), (1160, 0.0), (1161, 0.03785177976164363), (1162, 0.0), (1163, 0.010283397736472057), (1164, 0.0), (1165, 0.0), (1166, 0.0), (1167, 0.0), (1168, 0.026820196322080447), (1169, 0.028865856292436386), (1170, 0.0), (1171, 0.03663032619701552), (1172, 0.0), (1173, 0.0), (1174, 0.0), (1175, 0.0), (1176, 0.0), (1177, 0.0), (1178, 0.04158163107243969), (1179, 0.0), (1180, 0.023417370357405466), (1181, 0.008075386803963434), (1182, 0.0), (1183, 0.021490287508899367), (1184, 0.0), (1185, 0.09227993931008002), (1186, 0.0), (1187, 0.0), (1188, 0.025703305752036908), (1189, 0.0), (1190, 0.0), (1191, 0.0), (1192, 0.0), (1193, 0.0), (1194, 0.0), (1195, 0.0), (1196, 0.0), (1197, 0.028341006025862876), (1198, 0.028740029570779355), (1199, 0.015000153523816883), (1200, 0.0), (1201, 0.025675653285106875), (1202, 0.03340274558869185), (1203, 0.0), (1204, 0.08704253554539947), (1205, 0.016779009107186892), (1206, 0.008198146045736463), (1207, 0.056947364883233674), (1208, 0.0), (1209, 0.0), (1210, 0.0), (1211, 0.029926387927133938), (1212, 0.011117254496721884), (1213, 0.016077987061128913), (1214, 0.0), (1215, 0.0), (1216, 0.0), (1217, 0.019522839271136978), (1218, 0.028895271464041195), (1219, 0.046817835188186094), (1220, 0.025425846189434644), (1221, 0.0), (1222, 0.028038289390288504), (1223, 0.12243267034806153), (1224, 0.07111219563827154), (1225, 0.0), (1226, 0.0), (1227, 0.0), (1228, 0.010633058909553458), (1229, 0.0097540852144928), (1230, 0.02228236063100973), (1231, 0.029453413780127634), (1232, 0.038479615101654555), (1233, 0.0), (1234, 0.0), (1235, 0.06509599215863403), (1236, 0.03326805660022182), (1237, 0.0), (1238, 0.0), (1239, 0.0), (1240, 0.046652886758482844), (1241, 0.0), (1242, 0.0), (1243, 0.0), (1244, 0.022981459374391132), (1245, 0.01923372222312115), (1246, 0.0), (1247, 0.0), (1248, 0.0), (1249, 0.0), (1250, 0.0), (1251, 0.0), (1252, 0.0), (1253, 0.02298358281146179), (1254, 0.010271435204325404), (1255, 0.0), (1256, 0.0), (1257, 0.014271479362786974), (1258, 0.0), (1259, 0.0), (1260, 0.0), (1261, 0.009376861287690792), (1262, 0.0), (1263, 0.0399426138076939), (1264, 0.0), (1265, 0.03719202809994043), (1266, 0.0), (1267, 0.0), (1268, 0.0), (1269, 0.04114187124372413), (1270, 0.009389244076024258), (1271, 0.0), (1272, 0.025206256568384447), (1273, 0.0), (1274, 0.0), (1275, 0.0), (1276, 0.02029004885905351), (1277, 0.021470248957254447), (1278, 0.05504380675420799), (1279, 0.009378797341253539), (1280, 0.018613688112257727), (1281, 0.022317360474432002), (1282, 0.0), (1283, 0.0), (1284, 0.0), (1285, 0.01918942249669324), (1286, 0.0), (1287, 0.0), (1288, 0.029767867778504598), (1289, 0.0167417574030915), (1290, 0.0), (1291, 0.0), (1292, 0.018411365856049612), (1293, 0.0), (1294, 0.0), (1295, 0.0), (1296, 0.0), (1297, 0.0), (1298, 0.0), (1299, 0.048911751715162766), (1300, 0.031124393991842025), (1301, 0.0), (1302, 0.025368533491370613), (1303, 0.0), (1304, 0.0071121339839625465), (1305, 0.07500123817780996), (1306, 0.0), (1307, 0.008762117170092553), (1308, 0.019865150074823472), (1309, 0.030275566243995092), (1310, 0.0), (1311, 0.08287881076030199), (1312, 0.0), (1313, 0.024598077806834154), (1314, 0.0), (1315, 0.0), (1316, 0.009488380184297509), (1317, 0.0), (1318, 0.0), (1319, 0.0), (1320, 0.030407062651366612), (1321, 0.0), (1322, 0.0), (1323, 0.0), (1324, 0.022215516745122052), (1325, 0.05261184913141988), (1326, 0.009064486356232157), (1327, 0.0), (1328, 0.028610459450219262), (1329, 0.016041090233576184), (1330, 0.0), (1331, 0.0), (1332, 0.08761209996358502), (1333, 0.0), (1334, 0.0), (1335, 0.0), (1336, 0.0), (1337, 0.028345182331131716), (1338, 0.0), (1339, 0.03742968737487058), (1340, 0.0), (1341, 0.0), (1342, 0.010549341026190788), (1343, 0.03185138956469964), (1344, 0.03701534134870342), (1345, 0.0), (1346, 0.0), (1347, 0.0), (1348, 0.0), (1349, 0.007942879582644977), (1350, 0.030887810844935748), (1351, 0.010817760739906238), (1352, 0.0), (1353, 0.0), (1354, 0.02287243739858066), (1355, 0.0), (1356, 0.0), (1357, 0.021854482735981104), (1358, 0.022417537549950774), (1359, 0.0), (1360, 0.029043672554443286), (1361, 0.0), (1362, 0.0), (1363, 0.0), (1364, 0.0676489077541408), (1365, 0.0), (1366, 0.0), (1367, 0.032210918015477784), (1368, 0.0), (1369, 0.017977164367606047), (1370, 0.03270090560614957), (1371, 0.008452403503819407), (1372, 0.0), (1373, 0.03906917571935269), (1374, 0.0), (1375, 0.0), (1376, 0.0), (1377, 0.0), (1378, 0.0), (1379, 0.0), (1380, 0.0), (1381, 0.019454094013594603), (1382, 0.0), (1383, 0.024200837410694887), (1384, 0.0), (1385, 0.058196060724429954), (1386, 0.008640355740289731), (1387, 0.0), (1388, 0.0), (1389, 0.0), (1390, 0.02467877784398769), (1391, 0.08034617301981677), (1392, 0.038796050990288156), (1393, 0.0), (1394, 0.09186934730308086), (1395, 0.048784392635155896), (1396, 0.033543420515595876), (1397, 0.0), (1398, 0.0), (1399, 0.0), (1400, 0.0), (1401, 0.04075910936329215), (1402, 0.0), (1403, 0.022073741266927214), (1404, 0.025981248589509977), (1405, 0.024172238123394002), (1406, 0.0), (1407, 0.0), (1408, 0.008885895572801693), (1409, 0.007491344418007062), (1410, 0.02819348080311493), (1411, 0.009522869940224419), (1412, 0.0), (1413, 0.0), (1414, 0.0), (1415, 0.0), (1416, 0.08620642819780822), (1417, 0.01716488212740525), (1418, 0.01822612700738693), (1419, 0.0), (1420, 0.024874100027413), (1421, 0.02133304170673827), (1422, 0.0), (1423, 0.0), (1424, 0.0), (1425, 0.0), (1426, 0.02441062628541596), (1427, 0.0), (1428, 0.08163155475672078), (1429, 0.04250997078926544), (1430, 0.0), (1431, 0.05796245728560899), (1432, 0.13286635800173385), (1433, 0.0), (1434, 0.020121545056336988), (1435, 0.0), (1436, 0.0), (1437, 0.022823414914031764), (1438, 0.08487775512790526), (1439, 0.007632248497240352), (1440, 0.0), (1441, 0.015421709356101987), (1442, 0.02385792945255917), (1443, 0.036121770358646006), (1444, 0.007878909404354593), (1445, 0.007606583899436372), (1446, 0.00861236689835335), (1447, 0.0), (1448, 0.0), (1449, 0.0), (1450, 0.02917659566843465), (1451, 0.0), (1452, 0.0), (1453, 0.02460591351138129), (1454, 0.0), (1455, 0.0), (1456, 0.0), (1457, 0.02025393653631174), (1458, 0.008635523366155164), (1459, 0.009510509656741458), (1460, 0.0), (1461, 0.0), (1462, 0.0), (1463, 0.0), (1464, 0.0), (1465, 0.0), (1466, 0.0), (1467, 0.029454041687161696), (1468, 0.006955101015404947), (1469, 0.0), (1470, 0.0), (1471, 0.022030147686028505), (1472, 0.0), (1473, 0.0), (1474, 0.061523300044317636), (1475, 0.0), (1476, 0.0), (1477, 0.026194916305031034), (1478, 0.0), (1479, 0.022119430109230908), (1480, 0.05131608833673121), (1481, 0.0), (1482, 0.0), (1483, 0.0), (1484, 0.0), (1485, 0.0), (1486, 0.011001840407191762), (1487, 0.04241810559915868), (1488, 0.05051198071380453), (1489, 0.0), (1490, 0.036128881575929334), (1491, 0.0), (1492, 0.0), (1493, 0.0), (1494, 0.0), (1495, 0.0), (1496, 0.03233279610849604), (1497, 0.04828815386485615), (1498, 0.0), (1499, 0.057736813245744326), (1500, 0.010124513260085548), (1501, 0.021616785226450826), (1502, 0.018141015657815528), (1503, 0.0), (1504, 0.008381448699429223), (1505, 0.04550586073245522), (1506, 0.15233902725677606), (1507, 0.0), (1508, 0.0), (1509, 0.0), (1510, 0.010685092689268838), (1511, 0.028400504225125883), (1512, 0.024965451608299688), (1513, 0.00807374193550167), (1514, 0.0), (1515, 0.0), (1516, 0.0), (1517, 0.0), (1518, 0.0), (1519, 0.0235352987656547), (1520, 0.0), (1521, 0.0), (1522, 0.0), (1523, 0.01862711750456769), (1524, 0.040823974836440624), (1525, 0.00823205411937022), (1526, 0.0), (1527, 0.029283709317529133), (1528, 0.0), (1529, 0.0), (1530, 0.0), (1531, 0.0), (1532, 0.0), (1533, 0.009249515247127096), (1534, 0.0), (1535, 0.0), (1536, 0.0), (1537, 0.02594451489845828), (1538, 0.0), (1539, 0.0), (1540, 0.0), (1541, 0.025169863676712978), (1542, 0.0), (1543, 0.0), (1544, 0.0), (1545, 0.0), (1546, 0.0), (1547, 0.0), (1548, 0.008262367047577057), (1549, 0.0), (1550, 0.0), (1551, 0.0), (1552, 0.009364478995172038), (1553, 0.0), (1554, 0.0), (1555, 0.0), (1556, 0.008138685750076377), (1557, 0.009115239064644037), (1558, 0.031010574894201916), (1559, 0.0), (1560, 0.021097063469574226), (1561, 0.02885854020840944), (1562, 0.0), (1563, 0.0), (1564, 0.0), (1565, 0.027667429278768352), (1566, 0.0), (1567, 0.008768705173078765), (1568, 0.0357748862631012), (1569, 0.0), (1570, 0.008075495259422145), (1571, 0.0), (1572, 0.0), (1573, 0.0), (1574, 0.03746022189661694), (1575, 0.0), (1576, 0.008988539652055162), (1577, 0.0), (1578, 0.0), (1579, 0.0), (1580, 0.0), (1581, 0.029808742577349043), (1582, 0.0), (1583, 0.04717159469364991), (1584, 0.0), (1585, 0.0), (1586, 0.04389022004901519), (1587, 0.0), (1588, 0.016815626870320795), (1589, 0.033135862414174565), (1590, 0.008763638231776708), (1591, 0.0), (1592, 0.008879259297338911), (1593, 0.05526675065375099), (1594, 0.0), (1595, 0.0), (1596, 0.0), (1597, 0.0), (1598, 0.0), (1599, 0.028405631800184086), (1600, 0.033130906836162634), (1601, 0.0), (1602, 0.0), (1603, 0.0), (1604, 0.0), (1605, 0.0), (1606, 0.0), (1607, 0.026619856288233195), (1608, 0.009148515471290926), (1609, 0.0), (1610, 0.0), (1611, 0.0), (1612, 0.026394650172765842), (1613, 0.007464253885406524), (1614, 0.03367572851360004), (1615, 0.0), (1616, 0.008719166347119264), (1617, 0.017644735453592825), (1618, 0.0), (1619, 0.0), (1620, 0.0), (1621, 0.008637070271340275), (1622, 0.0), (1623, 0.07382327222669335), (1624, 0.0), (1625, 0.0), (1626, 0.05829786615034863), (1627, 0.0), (1628, 0.0), (1629, 0.0), (1630, 0.012178537823911423), (1631, 0.021628517161084177), (1632, 0.0), (1633, 0.0), (1634, 0.009160376570026846), (1635, 0.0), (1636, 0.0), (1637, 0.0), (1638, 0.015358544612961583), (1639, 0.02373815752854237), (1640, 0.025111138146778622), (1641, 0.0), (1642, 0.0), (1643, 0.0), (1644, 0.0), (1645, 0.0), (1646, 0.0), (1647, 0.0), (1648, 0.02947788619954276), (1649, 0.04681084395352692), (1650, 0.011042295874298438), (1651, 0.00813459172233838), (1652, 0.01807141906022828), (1653, 0.01832700594302544), (1654, 0.022552516044738645), (1655, 0.0), (1656, 0.0444390326708272), (1657, 0.01727157345237403), (1658, 0.05792974495925228), (1659, 0.0), (1660, 0.04378109495994846), (1661, 0.0), (1662, 0.04471649059392325), (1663, 0.0), (1664, 0.0), (1665, 0.013657017722019986), (1666, 0.0), (1667, 0.0), (1668, 0.0), (1669, 0.0), (1670, 0.0), (1671, 0.0), (1672, 0.0), (1673, 0.0), (1674, 0.009522638216233986), (1675, 0.0), (1676, 0.025897091707932418), (1677, 0.016122897921982446), (1678, 0.007676199605712013), (1679, 0.0), (1680, 0.0), (1681, 0.02796662215812408), (1682, 0.0), (1683, 0.0), (1684, 0.0), (1685, 0.0), (1686, 0.021624201979435473), (1687, 0.0), (1688, 0.2239768140781155), (1689, 0.026900376478904003), (1690, 0.08449839482838353), (1691, 0.0), (1692, 0.08394494403126615), (1693, 0.0), (1694, 0.0), (1695, 0.0), (1696, 0.02450430955569081), (1697, 0.0), (1698, 0.0), (1699, 0.0), (1700, 0.0), (1701, 0.04114723466735699), (1702, 0.0), (1703, 0.046119807950442876), (1704, 0.0), (1705, 0.0), (1706, 0.024633875630408784), (1707, 0.0), (1708, 0.0), (1709, 0.052667072350550403), (1710, 0.0), (1711, 0.0), (1712, 0.015477977298350702), (1713, 0.021249162414424125), (1714, 0.0), (1715, 0.0), (1716, 0.020721876356064355), (1717, 0.0), (1718, 0.0), (1719, 0.008527379978789773), (1720, 0.0), (1721, 0.03675094177568837), (1722, 0.0), (1723, 0.021980625262932006), (1724, 0.009155724415403403), (1725, 0.0), (1726, 0.0), (1727, 0.014761738953503944), (1728, 0.0), (1729, 0.010114142302986113), (1730, 0.040806403724029154), (1731, 0.021065847458097132), (1732, 0.0068800149347710135), (1733, 0.0), (1734, 0.0), (1735, 0.0), (1736, 0.0), (1737, 0.00931146395505208), (1738, 0.0), (1739, 0.03853211555930332), (1740, 0.017764016608910877), (1741, 0.01888859678193986), (1742, 0.0), (1743, 0.0), (1744, 0.0), (1745, 0.0), (1746, 0.036096053332067654), (1747, 0.0), (1748, 0.01707801688164811), (1749, 0.007862629026168083), (1750, 0.13936133841942996), (1751, 0.0), (1752, 0.009409139336222559), (1753, 0.006512543777831279), (1754, 0.0), (1755, 0.07655267000866264), (1756, 0.028427589766361894), (1757, 0.0), (1758, 0.0), (1759, 0.0), (1760, 0.01854019985998826), (1761, 0.0), (1762, 0.028698124282546065), (1763, 0.02325665720935909), (1764, 0.01633304249250825), (1765, 0.0), (1766, 0.0), (1767, 0.015935725661192716), (1768, 0.12103434061723618), (1769, 0.0), (1770, 0.07258974320508141), (1771, 0.0), (1772, 0.0), (1773, 0.0), (1774, 0.0), (1775, 0.0), (1776, 0.0), (1777, 0.0), (1778, 0.0), (1779, 0.0), (1780, 0.0), (1781, 0.0), (1782, 0.0), (1783, 0.04779300979404634), (1784, 0.0), (1785, 0.14541797532615552), (1786, 0.0), (1787, 0.0), (1788, 0.0), (1789, 0.07685288480529055), (1790, 0.0), (1791, 0.0), (1792, 0.11166200485138292), (1793, 0.0), (1794, 0.0), (1795, 0.02723955870694824), (1796, 0.008739299117342773), (1797, 0.06712501376399772), (1798, 0.0), (1799, 0.014912917072783442), (1800, 0.05058447757631094), (1801, 0.02280681035635694), (1802, 0.009194995821564285), (1803, 0.00859143033638951), (1804, 0.0), (1805, 0.0), (1806, 0.0), (1807, 0.0), (1808, 0.019092910045492965), (1809, 0.03035832045376472), (1810, 0.0), (1811, 0.0), (1812, 0.01735291975008725), (1813, 0.0576438144573419), (1814, 0.019608120617978713), (1815, 0.0), (1816, 0.0), (1817, 0.007952125788386524), (1818, 0.0), (1819, 0.0), (1820, 0.0), (1821, 0.0), (1822, 0.0), (1823, 0.0), (1824, 0.0), (1825, 0.0), (1826, 0.0), (1827, 0.039147487798720626), (1828, 0.008022745890243276), (1829, 0.0), (1830, 0.0), (1831, 0.0646635027085629), (1832, 0.052341216390916136), (1833, 0.0610032936406985), (1834, 0.0), (1835, 0.0), (1836, 0.021890237211672436), (1837, 0.024885003550074853), (1838, 0.0), (1839, 0.08188876416166371), (1840, 0.0), (1841, 0.0), (1842, 0.008540282811453413), (1843, 0.0), (1844, 0.0), (1845, 0.0), (1846, 0.0), (1847, 0.01732888109893626), (1848, 0.0), (1849, 0.0), (1850, 0.0), (1851, 0.0), (1852, 0.05628832893448517), (1853, 0.01834114548651934), (1854, 0.040147586070209525), (1855, 0.010266343892448215), (1856, 0.0), (1857, 0.031247595623215326), (1858, 0.0), (1859, 0.010432035909509921), (1860, 0.024347368242236024), (1861, 0.030150048242245785), (1862, 0.03164595062082888), (1863, 0.05189829069152671), (1864, 0.0), (1865, 0.0), (1866, 0.0), (1867, 0.0), (1868, 0.0), (1869, 0.02496812347136061), (1870, 0.023195672992931255), (1871, 0.0), (1872, 0.0), (1873, 0.0), (1874, 0.0), (1875, 0.0), (1876, 0.009182545485476442), (1877, 0.010224792069326166), (1878, 0.0), (1879, 0.0), (1880, 0.0), (1881, 0.0), (1882, 0.0), (1883, 0.039032203158794625), (1884, 0.007184179418736761), (1885, 0.026551009102656658), (1886, 0.0), (1887, 0.0), (1888, 0.023315373470763463), (1889, 0.0), (1890, 0.0), (1891, 0.022704648808673455), (1892, 0.0), (1893, 0.0), (1894, 0.02443521898656148), (1895, 0.0), (1896, 0.0), (1897, 0.0), (1898, 0.007563834226643665), (1899, 0.0), (1900, 0.0), (1901, 0.0), (1902, 0.0), (1903, 0.0), (1904, 0.02973578600242837), (1905, 0.0), (1906, 0.02606860343224589), (1907, 0.013632528068350091), (1908, 0.023499943585755488), (1909, 0.0), (1910, 0.0), (1911, 0.0), (1912, 0.0), (1913, 0.022738101805096857), (1914, 0.0), (1915, 0.028618751884004402), (1916, 0.0), (1917, 0.03814842005602821), (1918, 0.0), (1919, 0.02727358746141062), (1920, 0.05062532990691064), (1921, 0.0), (1922, 0.0), (1923, 0.0), (1924, 0.01868306770104839), (1925, 0.0), (1926, 0.0415694115857769), (1927, 0.020708667518658012), (1928, 0.0), (1929, 0.0), (1930, 0.0), (1931, 0.0), (1932, 0.0), (1933, 0.0), (1934, 0.0), (1935, 0.0), (1936, 0.0), (1937, 0.03494517359536684), (1938, 0.0), (1939, 0.0), (1940, 0.0), (1941, 0.0), (1942, 0.019388822264348175), (1943, 0.0), (1944, 0.0), (1945, 0.008464840222433658), (1946, 0.0), (1947, 0.0), (1948, 0.009273838427614308), (1949, 0.036054781406804716), (1950, 0.0), (1951, 0.03371363840417593), (1952, 0.0), (1953, 0.02809857814186302), (1954, 0.0), (1955, 0.024176515489185542), (1956, 0.0), (1957, 0.0), (1958, 0.0), (1959, 0.056475078858400724), (1960, 0.0), (1961, 0.0), (1962, 0.028264864407372987), (1963, 0.0), (1964, 0.009448400956629596), (1965, 0.025913867343831515), (1966, 0.024291304941340283), (1967, 0.0), (1968, 0.0), (1969, 0.0), (1970, 0.0), (1971, 0.0), (1972, 0.0), (1973, 0.0), (1974, 0.0), (1975, 0.0), (1976, 0.07239010510977191), (1977, 0.0), (1978, 0.0), (1979, 0.008225019576912674), (1980, 0.0), (1981, 0.0), (1982, 0.03414601366527979), (1983, 0.014669750781316944), (1984, 0.0), (1985, 0.0), (1986, 0.009345328426173707), (1987, 0.0), (1988, 0.0), (1989, 0.0), (1990, 0.0), (1991, 0.0), (1992, 0.0), (1993, 0.023758073944337422), (1994, 0.0), (1995, 0.0), (1996, 0.041515298282951724), (1997, 0.0), (1998, 0.0), (1999, 0.0), (2000, 0.015700479320507527), (2001, 0.045325137399668904), (2002, 0.025809278295268797), (2003, 0.021553256061951707), (2004, 0.016736968854978256), (2005, 0.039383442750366225), (2006, 0.0), (2007, 0.0), (2008, 0.0), (2009, 0.04812985813948566), (2010, 0.0), (2011, 0.0), (2012, 0.0), (2013, 0.019556094451072894), (2014, 0.016733134121971884), (2015, 0.0), (2016, 0.0), (2017, 0.0), (2018, 0.07679621358703656), (2019, 0.0), (2020, 0.0), (2021, 0.021394595336847844), (2022, 0.0), (2023, 0.0), (2024, 0.0), (2025, 0.009123850625558193), (2026, 0.03866100506056558), (2027, 0.009338947021401723), (2028, 0.0), (2029, 0.0), (2030, 0.0), (2031, 0.009615232491210829), (2032, 0.0), (2033, 0.0), (2034, 0.0), (2035, 0.0), (2036, 0.0), (2037, 0.0), (2038, 0.0), (2039, 0.0), (2040, 0.0), (2041, 0.0), (2042, 0.0), (2043, 0.039404961527020985), (2044, 0.0), (2045, 0.0), (2046, 0.0), (2047, 0.0), (2048, 0.0), (2049, 0.0), (2050, 0.009492344522092721), (2051, 0.0), (2052, 0.058425757180788296), (2053, 0.0260115644426179), (2054, 0.0), (2055, 0.03986875041838867), (2056, 0.0), (2057, 0.01620320996016782), (2058, 0.03759977463382238), (2059, 0.0), (2060, 0.022630212642874847), (2061, 0.0), (2062, 0.0), (2063, 0.007181997448539175), (2064, 0.0), (2065, 0.0), (2066, 0.0), (2067, 0.0), (2068, 0.0), (2069, 0.0), (2070, 0.021947508960577598), (2071, 0.0), (2072, 0.02690064366447713), (2073, 0.015548769432686729), (2074, 0.008401567816739064), (2075, 0.04260498268507345), (2076, 0.0), (2077, 0.0), (2078, 0.0), (2079, 0.0), (2080, 0.0), (2081, 0.05350149933831776), (2082, 0.02287746214634685), (2083, 0.0), (2084, 0.0), (2085, 0.0), (2086, 0.0), (2087, 0.0), (2088, 0.0), (2089, 0.0), (2090, 0.02228625644994634), (2091, 0.023494056739479453), (2092, 0.01825865793728392), (2093, 0.022470647153336208), (2094, 0.0), (2095, 0.0), (2096, 0.0), (2097, 0.0), (2098, 0.0), (2099, 0.0), (2100, 0.045417003953741), (2101, 0.0483614146269822), (2102, 0.0), (2103, 0.016155151883808266), (2104, 0.0), (2105, 0.0), (2106, 0.016612923476136864), (2107, 0.0), (2108, 0.0), (2109, 0.017484993509809428), (2110, 0.04169310122951103), (2111, 0.016193975218075994), (2112, 0.0), (2113, 0.0), (2114, 0.0), (2115, 0.0), (2116, 0.0), (2117, 0.018840688582093434), (2118, 0.011762829073716275), (2119, 0.0), (2120, 0.06185161739827623), (2121, 0.0), (2122, 0.03734410432047735), (2123, 0.0), (2124, 0.0), (2125, 0.0), (2126, 0.0), (2127, 0.01923039571101106), (2128, 0.0), (2129, 0.0), (2130, 0.0), (2131, 0.0), (2132, 0.0), (2133, 0.03989687162615972), (2134, 0.0), (2135, 0.08362584600351089), (2136, 0.0), (2137, 0.0), (2138, 0.0), (2139, 0.0), (2140, 0.01117743662306686), (2141, 0.0), (2142, 0.048030489377204666), (2143, 0.0), (2144, 0.0), (2145, 0.02608952079705752), (2146, 0.0), (2147, 0.0), (2148, 0.0), (2149, 0.0), (2150, 0.0), (2151, 0.0), (2152, 0.0), (2153, 0.0), (2154, 0.0), (2155, 0.020422946779345762), (2156, 0.10927657567499834), (2157, 0.0), (2158, 0.020679722912535996), (2159, 0.02378077573330468), (2160, 0.08214355671151502), (2161, 0.021676590476857993), (2162, 0.029226483227933156), (2163, 0.02094022093145328), (2164, 0.021719997631978398), (2165, 0.0075498680282919), (2166, 0.0233296701932546), (2167, 0.007685798709108898), (2168, 0.03957276933027273), (2169, 0.031016090667234496), (2170, 0.0), (2171, 0.0), (2172, 0.0), (2173, 0.00871025348210823), (2174, 0.0), (2175, 0.0), (2176, 0.0), (2177, 0.0), (2178, 0.0), (2179, 0.009684915322207024), (2180, 0.0), (2181, 0.00774240416478244), (2182, 0.01160241236244074), (2183, 0.01082018402539841), (2184, 0.007894150356776545), (2185, 0.0), (2186, 0.0), (2187, 0.0), (2188, 0.0), (2189, 0.018038918874555124), (2190, 0.0), (2191, 0.027227385009330897), (2192, 0.0), (2193, 0.009516340357945956), (2194, 0.020386428189683694), (2195, 0.0), (2196, 0.009824848740348615), (2197, 0.0), (2198, 0.0), (2199, 0.0), (2200, 0.02212007889562833), (2201, 0.0), (2202, 0.0), (2203, 0.0), (2204, 0.02393639333988744), (2205, 0.0), (2206, 0.0), (2207, 0.0), (2208, 0.0), (2209, 0.0), (2210, 0.0), (2211, 0.009783328279233136), (2212, 0.0), (2213, 0.021540874180337122), (2214, 0.0), (2215, 0.04322024860859651), (2216, 0.0), (2217, 0.0), (2218, 0.0), (2219, 0.0), (2220, 0.0), (2221, 0.0), (2222, 0.0), (2223, 0.0), (2224, 0.0), (2225, 0.010150959096031548), (2226, 0.010439998504039757), (2227, 0.0), (2228, 0.0), (2229, 0.022253361382062818), (2230, 0.0), (2231, 0.09539455216805104), (2232, 0.0), (2233, 0.0), (2234, 0.0), (2235, 0.024023885899336284), (2236, 0.02215842977686199), (2237, 0.0), (2238, 0.0), (2239, 0.0), (2240, 0.0), (2241, 0.044298326125620506), (2242, 0.0), (2243, 0.0), (2244, 0.009787666372681384), (2245, 0.0), (2246, 0.0), (2247, 0.0), (2248, 0.0), (2249, 0.0), (2250, 0.0), (2251, 0.009043613041237764), (2252, 0.0), (2253, 0.044408741560867306), (2254, 0.0), (2255, 0.0), (2256, 0.009116097200775468), (2257, 0.0), (2258, 0.0), (2259, 0.02010255589110013), (2260, 0.02337253941992227), (2261, 0.010713673423590406), (2262, 0.0), (2263, 0.0), (2264, 0.03708263470977288), (2265, 0.0), (2266, 0.0), (2267, 0.0), (2268, 0.029490657506486804), (2269, 0.0229537969791023), (2270, 0.022427158174137516), (2271, 0.0), (2272, 0.0), (2273, 0.0), (2274, 0.0), (2275, 0.0), (2276, 0.04003422519991114), (2277, 0.0), (2278, 0.0), (2279, 0.0), (2280, 0.0), (2281, 0.0), (2282, 0.0), (2283, 0.0), (2284, 0.016324481962794953), (2285, 0.0), (2286, 0.0), (2287, 0.0), (2288, 0.0), (2289, 0.0), (2290, 0.0), (2291, 0.03928719427852531), (2292, 0.0), (2293, 0.0), (2294, 0.0), (2295, 0.0), (2296, 0.0), (2297, 0.0), (2298, 0.0), (2299, 0.02405472180161713), (2300, 0.031280098439193216), (2301, 0.0), (2302, 0.0), (2303, 0.0), (2304, 0.04348717075937189), (2305, 0.0), (2306, 0.0), (2307, 0.0), (2308, 0.0), (2309, 0.017726309307839534), (2310, 0.0), (2311, 0.0), (2312, 0.009693858998341316), (2313, 0.0), (2314, 0.0), (2315, 0.0), (2316, 0.007652490278165668), (2317, 0.0), (2318, 0.10518628230590328), (2319, 0.0), (2320, 0.009319401453278184), (2321, 0.0), (2322, 0.07716878940886215), (2323, 0.0), (2324, 0.0), (2325, 0.0), (2326, 0.024038044641351106), (2327, 0.0), (2328, 0.0), (2329, 0.0), (2330, 0.053415865949251906), (2331, 0.011885109016147337), (2332, 0.012319639477510136), (2333, 0.05674272696305234), (2334, 0.0), (2335, 0.010987232903998527), (2336, 0.0), (2337, 0.0), (2338, 0.0), (2339, 0.0), (2340, 0.0), (2341, 0.0), (2342, 0.012523871800643762), (2343, 0.01008808344821411), (2344, 0.0), (2345, 0.0), (2346, 0.07986000344222932), (2347, 0.0), (2348, 0.07845374644513342), (2349, 0.04311825609442056), (2350, 0.0), (2351, 0.02362347184937233), (2352, 0.032448846387481835), (2353, 0.0), (2354, 0.01580301607138386), (2355, 0.0), (2356, 0.0), (2357, 0.04119299271899811), (2358, 0.02119923330763464), (2359, 0.0), (2360, 0.07596817283797866), (2361, 0.016530012583829287), (2362, 0.027986413182929132), (2363, 0.0063518746550067255), (2364, 0.0), (2365, 0.0), (2366, 0.0), (2367, 0.010645510017589904), (2368, 0.0), (2369, 0.040958969615719334), (2370, 0.0), (2371, 0.0), (2372, 0.006942347486938227), (2373, 0.05099135548720121), (2374, 0.022620660993520652), (2375, 0.0), (2376, 0.0), (2377, 0.0), (2378, 0.02932981092851419), (2379, 0.0), (2380, 0.0), (2381, 0.034603692421855785), (2382, 0.0), (2383, 0.0), (2384, 0.0), (2385, 0.0), (2386, 0.02326477886250862), (2387, 0.0), (2388, 0.0), (2389, 0.0), (2390, 0.0), (2391, 0.0), (2392, 0.0), (2393, 0.020113115614457625), (2394, 0.0), (2395, 0.03875461530367098), (2396, 0.025943223981277637), (2397, 0.0), (2398, 0.0831554532785964), (2399, 0.0), (2400, 0.0), (2401, 0.0), (2402, 0.02825164933764631), (2403, 0.02036649372258241), (2404, 0.0), (2405, 0.0), (2406, 0.0), (2407, 0.0), (2408, 0.0), (2409, 0.04264852168768756), (2410, 0.009648809052925157), (2411, 0.0), (2412, 0.0), (2413, 0.013020743504119683), (2414, 0.016002790385415553), (2415, 0.0), (2416, 0.0), (2417, 0.0), (2418, 0.0), (2419, 0.0), (2420, 0.0), (2421, 0.0), (2422, 0.0), (2423, 0.00979013870800634), (2424, 0.0), (2425, 0.0), (2426, 0.0), (2427, 0.0), (2428, 0.0), (2429, 0.0), (2430, 0.0), (2431, 0.0), (2432, 0.0), (2433, 0.0), (2434, 0.0), (2435, 0.0), (2436, 0.023866323559709225), (2437, 0.0), (2438, 0.049864175798561054), (2439, 0.021266969987785496), (2440, 0.0), (2441, 0.015206139941510353), (2442, 0.0), (2443, 0.0), (2444, 0.01792261467194999), (2445, 0.0065491547290128125), (2446, 0.0), (2447, 0.009989353655032344), (2448, 0.03288902499969482), (2449, 0.025450328753316855), (2450, 0.0), (2451, 0.0), (2452, 0.023376275773815434), (2453, 0.0), (2454, 0.0), (2455, 0.029591348567150528), (2456, 0.0), (2457, 0.0), (2458, 0.0), (2459, 0.0), (2460, 0.0), (2461, 0.0), (2462, 0.009503921875401606), (2463, 0.008428505671842047), (2464, 0.01706085271661628), (2465, 0.0), (2466, 0.0), (2467, 0.0), (2468, 0.0), (2469, 0.0), (2470, 0.0349470575332007), (2471, 0.020385492072109188), (2472, 0.011652478944316829), (2473, 0.0), (2474, 0.0), (2475, 0.007240214993345782), (2476, 0.0), (2477, 0.0), (2478, 0.0), (2479, 0.0), (2480, 0.007482420603751276), (2481, 0.0), (2482, 0.0), (2483, 0.0), (2484, 0.0), (2485, 0.0), (2486, 0.0), (2487, 0.0), (2488, 0.08958150530756015), (2489, 0.0), (2490, 0.018424494229674855), (2491, 0.0), (2492, 0.02035244476552663), (2493, 0.01760891609774155), (2494, 0.0), (2495, 0.0), (2496, 0.00871759172713071), (2497, 0.0), (2498, 0.0309734526913649), (2499, 0.0), (2500, 0.0), (2501, 0.02572616303667889), (2502, 0.0), (2503, 0.0), (2504, 0.0), (2505, 0.0), (2506, 0.0), (2507, 0.010234271329861874), (2508, 0.0), (2509, 0.0), (2510, 0.0), (2511, 0.0), (2512, 0.030602310584142277), (2513, 0.0), (2514, 0.0), (2515, 0.05540736237820083), (2516, 0.019132463147726587), (2517, 0.0326738629075858), (2518, 0.009764274276038319), (2519, 0.017202432620752127), (2520, 0.0), (2521, 0.006788874315967435), (2522, 0.0), (2523, 0.010209917588424891), (2524, 0.0), (2525, 0.0), (2526, 0.0), (2527, 0.0), (2528, 0.0), (2529, 0.0), (2530, 0.0), (2531, 0.010186147462425651), (2532, 0.0), (2533, 0.0521216987846321), (2534, 0.023935005987056977), (2535, 0.0), (2536, 0.048717167031918904), (2537, 0.0), (2538, 0.0), (2539, 0.0), (2540, 0.0), (2541, 0.027312274528179775), (2542, 0.0), (2543, 0.0), (2544, 0.0), (2545, 0.0), (2546, 0.0), (2547, 0.054333373652253936), (2548, 0.018093491783144254), (2549, 0.0), (2550, 0.0), (2551, 0.0), (2552, 0.016328879746694825), (2553, 0.0), (2554, 0.0), (2555, 0.020796343445707625), (2556, 0.0), (2557, 0.01036522058343264), (2558, 0.0), (2559, 0.024089776714437773), (2560, 0.0), (2561, 0.0), (2562, 0.056127581251079244), (2563, 0.021327140329950155), (2564, 0.0), (2565, 0.0), (2566, 0.05551121867757758), (2567, 0.05093437552692599), (2568, 0.02379713159653885), (2569, 0.0), (2570, 0.0), (2571, 0.0), (2572, 0.0), (2573, 0.0), (2574, 0.0), (2575, 0.0), (2576, 0.028230707467263548), (2577, 0.03312967722161035), (2578, 0.015682693763975006), (2579, 0.05313694797712276), (2580, 0.0), (2581, 0.0), (2582, 0.0), (2583, 0.0), (2584, 0.035134594337083325), (2585, 0.0), (2586, 0.023118132671945905), (2587, 0.022175231855259266), (2588, 0.0), (2589, 0.0), (2590, 0.0), (2591, 0.024684236650350914), (2592, 0.0), (2593, 0.0), (2594, 0.0), (2595, 0.0), (2596, 0.0), (2597, 0.0), (2598, 0.03302083472485507), (2599, 0.0), (2600, 0.0), (2601, 0.023981391345256065), (2602, 0.02918754439325181), (2603, 0.0), (2604, 0.0), (2605, 0.0), (2606, 0.0), (2607, 0.0), (2608, 0.0), (2609, 0.0), (2610, 0.0), (2611, 0.02211124960787759), (2612, 0.0260667241359919), (2613, 0.0), (2614, 0.0), (2615, 0.0), (2616, 0.0), (2617, 0.0), (2618, 0.0), (2619, 0.07220157479269416), (2620, 0.0), (2621, 0.010052101050791837), (2622, 0.0), (2623, 0.0), (2624, 0.0), (2625, 0.010482930743121368), (2626, 0.0), (2627, 0.0), (2628, 0.0), (2629, 0.007204377577871408), (2630, 0.01928942506180475), (2631, 0.0), (2632, 0.028224746939998484), (2633, 0.0), (2634, 0.024509401140138574), (2635, 0.0), (2636, 0.021688126238701217), (2637, 0.0), (2638, 0.0), (2639, 0.015316335692709173), (2640, 0.0), (2641, 0.0), (2642, 0.02158344111109537), (2643, 0.0), (2644, 0.016160932978178735), (2645, 0.019392650735539314), (2646, 0.0), (2647, 0.0), (2648, 0.0), (2649, 0.0), (2650, 0.008585215064904944), (2651, 0.008583664936145978), (2652, 0.0), (2653, 0.0), (2654, 0.0), (2655, 0.0), (2656, 0.0), (2657, 0.0), (2658, 0.0), (2659, 0.049464016360536565), (2660, 0.057403689613820134), (2661, 0.0), (2662, 0.0), (2663, 0.0), (2664, 0.0), (2665, 0.0), (2666, 0.022588897235800393), (2667, 0.0), (2668, 0.0), (2669, 0.0), (2670, 0.0), (2671, 0.022024679345152127), (2672, 0.0), (2673, 0.0), (2674, 0.0), (2675, 0.04686694159907634), (2676, 0.0), (2677, 0.0), (2678, 0.0), (2679, 0.0), (2680, 0.0), (2681, 0.00812240927116826), (2682, 0.0), (2683, 0.0), (2684, 0.018185116004217912), (2685, 0.0), (2686, 0.0), (2687, 0.0), (2688, 0.0), (2689, 0.00836491019979807), (2690, 0.0435152680178329), (2691, 0.0), (2692, 0.05099044235204226), (2693, 0.0), (2694, 0.008639092020561108), (2695, 0.023477343568071803), (2696, 0.0), (2697, 0.0), (2698, 0.0), (2699, 0.0), (2700, 0.0), (2701, 0.0), (2702, 0.02183245001294694), (2703, 0.0), (2704, 0.0), (2705, 0.0), (2706, 0.0), (2707, 0.0), (2708, 0.0), (2709, 0.020346875285720236), (2710, 0.0), (2711, 0.0), (2712, 0.0), (2713, 0.0), (2714, 0.0), (2715, 0.0), (2716, 0.0), (2717, 0.0), (2718, 0.0), (2719, 0.0), (2720, 0.0), (2721, 0.07609152229499043), (2722, 0.010480985940584081), (2723, 0.0), (2724, 0.05311747386107096), (2725, 0.0), (2726, 0.024552841741744068), (2727, 0.0), (2728, 0.0), (2729, 0.0), (2730, 0.0), (2731, 0.0), (2732, 0.05728132157289102), (2733, 0.0), (2734, 0.0), (2735, 0.009870967227319928), (2736, 0.0), (2737, 0.0), (2738, 0.010010886810164946), (2739, 0.0), (2740, 0.0), (2741, 0.0), (2742, 0.08522052639314918), (2743, 0.0), (2744, 0.024482421524216164), (2745, 0.0), (2746, 0.00996241536843065), (2747, 0.0), (2748, 0.0), (2749, 0.01925973041751952), (2750, 0.0), (2751, 0.04159902983218933), (2752, 0.027212048971477297), (2753, 0.007286462394889614), (2754, 0.010952389427647494), (2755, 0.025675735957576384), (2756, 0.0), (2757, 0.08407695438726462), (2758, 0.02177584602094983), (2759, 0.0), (2760, 0.0), (2761, 0.0717814675236046), (2762, 0.04128320469464663), (2763, 0.0064563903064155295), (2764, 0.0), (2765, 0.0), (2766, 0.0), (2767, 0.0), (2768, 0.0), (2769, 0.0), (2770, 0.0), (2771, 0.0), (2772, 0.016473819627443546), (2773, 0.0), (2774, 0.0), (2775, 0.0), (2776, 0.0), (2777, 0.08455986878601962), (2778, 0.0), (2779, 0.0), (2780, 0.03057932920396774), (2781, 0.0), (2782, 0.06166852077160344), (2783, 0.0), (2784, 0.0), (2785, 0.0), (2786, 0.0), (2787, 0.021516530066682322), (2788, 0.0), (2789, 0.0), (2790, 0.0), (2791, 0.02792672164589463), (2792, 0.0), (2793, 0.0), (2794, 0.0), (2795, 0.0), (2796, 0.0), (2797, 0.0), (2798, 0.0), (2799, 0.0), (2800, 0.045296059997519955), (2801, 0.0), (2802, 0.007688322793659211), (2803, 0.016655061803550475), (2804, 0.0), (2805, 0.0), (2806, 0.0), (2807, 0.009905668950457509), (2808, 0.019188594596511576), (2809, 0.0), (2810, 0.025100432157217033), (2811, 0.044054035368681195), (2812, 0.0), (2813, 0.020359093341963962), (2814, 0.0), (2815, 0.009033146355654406), (2816, 0.0), (2817, 0.02496063867023407), (2818, 0.008516332568097099), (2819, 0.026327643193115265), (2820, 0.0), (2821, 0.0280786820981297), (2822, 0.0), (2823, 0.021966084644596342), (2824, 0.0), (2825, 0.0), (2826, 0.0), (2827, 0.018758819167936824), (2828, 0.0), (2829, 0.036064324881650234), (2830, 0.02473547304670152), (2831, 0.0), (2832, 0.039910621321180395), (2833, 0.01910001264292926), (2834, 0.0), (2835, 0.0), (2836, 0.0), (2837, 0.022780480873271957), (2838, 0.019446053106579278), (2839, 0.0), (2840, 0.0), (2841, 0.0), (2842, 0.0), (2843, 0.0), (2844, 0.0), (2845, 0.0), (2846, 0.0), (2847, 0.0), (2848, 0.0), (2849, 0.0), (2850, 0.02481751367415009), (2851, 0.02103419408765462), (2852, 0.010412315261066195), (2853, 0.0), (2854, 0.0), (2855, 0.007618898066615308), (2856, 0.0), (2857, 0.0), (2858, 0.0), (2859, 0.0), (2860, 0.0), (2861, 0.0), (2862, 0.0), (2863, 0.0), (2864, 0.0), (2865, 0.0), (2866, 0.027473384300696048), (2867, 0.0), (2868, 0.023567914509843073), (2869, 0.0), (2870, 0.0), (2871, 0.020456425533803575), (2872, 0.0), (2873, 0.0), (2874, 0.017836130220374072), (2875, 0.0), (2876, 0.0), (2877, 0.0), (2878, 0.0), (2879, 0.0), (2880, 0.0), (2881, 0.0), (2882, 0.0), (2883, 0.05975712625861386), (2884, 0.0), (2885, 0.0), (2886, 0.0), (2887, 0.0), (2888, 0.0), (2889, 0.0), (2890, 0.018324762953970463), (2891, 0.0), (2892, 0.018016161649646333), (2893, 0.0), (2894, 0.0), (2895, 0.0), (2896, 0.0), (2897, 0.0), (2898, 0.0), (2899, 0.0), (2900, 0.0), (2901, 0.0), (2902, 0.0), (2903, 0.023703477611280697), (2904, 0.0), (2905, 0.0), (2906, 0.0), (2907, 0.0), (2908, 0.0), (2909, 0.0), (2910, 0.0), (2911, 0.0), (2912, 0.0), (2913, 0.0), (2914, 0.0), (2915, 0.0), (2916, 0.0), (2917, 0.0), (2918, 0.027763848062962834), (2919, 0.0), (2920, 0.008313881522888061), (2921, 0.008701105077798862), (2922, 0.0), (2923, 0.0), (2924, 0.0), (2925, 0.0), (2926, 0.0), (2927, 0.0), (2928, 0.0), (2929, 0.03092694811976368), (2930, 0.0780228552858537), (2931, 0.0), (2932, 0.0), (2933, 0.0778997239194455), (2934, 0.0), (2935, 0.0), (2936, 0.008739061845443853), (2937, 0.0), (2938, 0.0), (2939, 0.0), (2940, 0.04752479251027919), (2941, 0.0), (2942, 0.0), (2943, 0.0), (2944, 0.03578413650508462), (2945, 0.0), (2946, 0.0), (2947, 0.0), (2948, 0.0), (2949, 0.0), (2950, 0.0), (2951, 0.022406420731962834), (2952, 0.009527249974640824), (2953, 0.0), (2954, 0.0), (2955, 0.020841771510349508), (2956, 0.009803455398950967), (2957, 0.0), (2958, 0.0), (2959, 0.014135532655964221), (2960, 0.0), (2961, 0.0), (2962, 0.0), (2963, 0.0), (2964, 0.0), (2965, 0.0), (2966, 0.0), (2967, 0.0), (2968, 0.0), (2969, 0.0), (2970, 0.04870314648832028), (2971, 0.009022167849353778), (2972, 0.03809879703505405), (2973, 0.036138097691167874), (2974, 0.0), (2975, 0.0), (2976, 0.0), (2977, 0.0), (2978, 0.0), (2979, 0.027512917201297612), (2980, 0.0), (2981, 0.0), (2982, 0.0), (2983, 0.0), (2984, 0.0), (2985, 0.0), (2986, 0.0), (2987, 0.014324753170239565), (2988, 0.0), (2989, 0.0), (2990, 0.0), (2991, 0.014974465649308733), (2992, 0.03296810623894493), (2993, 0.00836456901815103), (2994, 0.0), (2995, 0.0), (2996, 0.0), (2997, 0.02712681757096031), (2998, 0.009588891678952266), (2999, 0.0), (3000, 0.0467571814010784), (3001, 0.031122158968150675), (3002, 0.06085602162694609), (3003, 0.0), (3004, 0.0), (3005, 0.0707846951688859), (3006, 0.0), (3007, 0.015992109119617313), (3008, 0.02934299302669867), (3009, 0.0), (3010, 0.008861251803237675), (3011, 0.010563517849509181), (3012, 0.014792919652450885), (3013, 0.0), (3014, 0.0), (3015, 0.0), (3016, 0.0), (3017, 0.0), (3018, 0.02065496222268067), (3019, 0.017787325007255578), (3020, 0.01944110036128031), (3021, 0.0), (3022, 0.024770437396206643), (3023, 0.0), (3024, 0.04332424389109213), (3025, 0.0), (3026, 0.0), (3027, 0.0), (3028, 0.0), (3029, 0.0), (3030, 0.05510001832142991), (3031, 0.0), (3032, 0.008942838079105628), (3033, 0.010069444047919965), (3034, 0.0), (3035, 0.0), (3036, 0.0), (3037, 0.0), (3038, 0.0), (3039, 0.0), (3040, 0.0), (3041, 0.007754063094582), (3042, 0.0), (3043, 0.0), (3044, 0.0), (3045, 0.0), (3046, 0.0), (3047, 0.0), (3048, 0.0), (3049, 0.0), (3050, 0.0), (3051, 0.0), (3052, 0.0), (3053, 0.0), (3054, 0.0), (3055, 0.009869511462909803), (3056, 0.0), (3057, 0.037783592633626115), (3058, 0.0), (3059, 0.046389044299786686), (3060, 0.053907496065697474), (3061, 0.023381701592450573), (3062, 0.0), (3063, 0.0), (3064, 0.0), (3065, 0.0), (3066, 0.0), (3067, 0.0), (3068, 0.0), (3069, 0.0), (3070, 0.0), (3071, 0.019196678035156907), (3072, 0.010497344559748661), (3073, 0.0), (3074, 0.007869106313309017), (3075, 0.0), (3076, 0.0), (3077, 0.0), (3078, 0.024162028411913575), (3079, 0.0), (3080, 0.0), (3081, 0.016404716607645184), (3082, 0.0), (3083, 0.0), (3084, 0.0), (3085, 0.0), (3086, 0.0), (3087, 0.0), (3088, 0.007961295240743285), (3089, 0.0), (3090, 0.0), (3091, 0.0), (3092, 0.0), (3093, 0.0), (3094, 0.0), (3095, 0.0), (3096, 0.0), (3097, 0.0), (3098, 0.02409982210421173), (3099, 0.0), (3100, 0.0), (3101, 0.0), (3102, 0.0), (3103, 0.0), (3104, 0.033324021519059305), (3105, 0.0), (3106, 0.0), (3107, 0.0), (3108, 0.0), (3109, 0.0), (3110, 0.0), (3111, 0.0), (3112, 0.0), (3113, 0.0), (3114, 0.0), (3115, 0.0), (3116, 0.0), (3117, 0.019416829846476087), (3118, 0.0), (3119, 0.0), (3120, 0.012311665917228454), (3121, 0.0), (3122, 0.0), (3123, 0.0), (3124, 0.0), (3125, 0.04465147917452868), (3126, 0.0), (3127, 0.0), (3128, 0.0), (3129, 0.0), (3130, 0.0), (3131, 0.0), (3132, 0.027957103075638548), (3133, 0.0), (3134, 0.0), (3135, 0.0), (3136, 0.0), (3137, 0.0), (3138, 0.0), (3139, 0.01836961526092359), (3140, 0.0), (3141, 0.0), (3142, 0.007495754407484089), (3143, 0.0), (3144, 0.0), (3145, 0.0), (3146, 0.0), (3147, 0.04165240155052232), (3148, 0.0), (3149, 0.006807956759691386), (3150, 0.0), (3151, 0.0), (3152, 0.0), (3153, 0.021595812907242322), (3154, 0.007859627072216234), (3155, 0.0), (3156, 0.058629677630643515), (3157, 0.0), (3158, 0.0), (3159, 0.0), (3160, 0.0), (3161, 0.0919813643853695), (3162, 0.010410490629908098), (3163, 0.0), (3164, 0.020519814654218677), (3165, 0.016018280775590178), (3166, 0.0), (3167, 0.017411489178948227), (3168, 0.007019242404026115), (3169, 0.024747103545432345), (3170, 0.0), (3171, 0.0), (3172, 0.0), (3173, 0.0), (3174, 0.0), (3175, 0.0), (3176, 0.00938687784725746), (3177, 0.008080243431801649), (3178, 0.0), (3179, 0.0), (3180, 0.0), (3181, 0.0), (3182, 0.02374521064440732), (3183, 0.021841377352552486), (3184, 0.0), (3185, 0.0), (3186, 0.0), (3187, 0.0), (3188, 0.0), (3189, 0.0), (3190, 0.0298681757298088), (3191, 0.0), (3192, 0.0), (3193, 0.0), (3194, 0.021832731902209468), (3195, 0.0), (3196, 0.0), (3197, 0.0), (3198, 0.02338431544978196), (3199, 0.0), (3200, 0.0), (3201, 0.0), (3202, 0.0), (3203, 0.0), (3204, 0.0), (3205, 0.0), (3206, 0.0), (3207, 0.0), (3208, 0.026738164426467745), (3209, 0.0), (3210, 0.04603573622305164), (3211, 0.0), (3212, 0.0), (3213, 0.0), (3214, 0.0), (3215, 0.0), (3216, 0.06982624442947076), (3217, 0.017750319985429648), (3218, 0.0), (3219, 0.0), (3220, 0.047836257890084374), (3221, 0.0), (3222, 0.09135703710436419), (3223, 0.0), (3224, 0.0), (3225, 0.0), (3226, 0.0), (3227, 0.0), (3228, 0.04552721285049064), (3229, 0.0), (3230, 0.010957962975616464), (3231, 0.0), (3232, 0.0), (3233, 0.0), (3234, 0.0), (3235, 0.0), (3236, 0.04398822184890408), (3237, 0.007085274511524441), (3238, 0.0), (3239, 0.01922755911583987), (3240, 0.0), (3241, 0.0156356343461307), (3242, 0.010479914460555103), (3243, 0.0), (3244, 0.03742182100581145), (3245, 0.06163164057384793), (3246, 0.051993506552624705), (3247, 0.0), (3248, 0.0), (3249, 0.0), (3250, 0.0705261635378217), (3251, 0.07436407196184042), (3252, 0.0), (3253, 0.04595675454891002), (3254, 0.0), (3255, 0.006718292345232905), (3256, 0.0), (3257, 0.02830445640615281), (3258, 0.0), (3259, 0.009924674548717167), (3260, 0.0), (3261, 0.0), (3262, 0.0), (3263, 0.0), (3264, 0.0), (3265, 0.0), (3266, 0.0), (3267, 0.0), (3268, 0.0), (3269, 0.0), (3270, 0.0), (3271, 0.0), (3272, 0.0), (3273, 0.0), (3274, 0.0), (3275, 0.0), (3276, 0.0), (3277, 0.0), (3278, 0.0), (3279, 0.0), (3280, 0.0), (3281, 0.0), (3282, 0.0), (3283, 0.043777081077001415), (3284, 0.009888743176403344), (3285, 0.0), (3286, 0.008449068345352972), (3287, 0.02669362257666892), (3288, 0.0), (3289, 0.0), (3290, 0.0), (3291, 0.0), (3292, 0.0), (3293, 0.0), (3294, 0.0), (3295, 0.0), (3296, 0.0), (3297, 0.0), (3298, 0.0), (3299, 0.021201387227090022), (3300, 0.0), (3301, 0.0), (3302, 0.03431450689970668), (3303, 0.01684006307470919), (3304, 0.0), (3305, 0.0), (3306, 0.0), (3307, 0.0), (3308, 0.0), (3309, 0.0), (3310, 0.0), (3311, 0.04888218798297033), (3312, 0.0), (3313, 0.0), (3314, 0.01150844251361876), (3315, 0.0), (3316, 0.0), (3317, 0.0), (3318, 0.0), (3319, 0.0), (3320, 0.0), (3321, 0.0513227676704292), (3322, 0.0), (3323, 0.0), (3324, 0.0), (3325, 0.0), (3326, 0.0), (3327, 0.0), (3328, 0.0), (3329, 0.039435319354314026), (3330, 0.0), (3331, 0.0), (3332, 0.0), (3333, 0.0), (3334, 0.0), (3335, 0.00940462981394118), (3336, 0.016282750837045522), (3337, 0.0), (3338, 0.0), (3339, 0.0), (3340, 0.0), (3341, 0.0), (3342, 0.03510568503583993), (3343, 0.0), (3344, 0.02200090574515095), (3345, 0.026390978102704663), (3346, 0.0), (3347, 0.0), (3348, 0.0), (3349, 0.008611614700241426), (3350, 0.022979414891187273), (3351, 0.0), (3352, 0.00950620622596817), (3353, 0.0), (3354, 0.0), (3355, 0.021796019660721352), (3356, 0.0632773615872471), (3357, 0.007839929503288282), (3358, 0.00904311322600884), (3359, 0.008200646661269805), (3360, 0.0), (3361, 0.0), (3362, 0.010321231911933074), (3363, 0.0), (3364, 0.0), (3365, 0.0), (3366, 0.0), (3367, 0.0), (3368, 0.0), (3369, 0.0), (3370, 0.008935494297147491), (3371, 0.0), (3372, 0.0), (3373, 0.0), (3374, 0.0), (3375, 0.0), (3376, 0.007268665474939697), (3377, 0.0), (3378, 0.02183934092245413), (3379, 0.024114823575626818), (3380, 0.0), (3381, 0.0), (3382, 0.0), (3383, 0.0), (3384, 0.017290451495512196), (3385, 0.02374084222410627), (3386, 0.0), (3387, 0.010275537633513644), (3388, 0.0), (3389, 0.0), (3390, 0.0), (3391, 0.0), (3392, 0.018155976208408083), (3393, 0.0), (3394, 0.0), (3395, 0.0), (3396, 0.0), (3397, 0.0), (3398, 0.0), (3399, 0.0), (3400, 0.0), (3401, 0.017570204436537937), (3402, 0.0), (3403, 0.0), (3404, 0.010923075345711384), (3405, 0.0), (3406, 0.0), (3407, 0.0), (3408, 0.0), (3409, 0.0), (3410, 0.0), (3411, 0.052444320411464705), (3412, 0.0), (3413, 0.0), (3414, 0.0), (3415, 0.0), (3416, 0.0), (3417, 0.0), (3418, 0.0), (3419, 0.0), (3420, 0.0), (3421, 0.0), (3422, 0.0), (3423, 0.0), (3424, 0.0), (3425, 0.0), (3426, 0.0), (3427, 0.0), (3428, 0.0), (3429, 0.0), (3430, 0.016494438817708415), (3431, 0.00881567471195385), (3432, 0.0), (3433, 0.017658880502199055), (3434, 0.06921372222876557), (3435, 0.016544873761972858), (3436, 0.0), (3437, 0.0), (3438, 0.0), (3439, 0.0), (3440, 0.010811541971220699), (3441, 0.0), (3442, 0.0), (3443, 0.0), (3444, 0.0), (3445, 0.04292981777127868), (3446, 0.0), (3447, 0.0), (3448, 0.02449288805324557), (3449, 0.0), (3450, 0.0), (3451, 0.0), (3452, 0.0), (3453, 0.016633772734671856), (3454, 0.010372178208414832), (3455, 0.045135624193304975), (3456, 0.0), (3457, 0.0), (3458, 0.0), (3459, 0.0), (3460, 0.0), (3461, 0.0), (3462, 0.0), (3463, 0.04226254802340388), (3464, 0.0), (3465, 0.0), (3466, 0.018180271339816916), (3467, 0.0), (3468, 0.025164083536025797), (3469, 0.02750012351754043), (3470, 0.026496506292254206), (3471, 0.0), (3472, 0.0), (3473, 0.0), (3474, 0.0), (3475, 0.0), (3476, 0.0), (3477, 0.0), (3478, 0.0), (3479, 0.0), (3480, 0.0), (3481, 0.0), (3482, 0.01847707096249454), (3483, 0.0), (3484, 0.0), (3485, 0.010292893437261379), (3486, 0.0), (3487, 0.0), (3488, 0.009578614743431408), (3489, 0.0), (3490, 0.0), (3491, 0.0), (3492, 0.0), (3493, 0.0), (3494, 0.0), (3495, 0.0), (3496, 0.00690530432398784), (3497, 0.0), (3498, 0.03737545681727753), (3499, 0.0), (3500, 0.0), (3501, 0.0), (3502, 0.0), (3503, 0.0), (3504, 0.0), (3505, 0.0), (3506, 0.0), (3507, 0.0), (3508, 0.0), (3509, 0.0), (3510, 0.0), (3511, 0.0), (3512, 0.0), (3513, 0.0), (3514, 0.009826039372537069), (3515, 0.0), (3516, 0.0), (3517, 0.019539188761911977), (3518, 0.0), (3519, 0.0), (3520, 0.0), (3521, 0.0), (3522, 0.015083422884277902), (3523, 0.0), (3524, 0.0), (3525, 0.0), (3526, 0.0), (3527, 0.0), (3528, 0.0), (3529, 0.0), (3530, 0.0), (3531, 0.0), (3532, 0.017769700269488507), (3533, 0.02114750942294408), (3534, 0.0), (3535, 0.0), (3536, 0.0), (3537, 0.0), (3538, 0.0), (3539, 0.0), (3540, 0.01972738233417324), (3541, 0.0), (3542, 0.02940903609030066), (3543, 0.0), (3544, 0.0), (3545, 0.0), (3546, 0.0), (3547, 0.0), (3548, 0.0), (3549, 0.0), (3550, 0.0), (3551, 0.0), (3552, 0.04886127969458114), (3553, 0.0), (3554, 0.0), (3555, 0.021557688854975044), (3556, 0.0), (3557, 0.0), (3558, 0.01923510290085911), (3559, 0.0), (3560, 0.011266528870866363), (3561, 0.0), (3562, 0.07862962483561317), (3563, 0.0), (3564, 0.0), (3565, 0.010273906769427524), (3566, 0.0), (3567, 0.0), (3568, 0.0), (3569, 0.0), (3570, 0.0), (3571, 0.0), (3572, 0.0), (3573, 0.0), (3574, 0.04776469452354673), (3575, 0.0), (3576, 0.0), (3577, 0.0), (3578, 0.0), (3579, 0.0), (3580, 0.0), (3581, 0.027638401728125626), (3582, 0.0), (3583, 0.0), (3584, 0.0), (3585, 0.008592729118330516), (3586, 0.030389074907092153), (3587, 0.0), (3588, 0.0), (3589, 0.09212661979091506), (3590, 0.0), (3591, 0.02549581569446333), (3592, 0.0), (3593, 0.0), (3594, 0.0), (3595, 0.0), (3596, 0.0), (3597, 0.0), (3598, 0.0), (3599, 0.010194742239854889), (3600, 0.0), (3601, 0.05192254131637207), (3602, 0.0), (3603, 0.0), (3604, 0.0), (3605, 0.009283629335319466), (3606, 0.0), (3607, 0.0), (3608, 0.0), (3609, 0.0), (3610, 0.040386892858060956), (3611, 0.0), (3612, 0.0), (3613, 0.024790115430006927), (3614, 0.0), (3615, 0.0), (3616, 0.0), (3617, 0.0), (3618, 0.0), (3619, 0.0), (3620, 0.0), (3621, 0.0), (3622, 0.018146208716805386), (3623, 0.00809494015578996), (3624, 0.0), (3625, 0.0), (3626, 0.0), (3627, 0.0), (3628, 0.0), (3629, 0.0), (3630, 0.02163393048216255), (3631, 0.0), (3632, 0.0), (3633, 0.0), (3634, 0.0), (3635, 0.0), (3636, 0.0205591700597161), (3637, 0.0), (3638, 0.0), (3639, 0.0), (3640, 0.0), (3641, 0.0), (3642, 0.015580923593357828), (3643, 0.0), (3644, 0.0), (3645, 0.03291965272927793), (3646, 0.0), (3647, 0.061959771800829136), (3648, 0.02267743217427195), (3649, 0.0), (3650, 0.0), (3651, 0.0), (3652, 0.0), (3653, 0.0), (3654, 0.0), (3655, 0.0), (3656, 0.009490459462040583), (3657, 0.0), (3658, 0.0), (3659, 0.0), (3660, 0.0), (3661, 0.0), (3662, 0.0), (3663, 0.0), (3664, 0.016978826163939535), (3665, 0.0), (3666, 0.0), (3667, 0.0), (3668, 0.025631502201070886), (3669, 0.0), (3670, 0.0), (3671, 0.0), (3672, 0.0), (3673, 0.0), (3674, 0.022614848740970212), (3675, 0.0), (3676, 0.0), (3677, 0.0), (3678, 0.0), (3679, 0.0), (3680, 0.0), (3681, 0.0), (3682, 0.0), (3683, 0.0), (3684, 0.0), (3685, 0.0), (3686, 0.0), (3687, 0.0), (3688, 0.0), (3689, 0.025812368601391793), (3690, 0.0), (3691, 0.0), (3692, 0.0), (3693, 0.0), (3694, 0.0), (3695, 0.0), (3696, 0.0), (3697, 0.0), (3698, 0.04316740225992505), (3699, 0.0), (3700, 0.0322122450662935), (3701, 0.007939670601199109), (3702, 0.027278882953187422), (3703, 0.0), (3704, 0.015815750446818592), (3705, 0.0), (3706, 0.0), (3707, 0.0), (3708, 0.0), (3709, 0.0), (3710, 0.0), (3711, 0.0), (3712, 0.0), (3713, 0.0), (3714, 0.0), (3715, 0.0), (3716, 0.0), (3717, 0.0), (3718, 0.0), (3719, 0.0), (3720, 0.0), (3721, 0.00812413409148446), (3722, 0.0), (3723, 0.0), (3724, 0.0), (3725, 0.0), (3726, 0.0), (3727, 0.0), (3728, 0.0), (3729, 0.0), (3730, 0.0), (3731, 0.0), (3732, 0.0), (3733, 0.0), (3734, 0.0), (3735, 0.0), (3736, 0.0), (3737, 0.009021949434905923), (3738, 0.0), (3739, 0.023106661689094487), (3740, 0.0), (3741, 0.0), (3742, 0.02475510396968673), (3743, 0.0), (3744, 0.0), (3745, 0.018220572251025663), (3746, 0.0), (3747, 0.0), (3748, 0.0), (3749, 0.0), (3750, 0.0), (3751, 0.0), (3752, 0.0), (3753, 0.0), (3754, 0.008972411788182127), (3755, 0.05138180256968325), (3756, 0.007678059397040609), (3757, 0.0), (3758, 0.0), (3759, 0.009154478461337217), (3760, 0.0260906137395246), (3761, 0.04172793745630779), (3762, 0.0), (3763, 0.036555918441109655), (3764, 0.0), (3765, 0.0), (3766, 0.0), (3767, 0.0), (3768, 0.0), (3769, 0.0), (3770, 0.0), (3771, 0.0), (3772, 0.0), (3773, 0.0), (3774, 0.0), (3775, 0.0), (3776, 0.0), (3777, 0.0), (3778, 0.02345215238026658), (3779, 0.0), (3780, 0.0), (3781, 0.0), (3782, 0.0), (3783, 0.04744222406343232), (3784, 0.0), (3785, 0.0), (3786, 0.0), (3787, 0.0), (3788, 0.0), (3789, 0.0), (3790, 0.0), (3791, 0.0), (3792, 0.0), (3793, 0.0), (3794, 0.0), (3795, 0.010130763414367455), (3796, 0.0), (3797, 0.0), (3798, 0.0), (3799, 0.0), (3800, 0.0), (3801, 0.024084666972180212), (3802, 0.02537472684430362), (3803, 0.04937005992768509), (3804, 0.0), (3805, 0.008763310777586826), (3806, 0.0), (3807, 0.0), (3808, 0.0), (3809, 0.0), (3810, 0.0), (3811, 0.0), (3812, 0.030357498236412903), (3813, 0.0), (3814, 0.0), (3815, 0.0), (3816, 0.0), (3817, 0.016695317240722374), (3818, 0.0), (3819, 0.0), (3820, 0.0), (3821, 0.0), (3822, 0.0), (3823, 0.0), (3824, 0.0), (3825, 0.0), (3826, 0.0), (3827, 0.05198199880527719), (3828, 0.0), (3829, 0.0), (3830, 0.0), (3831, 0.0), (3832, 0.03371288115380805), (3833, 0.03991233680286472), (3834, 0.0), (3835, 0.022691393005459914), (3836, 0.0), (3837, 0.0), (3838, 0.0), (3839, 0.016327670220982825), (3840, 0.0), (3841, 0.0), (3842, 0.0), (3843, 0.0), (3844, 0.0), (3845, 0.0), (3846, 0.0), (3847, 0.0), (3848, 0.0), (3849, 0.0), (3850, 0.0), (3851, 0.027458003123395847), (3852, 0.0), (3853, 0.0), (3854, 0.0), (3855, 0.0), (3856, 0.0), (3857, 0.0), (3858, 0.0), (3859, 0.0), (3860, 0.015702873803775306), (3861, 0.0), (3862, 0.0), (3863, 0.0), (3864, 0.0), (3865, 0.010590593134899027), (3866, 0.0), (3867, 0.009673488656692437), (3868, 0.01663529809560572), (3869, 0.0), (3870, 0.025313863588304973), (3871, 0.0), (3872, 0.0), (3873, 0.0), (3874, 0.0), (3875, 0.0), (3876, 0.0), (3877, 0.009325102103253817), (3878, 0.0), (3879, 0.0), (3880, 0.0), (3881, 0.0), (3882, 0.008251773162236268), (3883, 0.0), (3884, 0.0), (3885, 0.024989236142166926), (3886, 0.0), (3887, 0.0), (3888, 0.0), (3889, 0.0506276915155263), (3890, 0.006872827435936315), (3891, 0.02058748357147706), (3892, 0.010122963210860189), (3893, 0.0), (3894, 0.0), (3895, 0.049191077020395726), (3896, 0.0), (3897, 0.0), (3898, 0.0), (3899, 0.027047891167464398), (3900, 0.0), (3901, 0.020823038652326067), (3902, 0.0), (3903, 0.0), (3904, 0.0155618938196651), (3905, 0.022066825634872406), (3906, 0.009080681047257396), (3907, 0.03845273726125339), (3908, 0.0), (3909, 0.0), (3910, 0.0), (3911, 0.010465903380624988), (3912, 0.0), (3913, 0.0), (3914, 0.01662994655598225), (3915, 0.0), (3916, 0.0), (3917, 0.0), (3918, 0.0), (3919, 0.0), (3920, 0.0), (3921, 0.0), (3922, 0.0), (3923, 0.0), (3924, 0.0), (3925, 0.010801557028875546), (3926, 0.04636390726263202), (3927, 0.0), (3928, 0.0), (3929, 0.0), (3930, 0.0), (3931, 0.0), (3932, 0.0), (3933, 0.0), (3934, 0.010312817217817643), (3935, 0.0), (3936, 0.0), (3937, 0.0), (3938, 0.0), (3939, 0.0), (3940, 0.0), (3941, 0.0), (3942, 0.026042992031124545), (3943, 0.0), (3944, 0.0), (3945, 0.0), (3946, 0.0), (3947, 0.0), (3948, 0.0), (3949, 0.0), (3950, 0.17676816889265928), (3951, 0.0), (3952, 0.0), (3953, 0.0), (3954, 0.0), (3955, 0.0), (3956, 0.0), (3957, 0.0), (3958, 0.0), (3959, 0.0), (3960, 0.0), (3961, 0.0), (3962, 0.0200340110256451), (3963, 0.0), (3964, 0.0), (3965, 0.0), (3966, 0.0), (3967, 0.0), (3968, 0.0), (3969, 0.0), (3970, 0.0), (3971, 0.0), (3972, 0.0), (3973, 0.0), (3974, 0.0), (3975, 0.0), (3976, 0.0), (3977, 0.0), (3978, 0.0), (3979, 0.0), (3980, 0.0), (3981, 0.0), (3982, 0.0), (3983, 0.0), (3984, 0.0), (3985, 0.0), (3986, 0.0), (3987, 0.0), (3988, 0.0), (3989, 0.0), (3990, 0.0), (3991, 0.024620897844356667), (3992, 0.01673407333537707), (3993, 0.02285668758780768), (3994, 0.05175174604257076), (3995, 0.022430671669273206), (3996, 0.0), (3997, 0.01435389648541067), (3998, 0.0), (3999, 0.0), (4000, 0.017098759573736477), (4001, 0.0), (4002, 0.0), (4003, 0.0), (4004, 0.024186008118923973), (4005, 0.0), (4006, 0.0), (4007, 0.0), (4008, 0.0), (4009, 0.038233744691124755), (4010, 0.0), (4011, 0.0), (4012, 0.0), (4013, 0.0), (4014, 0.02645660196115777), (4015, 0.0), (4016, 0.01923392086267574), (4017, 0.021046170623877564), (4018, 0.021672080955270467), (4019, 0.01577477206170742), (4020, 0.022926953088474956), (4021, 0.0), (4022, 0.0), (4023, 0.0), (4024, 0.0), (4025, 0.0), (4026, 0.0), (4027, 0.0), (4028, 0.06499797344532228), (4029, 0.0), (4030, 0.0), (4031, 0.0), (4032, 0.0), (4033, 0.0), (4034, 0.0), (4035, 0.0), (4036, 0.0), (4037, 0.0), (4038, 0.019917575027435238), (4039, 0.0), (4040, 0.0), (4041, 0.04664553379224574), (4042, 0.0), (4043, 0.0), (4044, 0.0), (4045, 0.030849843125006042), (4046, 0.0), (4047, 0.0), (4048, 0.06027448361345291), (4049, 0.0), (4050, 0.0), (4051, 0.011676886047651856), (4052, 0.0), (4053, 0.0), (4054, 0.04514408846806893), (4055, 0.031799552897737705), (4056, 0.026448341870642794), (4057, 0.0), (4058, 0.016014820008023394), (4059, 0.0), (4060, 0.0), (4061, 0.0), (4062, 0.0), (4063, 0.0), (4064, 0.0), (4065, 0.0), (4066, 0.0), (4067, 0.012217441368477466), (4068, 0.0), (4069, 0.0), (4070, 0.0), (4071, 0.0), (4072, 0.0), (4073, 0.0), (4074, 0.0), (4075, 0.0), (4076, 0.0), (4077, 0.007261958530504832), (4078, 0.0), (4079, 0.02038111697590464), (4080, 0.0), (4081, 0.0), (4082, 0.0), (4083, 0.09785835919958781), (4084, 0.0), (4085, 0.0), (4086, 0.0), (4087, 0.0), (4088, 0.0), (4089, 0.05273303704021962), (4090, 0.006318015923718471), (4091, 0.0), (4092, 0.0), (4093, 0.015386287457580151), (4094, 0.04771497114344878), (4095, 0.0), (4096, 0.009890679407289205), (4097, 0.0), (4098, 0.0), (4099, 0.0), (4100, 0.0), (4101, 0.0), (4102, 0.0), (4103, 0.0), (4104, 0.0), (4105, 0.0), (4106, 0.0), (4107, 0.0), (4108, 0.0), (4109, 0.015799496460077354), (4110, 0.0), (4111, 0.0), (4112, 0.0), (4113, 0.0), (4114, 0.0), (4115, 0.01693220492937289), (4116, 0.0), (4117, 0.0), (4118, 0.0), (4119, 0.0), (4120, 0.0), (4121, 0.0), (4122, 0.0), (4123, 0.03344125844537718), (4124, 0.0), (4125, 0.0), (4126, 0.0), (4127, 0.0), (4128, 0.0), (4129, 0.0), (4130, 0.0), (4131, 0.0), (4132, 0.0), (4133, 0.0), (4134, 0.025545050392987895), (4135, 0.0), (4136, 0.04803239407328498), (4137, 0.02254070003308525), (4138, 0.0), (4139, 0.0), (4140, 0.014777069216113598), (4141, 0.0), (4142, 0.0), (4143, 0.0), (4144, 0.0), (4145, 0.0), (4146, 0.0), (4147, 0.0), (4148, 0.0), (4149, 0.0), (4150, 0.0), (4151, 0.0), (4152, 0.008881690701641024), (4153, 0.0), (4154, 0.0), (4155, 0.0), (4156, 0.06140838892058345), (4157, 0.0), (4158, 0.0), (4159, 0.0), (4160, 0.0), (4161, 0.00842063718453512), (4162, 0.0), (4163, 0.0), (4164, 0.06358526001621362), (4165, 0.0), (4166, 0.0), (4167, 0.0), (4168, 0.0), (4169, 0.0), (4170, 0.01915011744913061), (4171, 0.0), (4172, 0.0), (4173, 0.0), (4174, 0.0), (4175, 0.0), (4176, 0.0), (4177, 0.0), (4178, 0.0), (4179, 0.0), (4180, 0.030355553733672522), (4181, 0.0), (4182, 0.016651268744580835), (4183, 0.0), (4184, 0.0), (4185, 0.0), (4186, 0.03978466111704348), (4187, 0.010342336951808183), (4188, 0.006697585355666361), (4189, 0.0), (4190, 0.0), (4191, 0.0), (4192, 0.0), (4193, 0.0), (4194, 0.0), (4195, 0.0), (4196, 0.0), (4197, 0.01727979669269211), (4198, 0.0), (4199, 0.03700636689695139), (4200, 0.0), (4201, 0.0), (4202, 0.0), (4203, 0.0), (4204, 0.0), (4205, 0.0), (4206, 0.0), (4207, 0.0), (4208, 0.03406404292352269), (4209, 0.0), (4210, 0.0), (4211, 0.0), (4212, 0.0), (4213, 0.0), (4214, 0.0), (4215, 0.0), (4216, 0.0), (4217, 0.014152864939871323), (4218, 0.0), (4219, 0.0), (4220, 0.0), (4221, 0.0), (4222, 0.0), (4223, 0.0), (4224, 0.0), (4225, 0.020066101422733205), (4226, 0.0), (4227, 0.0), (4228, 0.0), (4229, 0.0), (4230, 0.0), (4231, 0.022215194452463755), (4232, 0.0), (4233, 0.0), (4234, 0.015831000057898618), (4235, 0.0), (4236, 0.0), (4237, 0.0), (4238, 0.01082697490239419), (4239, 0.0), (4240, 0.0), (4241, 0.0), (4242, 0.0), (4243, 0.0), (4244, 0.0), (4245, 0.0), (4246, 0.0), (4247, 0.0), (4248, 0.0), (4249, 0.0), (4250, 0.0), (4251, 0.0215632441957231), (4252, 0.0), (4253, 0.0), (4254, 0.0), (4255, 0.014699241359585799), (4256, 0.0), (4257, 0.02554213059888387), (4258, 0.0), (4259, 0.0), (4260, 0.0), (4261, 0.0), (4262, 0.0), (4263, 0.0), (4264, 0.0), (4265, 0.024346464149471097), (4266, 0.0), (4267, 0.0), (4268, 0.0), (4269, 0.0), (4270, 0.0), (4271, 0.0), (4272, 0.0), (4273, 0.07529831654947858), (4274, 0.0), (4275, 0.0), (4276, 0.0), (4277, 0.0), (4278, 0.0), (4279, 0.0), (4280, 0.0), (4281, 0.0), (4282, 0.036400852465269015), (4283, 0.0), (4284, 0.0), (4285, 0.0), (4286, 0.0), (4287, 0.0), (4288, 0.0), (4289, 0.0), (4290, 0.021939963365352463), (4291, 0.0), (4292, 0.033287532741870025), (4293, 0.0), (4294, 0.0), (4295, 0.0), (4296, 0.0), (4297, 0.0), (4298, 0.0), (4299, 0.0), (4300, 0.0), (4301, 0.0), (4302, 0.0), (4303, 0.0), (4304, 0.0), (4305, 0.0), (4306, 0.0), (4307, 0.0), (4308, 0.0), (4309, 0.0), (4310, 0.0), (4311, 0.0), (4312, 0.0), (4313, 0.0), (4314, 0.0), (4315, 0.0), (4316, 0.008430561699103934), (4317, 0.0), (4318, 0.03178622811331501), (4319, 0.0), (4320, 0.0), (4321, 0.0869080746110496), (4322, 0.007687713625926376), (4323, 0.0), (4324, 0.0), (4325, 0.0), (4326, 0.0), (4327, 0.0), (4328, 0.0), (4329, 0.0), (4330, 0.0), (4331, 0.027723087560575566), (4332, 0.0), (4333, 0.020651342065786404), (4334, 0.0), (4335, 0.0644062649949183), (4336, 0.0), (4337, 0.0), (4338, 0.026804006186977564), (4339, 0.026487964626906835), (4340, 0.0), (4341, 0.029220705839960847), (4342, 0.0), (4343, 0.0), (4344, 0.0), (4345, 0.01885989598834912), (4346, 0.0), (4347, 0.0), (4348, 0.0), (4349, 0.021184920132430538), (4350, 0.026812084059079283), (4351, 0.0), (4352, 0.0), (4353, 0.0), (4354, 0.0), (4355, 0.0), (4356, 0.0), (4357, 0.0), (4358, 0.0), (4359, 0.007766905965785806), (4360, 0.0), (4361, 0.0), (4362, 0.0), (4363, 0.0), (4364, 0.0), (4365, 0.01162513166444691), (4366, 0.02755584314723866), (4367, 0.0), (4368, 0.0), (4369, 0.0), (4370, 0.0), (4371, 0.0), (4372, 0.0), (4373, 0.0), (4374, 0.0), (4375, 0.0), (4376, 0.0), (4377, 0.0), (4378, 0.025922018677499103), (4379, 0.016855221809518976), (4380, 0.0), (4381, 0.0), (4382, 0.0), (4383, 0.0), (4384, 0.0), (4385, 0.0), (4386, 0.02348067261287486), (4387, 0.0), (4388, 0.0), (4389, 0.014151266071140738), (4390, 0.0), (4391, 0.0), (4392, 0.009124144192182786), (4393, 0.0), (4394, 0.032928254075297744), (4395, 0.0), (4396, 0.0), (4397, 0.0), (4398, 0.017125519142803237), (4399, 0.0), (4400, 0.0), (4401, 0.0), (4402, 0.0), (4403, 0.0), (4404, 0.020562173233379732), (4405, 0.0), (4406, 0.0), (4407, 0.0), (4408, 0.0), (4409, 0.0), (4410, 0.0), (4411, 0.0), (4412, 0.0), (4413, 0.0), (4414, 0.0), (4415, 0.0), (4416, 0.0), (4417, 0.0), (4418, 0.0), (4419, 0.0), (4420, 0.0), (4421, 0.0), (4422, 0.0), (4423, 0.0), (4424, 0.0), (4425, 0.0), (4426, 0.0), (4427, 0.0), (4428, 0.0), (4429, 0.022097666438350393), (4430, 0.0), (4431, 0.0), (4432, 0.0), (4433, 0.02129613653344307), (4434, 0.0), (4435, 0.0), (4436, 0.0), (4437, 0.0), (4438, 0.0), (4439, 0.0), (4440, 0.0), (4441, 0.0), (4442, 0.0), (4443, 0.0), (4444, 0.0), (4445, 0.0), (4446, 0.0), (4447, 0.030761894668681983), (4448, 0.0), (4449, 0.0), (4450, 0.0), (4451, 0.0), (4452, 0.0), (4453, 0.0), (4454, 0.04566775937704402), (4455, 0.019666061545662448), (4456, 0.0), (4457, 0.0), (4458, 0.0), (4459, 0.0), (4460, 0.0), (4461, 0.0), (4462, 0.0), (4463, 0.0), (4464, 0.0), (4465, 0.0), (4466, 0.0), (4467, 0.0), (4468, 0.0), (4469, 0.0), (4470, 0.0), (4471, 0.0), (4472, 0.0), (4473, 0.017283819772768615), (4474, 0.0), (4475, 0.0), (4476, 0.052631162091713306), (4477, 0.0), (4478, 0.0), (4479, 0.0), (4480, 0.0), (4481, 0.0), (4482, 0.0), (4483, 0.0), (4484, 0.0), (4485, 0.0), (4486, 0.0), (4487, 0.0), (4488, 0.012779835112415752), (4489, 0.0), (4490, 0.0), (4491, 0.0), (4492, 0.02600330185618311), (4493, 0.0), (4494, 0.0), (4495, 0.0), (4496, 0.0), (4497, 0.0), (4498, 0.0), (4499, 0.0), (4500, 0.0), (4501, 0.0), (4502, 0.0), (4503, 0.0), (4504, 0.0), (4505, 0.0), (4506, 0.0), (4507, 0.0), (4508, 0.0), (4509, 0.0), (4510, 0.0), (4511, 0.0), (4512, 0.0), (4513, 0.013890812418783715), (4514, 0.0), (4515, 0.0), (4516, 0.0), (4517, 0.0), (4518, 0.0), (4519, 0.0), (4520, 0.0), (4521, 0.0), (4522, 0.02123232372685218), (4523, 0.0), (4524, 0.02156803607551482), (4525, 0.0), (4526, 0.0), (4527, 0.0), (4528, 0.0), (4529, 0.01018742201217679), (4530, 0.0), (4531, 0.0), (4532, 0.0), (4533, 0.0), (4534, 0.0), (4535, 0.0), (4536, 0.0), (4537, 0.0), (4538, 0.0), (4539, 0.04674950055962678), (4540, 0.0), (4541, 0.0), (4542, 0.0), (4543, 0.0), (4544, 0.0), (4545, 0.024329515428084134), (4546, 0.0), (4547, 0.0), (4548, 0.07415265946829994), (4549, 0.0), (4550, 0.0), (4551, 0.02086483626710278), (4552, 0.0), (4553, 0.0), (4554, 0.0), (4555, 0.0), (4556, 0.0), (4557, 0.0), (4558, 0.0), (4559, 0.0), (4560, 0.0), (4561, 0.020826921925935375), (4562, 0.0), (4563, 0.0), (4564, 0.014862338456715042), (4565, 0.0), (4566, 0.0), (4567, 0.0), (4568, 0.0), (4569, 0.018437995146963572), (4570, 0.0), (4571, 0.0), (4572, 0.0), (4573, 0.0), (4574, 0.0), (4575, 0.0), (4576, 0.0), (4577, 0.0), (4578, 0.0), (4579, 0.0), (4580, 0.0), (4581, 0.0), (4582, 0.0), (4583, 0.02146421499701263), (4584, 0.0), (4585, 0.0061192843343066605), (4586, 0.0), (4587, 0.0), (4588, 0.0), (4589, 0.0), (4590, 0.0), (4591, 0.0), (4592, 0.0), (4593, 0.0), (4594, 0.0), (4595, 0.0), (4596, 0.0), (4597, 0.0), (4598, 0.0), (4599, 0.0), (4600, 0.0), (4601, 0.0), (4602, 0.0), (4603, 0.0), (4604, 0.0), (4605, 0.0), (4606, 0.0), (4607, 0.0), (4608, 0.0), (4609, 0.03576620456776104), (4610, 0.0), (4611, 0.009105357005728973), (4612, 0.0), (4613, 0.0), (4614, 0.0), (4615, 0.0), (4616, 0.01182212314376286), (4617, 0.0), (4618, 0.0), (4619, 0.012398735476243357), (4620, 0.0), (4621, 0.0), (4622, 0.0), (4623, 0.0), (4624, 0.0), (4625, 0.0), (4626, 0.0), (4627, 0.0), (4628, 0.0), (4629, 0.04070258645479676), (4630, 0.0), (4631, 0.0), (4632, 0.0), (4633, 0.0), (4634, 0.0), (4635, 0.0), (4636, 0.0), (4637, 0.0), (4638, 0.0), (4639, 0.0), (4640, 0.0), (4641, 0.0), (4642, 0.0162368209071925), (4643, 0.0), (4644, 0.0), (4645, 0.019719155233361523), (4646, 0.0), (4647, 0.0), (4648, 0.0), (4649, 0.0), (4650, 0.0), (4651, 0.0), (4652, 0.0), (4653, 0.018342305579932466), (4654, 0.0), (4655, 0.024734408375119872), (4656, 0.0), (4657, 0.0), (4658, 0.0), (4659, 0.0), (4660, 0.0), (4661, 0.0), (4662, 0.0), (4663, 0.0), (4664, 0.0), (4665, 0.027452671944795705), (4666, 0.0), (4667, 0.0), (4668, 0.0), (4669, 0.0), (4670, 0.0), (4671, 0.0), (4672, 0.0), (4673, 0.0), (4674, 0.0), (4675, 0.0455606839017593), (4676, 0.06241489914649618), (4677, 0.0), (4678, 0.0), (4679, 0.0), (4680, 0.0), (4681, 0.010752515674751266), (4682, 0.0), (4683, 0.011581067617784765), (4684, 0.0), (4685, 0.0), (4686, 0.0), (4687, 0.0), (4688, 0.0), (4689, 0.0), (4690, 0.0), (4691, 0.0), (4692, 0.0), (4693, 0.0), (4694, 0.01856822635978328), (4695, 0.0), (4696, 0.0), (4697, 0.0), (4698, 0.0), (4699, 0.0), (4700, 0.0), (4701, 0.017274389087485176), (4702, 0.0), (4703, 0.0), (4704, 0.0), (4705, 0.0), (4706, 0.0), (4707, 0.0), (4708, 0.0), (4709, 0.0), (4710, 0.025247651647944243), (4711, 0.0), (4712, 0.0), (4713, 0.0), (4714, 0.0), (4715, 0.02607940461958652), (4716, 0.0), (4717, 0.0), (4718, 0.0), (4719, 0.0), (4720, 0.0), (4721, 0.0), (4722, 0.0), (4723, 0.0), (4724, 0.01592087483699456), (4725, 0.0), (4726, 0.0), (4727, 0.0), (4728, 0.02452484358649947), (4729, 0.039588833065092234), (4730, 0.02394663054333878), (4731, 0.020561309111911365), (4732, 0.0), (4733, 0.0), (4734, 0.06020043059240396), (4735, 0.0), (4736, 0.0), (4737, 0.0), (4738, 0.0), (4739, 0.0), (4740, 0.0), (4741, 0.0), (4742, 0.0), (4743, 0.0), (4744, 0.0), (4745, 0.0), (4746, 0.009536565242774329), (4747, 0.0), (4748, 0.0), (4749, 0.0), (4750, 0.020255180821530133), (4751, 0.019875846272209563), (4752, 0.0), (4753, 0.0), (4754, 0.0), (4755, 0.0), (4756, 0.0), (4757, 0.0), (4758, 0.031088769271003843), (4759, 0.0), (4760, 0.0), (4761, 0.0), (4762, 0.0), (4763, 0.0), (4764, 0.022519919578132836), (4765, 0.0), (4766, 0.0), (4767, 0.0), (4768, 0.0), (4769, 0.0), (4770, 0.0), (4771, 0.0), (4772, 0.0), (4773, 0.0), (4774, 0.0), (4775, 0.0), (4776, 0.0), (4777, 0.0), (4778, 0.010995148919443315), (4779, 0.0), (4780, 0.0), (4781, 0.0), (4782, 0.0), (4783, 0.0), (4784, 0.0), (4785, 0.0), (4786, 0.0), (4787, 0.0), (4788, 0.0), (4789, 0.0), (4790, 0.0), (4791, 0.0), (4792, 0.0), (4793, 0.023556802349027302), (4794, 0.0), (4795, 0.021596357475932505), (4796, 0.0), (4797, 0.0), (4798, 0.0), (4799, 0.0), (4800, 0.0), (4801, 0.0), (4802, 0.018735143155335268), (4803, 0.0), (4804, 0.0), (4805, 0.0), (4806, 0.0), (4807, 0.0), (4808, 0.0)]\n"
          ]
        }
      ]
    },
    {
      "cell_type": "code",
      "source": [
        "len(similarity_score)"
      ],
      "metadata": {
        "colab": {
          "base_uri": "https://localhost:8080/"
        },
        "id": "m2NSEbCFaanj",
        "outputId": "fc4de453-13c0-4a70-ac1e-5ee458436a4d"
      },
      "execution_count": null,
      "outputs": [
        {
          "output_type": "execute_result",
          "data": {
            "text/plain": [
              "4809"
            ]
          },
          "metadata": {},
          "execution_count": 87
        }
      ]
    },
    {
      "cell_type": "code",
      "source": [
        "#SORTING THE MOVIES BASED ON THEIR SIMILARITY SCORE\n",
        "sorted_similar_movies= sorted(similarity_score,key= lambda x:x[1], reverse=True)"
      ],
      "metadata": {
        "id": "qAG5nJ5arnOR"
      },
      "execution_count": null,
      "outputs": []
    },
    {
      "cell_type": "code",
      "source": [
        "#print the name of similar movies based on the index\n",
        "print('Movies suggested for you: ')\n",
        "i=1\n",
        "for movie in sorted_similar_movies:\n",
        "  index=movie[0]\n",
        "  title_from_index=movies_data[movies_data.index==index]['title'].values\n",
        "  if(i<30):\n",
        "    print(i,',',title_from_index)\n",
        "    i+=1"
      ],
      "metadata": {
        "colab": {
          "base_uri": "https://localhost:8080/"
        },
        "id": "VNeSmCWBrnbA",
        "outputId": "515d4973-e8b9-4b70-c7ae-0f213753c20b"
      },
      "execution_count": null,
      "outputs": [
        {
          "output_type": "stream",
          "name": "stdout",
          "text": [
            "Movies suggested for you: \n",
            "1 , ['Monsters vs Aliens']\n",
            "2 , ['Pacific Rim']\n",
            "3 , ['Sausage Party']\n",
            "4 , ['Zathura: A Space Adventure']\n",
            "5 , ['Transformers: Age of Extinction']\n",
            "6 , ['Aliens in the Attic']\n",
            "7 , ['Freeway']\n",
            "8 , ['How Do You Know']\n",
            "9 , ['Penguins of Madagascar']\n",
            "10 , ['This Is the End']\n",
            "11 , ['The 40 Year Old Virgin']\n",
            "12 , ['The Iron Giant']\n",
            "13 , ['Knocked Up']\n",
            "14 , ['Titan A.E.']\n",
            "15 , ['Stuart Little 2']\n",
            "16 , ['Valiant']\n",
            "17 , ['The Interview']\n",
            "18 , ['Mars Needs Moms']\n",
            "19 , ['Planet 51']\n",
            "20 , [\"Madagascar 3: Europe's Most Wanted\"]\n",
            "21 , ['Home']\n",
            "22 , ['Real Steel']\n",
            "23 , ['Jack the Giant Slayer']\n",
            "24 , ['Paul']\n",
            "25 , ['Four Christmases']\n",
            "26 , ['Arthur Christmas']\n",
            "27 , ['Dark City']\n",
            "28 , ['Stuart Little']\n",
            "29 , ['Tomorrowland']\n"
          ]
        }
      ]
    },
    {
      "cell_type": "code",
      "source": [
        "movie_name= input('ENTER YOUR FAVORITE MOVIE NAME---')\n",
        "\n",
        "if not isinstance(movie_name, str):\n",
        "    movie_name = str(movie_name)\n",
        "\n",
        "list_all_titles = [str(title) for title in list_all_titles]\n",
        "\n",
        "find_close_match=difflib.get_close_matches(movie_name, list_all_titles)\n",
        "\n",
        "close_match=find_close_match[0]\n",
        "\n",
        "index_movie= movies_data[movies_data.title == close_match]['index'].values[0]\n",
        "similarity_score= list(enumerate(similarity[68]))\n",
        "sorted_similar_movies= sorted(similarity_score,key= lambda x:x[1], reverse=True)\n",
        "\n",
        "print('Movies suggested for you: ')\n",
        "i=1\n",
        "for movie in sorted_similar_movies:\n",
        "  index=movie[0]\n",
        "  title_from_index=movies_data[movies_data.index==index]['title'].values\n",
        "  if(i<30):\n",
        "    print(i,',',title_from_index)\n",
        "    i+=1"
      ],
      "metadata": {
        "colab": {
          "base_uri": "https://localhost:8080/"
        },
        "id": "IoPyHti8rnlA",
        "outputId": "e9866c2a-4009-455e-de0d-714856123913"
      },
      "execution_count": null,
      "outputs": [
        {
          "output_type": "stream",
          "name": "stdout",
          "text": [
            "ENTER YOUR FAVORITE MOVIE NAME---avatar\n",
            "Movies suggested for you: \n",
            "1 , ['Monsters vs Aliens']\n",
            "2 , ['Pacific Rim']\n",
            "3 , ['Sausage Party']\n",
            "4 , ['Zathura: A Space Adventure']\n",
            "5 , ['Transformers: Age of Extinction']\n",
            "6 , ['Aliens in the Attic']\n",
            "7 , ['Freeway']\n",
            "8 , ['How Do You Know']\n",
            "9 , ['Penguins of Madagascar']\n",
            "10 , ['This Is the End']\n",
            "11 , ['The 40 Year Old Virgin']\n",
            "12 , ['The Iron Giant']\n",
            "13 , ['Knocked Up']\n",
            "14 , ['Titan A.E.']\n",
            "15 , ['Stuart Little 2']\n",
            "16 , ['Valiant']\n",
            "17 , ['The Interview']\n",
            "18 , ['Mars Needs Moms']\n",
            "19 , ['Planet 51']\n",
            "20 , [\"Madagascar 3: Europe's Most Wanted\"]\n",
            "21 , ['Home']\n",
            "22 , ['Real Steel']\n",
            "23 , ['Jack the Giant Slayer']\n",
            "24 , ['Paul']\n",
            "25 , ['Four Christmases']\n",
            "26 , ['Arthur Christmas']\n",
            "27 , ['Dark City']\n",
            "28 , ['Stuart Little']\n",
            "29 , ['Tomorrowland']\n"
          ]
        }
      ]
    }
  ],
  "metadata": {
    "colab": {
      "provenance": [],
      "authorship_tag": "ABX9TyMUyofjNd9oV3gQRKdLFYAv",
      "include_colab_link": true
    },
    "kernelspec": {
      "display_name": "Python 3",
      "name": "python3"
    },
    "language_info": {
      "name": "python"
    }
  },
  "nbformat": 4,
  "nbformat_minor": 0
}